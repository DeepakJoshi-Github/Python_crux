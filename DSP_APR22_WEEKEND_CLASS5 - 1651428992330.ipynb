{
 "cells": [
  {
   "cell_type": "code",
   "execution_count": 1,
   "id": "98ce3063",
   "metadata": {},
   "outputs": [],
   "source": [
    "t1 = (1, 2, 3, 4)"
   ]
  },
  {
   "cell_type": "code",
   "execution_count": 2,
   "id": "2dc5cf83",
   "metadata": {
    "scrolled": true
   },
   "outputs": [
    {
     "name": "stdout",
     "output_type": "stream",
     "text": [
      "[10, 20, 30, 40, 50]\n",
      "[10, 20, 30, 40, 50]\n",
      "[10, 20, 30, 40, 50]\n",
      "[10, 20, 30, 40, 50]\n",
      "[10, 20, 30, 40, 50]\n"
     ]
    }
   ],
   "source": [
    "l1 = [10, 20, 30, 40, 50]\n",
    "\n",
    "for var in l1:    # condition not defined for loop.\n",
    "    print(l1)"
   ]
  },
  {
   "cell_type": "code",
   "execution_count": 3,
   "id": "abed70e2",
   "metadata": {},
   "outputs": [],
   "source": [
    "d1 = { 1: 10, 2:20, 3:30 }"
   ]
  },
  {
   "cell_type": "code",
   "execution_count": 4,
   "id": "2ddb86ee",
   "metadata": {},
   "outputs": [
    {
     "data": {
      "text/plain": [
       "20"
      ]
     },
     "execution_count": 4,
     "metadata": {},
     "output_type": "execute_result"
    }
   ],
   "source": [
    "d1[2]"
   ]
  },
  {
   "cell_type": "markdown",
   "id": "971bc400",
   "metadata": {},
   "source": [
    "### sets"
   ]
  },
  {
   "cell_type": "markdown",
   "id": "620326ab",
   "metadata": {},
   "source": [
    "keyless dict\n",
    "\n",
    "    - sets will store the unique data in the ordered form\n",
    "    - values should be immutable type\n",
    "    - sets can be used as iterables\n",
    "    - we can not get the data out of set using index or key"
   ]
  },
  {
   "cell_type": "raw",
   "id": "c7171ef7",
   "metadata": {},
   "source": [
    "s1 = { v1, v2, v3, v4, .... }"
   ]
  },
  {
   "cell_type": "code",
   "execution_count": 2,
   "id": "ec06437e",
   "metadata": {},
   "outputs": [],
   "source": [
    "s1 = { 1, 2, 4, 5, 4, 1 }"
   ]
  },
  {
   "cell_type": "code",
   "execution_count": 6,
   "id": "d2f46455",
   "metadata": {},
   "outputs": [
    {
     "data": {
      "text/plain": [
       "set"
      ]
     },
     "execution_count": 6,
     "metadata": {},
     "output_type": "execute_result"
    }
   ],
   "source": [
    "type(s1)"
   ]
  },
  {
   "cell_type": "code",
   "execution_count": 7,
   "id": "3fe2fd70",
   "metadata": {},
   "outputs": [
    {
     "data": {
      "text/plain": [
       "4"
      ]
     },
     "execution_count": 7,
     "metadata": {},
     "output_type": "execute_result"
    }
   ],
   "source": [
    "len(s1)"
   ]
  },
  {
   "cell_type": "code",
   "execution_count": 8,
   "id": "e6f42c3a",
   "metadata": {},
   "outputs": [
    {
     "data": {
      "text/plain": [
       "{1, 2, 4, 5}"
      ]
     },
     "execution_count": 8,
     "metadata": {},
     "output_type": "execute_result"
    }
   ],
   "source": [
    "s1"
   ]
  },
  {
   "cell_type": "code",
   "execution_count": 9,
   "id": "f04a31b2",
   "metadata": {},
   "outputs": [],
   "source": [
    "s2 = { 1, 2, 8, 4, 5, 6, 7, 8, 9, 1, 2, 3, 5, 1, 2, 4, 2, 1, 4, 3, 9}"
   ]
  },
  {
   "cell_type": "code",
   "execution_count": 10,
   "id": "9601a789",
   "metadata": {},
   "outputs": [
    {
     "data": {
      "text/plain": [
       "{1, 2, 3, 4, 5, 6, 7, 8, 9}"
      ]
     },
     "execution_count": 10,
     "metadata": {},
     "output_type": "execute_result"
    }
   ],
   "source": [
    "s2"
   ]
  },
  {
   "cell_type": "code",
   "execution_count": 11,
   "id": "bff35552",
   "metadata": {},
   "outputs": [],
   "source": [
    "s3 = { t1 , 10, 10.5, 'text', True }"
   ]
  },
  {
   "cell_type": "code",
   "execution_count": 12,
   "id": "c709e3e9",
   "metadata": {},
   "outputs": [
    {
     "data": {
      "text/plain": [
       "{(1, 2, 3, 4), 10, 10.5, True, 'text'}"
      ]
     },
     "execution_count": 12,
     "metadata": {},
     "output_type": "execute_result"
    }
   ],
   "source": [
    "s3"
   ]
  },
  {
   "cell_type": "code",
   "execution_count": 13,
   "id": "15eea34b",
   "metadata": {},
   "outputs": [
    {
     "data": {
      "text/plain": [
       "{1, 2, 4, 5}"
      ]
     },
     "execution_count": 13,
     "metadata": {},
     "output_type": "execute_result"
    }
   ],
   "source": [
    "s1"
   ]
  },
  {
   "cell_type": "code",
   "execution_count": 14,
   "id": "2c54ec12",
   "metadata": {},
   "outputs": [
    {
     "ename": "TypeError",
     "evalue": "'set' object is not subscriptable",
     "output_type": "error",
     "traceback": [
      "\u001b[1;31m---------------------------------------------------------------------------\u001b[0m",
      "\u001b[1;31mTypeError\u001b[0m                                 Traceback (most recent call last)",
      "\u001b[1;32mC:\\Users\\DEEPAK~1\\AppData\\Local\\Temp/ipykernel_7792/625738788.py\u001b[0m in \u001b[0;36m<module>\u001b[1;34m\u001b[0m\n\u001b[1;32m----> 1\u001b[1;33m \u001b[0ms1\u001b[0m\u001b[1;33m[\u001b[0m\u001b[1;36m2\u001b[0m\u001b[1;33m]\u001b[0m\u001b[1;33m\u001b[0m\u001b[1;33m\u001b[0m\u001b[0m\n\u001b[0m",
      "\u001b[1;31mTypeError\u001b[0m: 'set' object is not subscriptable"
     ]
    }
   ],
   "source": [
    "s1[2]"
   ]
  },
  {
   "cell_type": "code",
   "execution_count": null,
   "id": "0d69fa50",
   "metadata": {},
   "outputs": [],
   "source": [
    "for var in s1:\n",
    "    print(var)"
   ]
  },
  {
   "cell_type": "code",
   "execution_count": 1,
   "id": "a4d28a95",
   "metadata": {},
   "outputs": [
    {
     "name": "stdout",
     "output_type": "stream",
     "text": [
      "Object `s1.pop` not found.\n"
     ]
    }
   ],
   "source": [
    "s1.pop?"
   ]
  },
  {
   "cell_type": "code",
   "execution_count": null,
   "id": "c5b758b7",
   "metadata": {},
   "outputs": [],
   "source": [
    "s1"
   ]
  },
  {
   "cell_type": "code",
   "execution_count": null,
   "id": "e13efaf5",
   "metadata": {},
   "outputs": [],
   "source": [
    "s2"
   ]
  },
  {
   "cell_type": "code",
   "execution_count": null,
   "id": "f04a106e",
   "metadata": {},
   "outputs": [],
   "source": [
    "s1.intersection( s2 )"
   ]
  },
  {
   "cell_type": "code",
   "execution_count": null,
   "id": "17209a2a",
   "metadata": {},
   "outputs": [],
   "source": [
    "s2.difference( s1 )"
   ]
  },
  {
   "cell_type": "code",
   "execution_count": null,
   "id": "7dfef1ad",
   "metadata": {},
   "outputs": [],
   "source": [
    "s1"
   ]
  },
  {
   "cell_type": "code",
   "execution_count": null,
   "id": "f7ec284f",
   "metadata": {},
   "outputs": [],
   "source": [
    "s2"
   ]
  },
  {
   "cell_type": "code",
   "execution_count": null,
   "id": "6a75491c",
   "metadata": {},
   "outputs": [],
   "source": [
    "s2.difference_update( s1 )"
   ]
  },
  {
   "cell_type": "code",
   "execution_count": null,
   "id": "53dd6562",
   "metadata": {},
   "outputs": [],
   "source": [
    "s2"
   ]
  },
  {
   "cell_type": "code",
   "execution_count": null,
   "id": "63d6da90",
   "metadata": {},
   "outputs": [],
   "source": [
    "s1"
   ]
  },
  {
   "cell_type": "code",
   "execution_count": null,
   "id": "e7233299",
   "metadata": {},
   "outputs": [],
   "source": [
    "100 > 20"
   ]
  },
  {
   "cell_type": "code",
   "execution_count": null,
   "id": "87950ccb",
   "metadata": {},
   "outputs": [],
   "source": [
    "'100' > '20'"
   ]
  },
  {
   "cell_type": "markdown",
   "id": "07d05f16",
   "metadata": {},
   "source": [
    "### UDFs - USer Defined Functions"
   ]
  },
  {
   "cell_type": "raw",
   "id": "4047ead0",
   "metadata": {},
   "source": [
    "function defination:\n",
    "-----------------------\n",
    "    \n",
    "syntax:\n",
    "    \n",
    "def func_name( a1, a2, a3, a4, ...... ):\n",
    "    logic..\n",
    "    return object_name / var_name\n",
    "    \n",
    "mandatory arguments\n",
    "optional / default arguments\n",
    "mandatory + optional arguments: all optional args should follow mandatory args\n",
    "    \n",
    "\n",
    "function call:\n",
    "-----------------------\n",
    "    \n",
    "syntax:\n",
    "    \n",
    "func_name( a1, a2, a3, a4, ...... )\n",
    "\n",
    "positional arguments\n",
    "keyword arguments\n",
    "positional + keyword: all keyword args should follow positional args\n",
    "\n",
    "\n",
    "*args - 0 or n positional arguments\n",
    "**kwargs - 0 or n keyword arguments"
   ]
  },
  {
   "cell_type": "code",
   "execution_count": null,
   "id": "8c7f9c5e",
   "metadata": {},
   "outputs": [],
   "source": [
    "sum([1, 2, 3, 4,5])"
   ]
  },
  {
   "cell_type": "code",
   "execution_count": null,
   "id": "479df55b",
   "metadata": {},
   "outputs": [],
   "source": [
    "sum([1, 2, 3, 4,'5'])"
   ]
  },
  {
   "cell_type": "markdown",
   "id": "ff8f5236",
   "metadata": {},
   "source": [
    "##### write a UDF to sum two numbers"
   ]
  },
  {
   "cell_type": "code",
   "execution_count": null,
   "id": "552a56e0",
   "metadata": {},
   "outputs": [],
   "source": [
    "def sum_2_nums( n1, n2 ):\n",
    "    return n1 + n2"
   ]
  },
  {
   "cell_type": "code",
   "execution_count": null,
   "id": "eca82e11",
   "metadata": {},
   "outputs": [],
   "source": [
    "sum_2_nums( 10, 30 ) + 10"
   ]
  },
  {
   "cell_type": "code",
   "execution_count": null,
   "id": "5a92e95d",
   "metadata": {},
   "outputs": [],
   "source": [
    "sum_2_nums( '10', 30 )"
   ]
  },
  {
   "cell_type": "markdown",
   "id": "a5339abd",
   "metadata": {},
   "source": [
    "##### write a UDF to subtract two numbers"
   ]
  },
  {
   "cell_type": "code",
   "execution_count": null,
   "id": "c828eac5",
   "metadata": {},
   "outputs": [],
   "source": [
    "def sub2no( num1, num2 ):\n",
    "    return num1 - num2"
   ]
  },
  {
   "cell_type": "code",
   "execution_count": null,
   "id": "4aab3e51",
   "metadata": {},
   "outputs": [],
   "source": [
    "sub2no( 20, 5 )"
   ]
  },
  {
   "cell_type": "code",
   "execution_count": null,
   "id": "dd68256e",
   "metadata": {},
   "outputs": [],
   "source": [
    "sub2no( 5, 20 )"
   ]
  },
  {
   "cell_type": "code",
   "execution_count": null,
   "id": "91275872",
   "metadata": {},
   "outputs": [],
   "source": [
    "sub2no( num1 = 20, num2 = 5 )"
   ]
  },
  {
   "cell_type": "code",
   "execution_count": null,
   "id": "23f8675a",
   "metadata": {},
   "outputs": [],
   "source": [
    "sub2no( num2 = 20, num1 = 5 )"
   ]
  },
  {
   "cell_type": "code",
   "execution_count": null,
   "id": "31c1ab82",
   "metadata": {},
   "outputs": [],
   "source": [
    "sub2no( 20, num1 = 5 )"
   ]
  },
  {
   "cell_type": "code",
   "execution_count": null,
   "id": "15bceb5b",
   "metadata": {},
   "outputs": [],
   "source": [
    "sub2no( 20, num2 = 5 )"
   ]
  },
  {
   "cell_type": "code",
   "execution_count": null,
   "id": "7e657a4e",
   "metadata": {},
   "outputs": [],
   "source": [
    "sub2no( num1 = 20, 5 )"
   ]
  },
  {
   "cell_type": "code",
   "execution_count": null,
   "id": "ca097af9",
   "metadata": {},
   "outputs": [],
   "source": [
    "def sub2no( num1 = 0, num2 = 0 ):\n",
    "    return num1 - num2"
   ]
  },
  {
   "cell_type": "code",
   "execution_count": null,
   "id": "ba47eeb5",
   "metadata": {},
   "outputs": [],
   "source": [
    "sub2no()"
   ]
  },
  {
   "cell_type": "code",
   "execution_count": null,
   "id": "af74d61f",
   "metadata": {},
   "outputs": [],
   "source": [
    "sub2no( 10 )"
   ]
  },
  {
   "cell_type": "code",
   "execution_count": null,
   "id": "8c08d654",
   "metadata": {},
   "outputs": [],
   "source": [
    "sub2no( num1 = 10 )"
   ]
  },
  {
   "cell_type": "code",
   "execution_count": null,
   "id": "10427ba8",
   "metadata": {},
   "outputs": [],
   "source": [
    "sub2no( num2 = 10 )"
   ]
  },
  {
   "cell_type": "code",
   "execution_count": null,
   "id": "5b9b46fe",
   "metadata": {},
   "outputs": [],
   "source": [
    "sub2no(, 10)"
   ]
  },
  {
   "cell_type": "code",
   "execution_count": null,
   "id": "b172410b",
   "metadata": {},
   "outputs": [],
   "source": [
    "def sub2no( num1, num2 = 0 ):\n",
    "    return num1 - num2"
   ]
  },
  {
   "cell_type": "code",
   "execution_count": null,
   "id": "1284b0b8",
   "metadata": {},
   "outputs": [],
   "source": [
    "sub2no()"
   ]
  },
  {
   "cell_type": "code",
   "execution_count": null,
   "id": "a0d1f07d",
   "metadata": {},
   "outputs": [],
   "source": [
    "sub2no( 10 )"
   ]
  },
  {
   "cell_type": "code",
   "execution_count": null,
   "id": "38bb30bd",
   "metadata": {},
   "outputs": [],
   "source": [
    "sub2no( num2 = 10 )"
   ]
  },
  {
   "cell_type": "code",
   "execution_count": null,
   "id": "a30c911e",
   "metadata": {},
   "outputs": [],
   "source": [
    "def sub2no( num1 = 0, num2 ):\n",
    "    return num1 - num2"
   ]
  },
  {
   "cell_type": "markdown",
   "id": "013290c3",
   "metadata": {},
   "source": [
    "##### UDF to sum n numbers"
   ]
  },
  {
   "cell_type": "code",
   "execution_count": null,
   "id": "395ae59e",
   "metadata": {},
   "outputs": [],
   "source": [
    "def sum_no( *args ):\n",
    "    \n",
    "    Sum = 0\n",
    "    for var in args:\n",
    "        if type(var) == int or type(var) == float:    # if type(var) in (int, float):\n",
    "            Sum = Sum + var\n",
    "    \n",
    "    return Sum"
   ]
  },
  {
   "cell_type": "code",
   "execution_count": null,
   "id": "7a30053c",
   "metadata": {},
   "outputs": [],
   "source": [
    "sum_no( 1, 2, 3, 4, '5', 10.5, True, (1, 2) )"
   ]
  },
  {
   "cell_type": "code",
   "execution_count": null,
   "id": "34f117f4",
   "metadata": {},
   "outputs": [],
   "source": [
    "sum((1, 2, 3, 4, '5'))"
   ]
  },
  {
   "cell_type": "markdown",
   "id": "8791f96b",
   "metadata": {},
   "source": [
    "# lambda functions"
   ]
  },
  {
   "cell_type": "markdown",
   "id": "9c560106",
   "metadata": {},
   "source": [
    "- they are defined with the keyword lambda; not def\n",
    "- single line functions\n",
    "- these functions will not have any name\n",
    "- they will not be save in the memory\n",
    "\n",
    "*Lambda functions are of NO use if used alone.* They are always uswed with some other functions\n",
    "\n",
    "**In basic python, we use lambda functions with map(), filter()**"
   ]
  },
  {
   "cell_type": "raw",
   "id": "ce847117",
   "metadata": {},
   "source": [
    "syntax:\n",
    "    \n",
    "lambda x, y, z: operations_of_the_arguments"
   ]
  },
  {
   "cell_type": "code",
   "execution_count": null,
   "id": "03b9d467",
   "metadata": {},
   "outputs": [],
   "source": [
    "map()"
   ]
  },
  {
   "cell_type": "code",
   "execution_count": null,
   "id": "1f4aff81",
   "metadata": {},
   "outputs": [],
   "source": [
    "# UDF to sum two numbers\n",
    "def sum_2_no( a, b ):\n",
    "    return a + b"
   ]
  },
  {
   "cell_type": "code",
   "execution_count": null,
   "id": "e704dd6a",
   "metadata": {},
   "outputs": [],
   "source": [
    "# lambda function to sum two numbers\n",
    "lambda a, b: a + b"
   ]
  },
  {
   "cell_type": "code",
   "execution_count": 16,
   "id": "47fbef1c",
   "metadata": {},
   "outputs": [],
   "source": [
    "l1 = list(range(1, 51, 10))"
   ]
  },
  {
   "cell_type": "code",
   "execution_count": 17,
   "id": "6f45f555",
   "metadata": {},
   "outputs": [
    {
     "data": {
      "text/plain": [
       "[1, 11, 21, 31, 41]"
      ]
     },
     "execution_count": 17,
     "metadata": {},
     "output_type": "execute_result"
    }
   ],
   "source": [
    "l1"
   ]
  },
  {
   "cell_type": "code",
   "execution_count": null,
   "id": "33ce218f",
   "metadata": {},
   "outputs": [],
   "source": [
    "# add no 10 to all the numbers in the list l1"
   ]
  },
  {
   "cell_type": "code",
   "execution_count": 18,
   "id": "216cbb78",
   "metadata": {},
   "outputs": [],
   "source": [
    "def func1( a ):\n",
    "    return a + 10"
   ]
  },
  {
   "cell_type": "code",
   "execution_count": 19,
   "id": "fce927fe",
   "metadata": {},
   "outputs": [
    {
     "data": {
      "text/plain": [
       "[11, 21, 31, 41, 51]"
      ]
     },
     "execution_count": 19,
     "metadata": {},
     "output_type": "execute_result"
    }
   ],
   "source": [
    "l2 = []\n",
    "for var in l1:\n",
    "    l2.append( func1( var ) )\n",
    "    \n",
    "l2"
   ]
  },
  {
   "cell_type": "code",
   "execution_count": null,
   "id": "94b277cc",
   "metadata": {},
   "outputs": [],
   "source": [
    "l2=[]\n",
    "for var in "
   ]
  },
  {
   "cell_type": "code",
   "execution_count": null,
   "id": "80a59d72",
   "metadata": {},
   "outputs": [],
   "source": [
    "list( map( func1, l1 ) )"
   ]
  },
  {
   "cell_type": "code",
   "execution_count": null,
   "id": "0a3f5c16",
   "metadata": {},
   "outputs": [],
   "source": []
  },
  {
   "cell_type": "code",
   "execution_count": 5,
   "id": "ed5191cb",
   "metadata": {},
   "outputs": [
    {
     "ename": "NameError",
     "evalue": "name 'l1' is not defined",
     "output_type": "error",
     "traceback": [
      "\u001b[1;31m---------------------------------------------------------------------------\u001b[0m",
      "\u001b[1;31mNameError\u001b[0m                                 Traceback (most recent call last)",
      "\u001b[1;32mC:\\Users\\DEEPAK~1\\AppData\\Local\\Temp/ipykernel_17736/256508163.py\u001b[0m in \u001b[0;36m<module>\u001b[1;34m\u001b[0m\n\u001b[1;32m----> 1\u001b[1;33m \u001b[0ml3\u001b[0m \u001b[1;33m=\u001b[0m \u001b[0mlist\u001b[0m\u001b[1;33m(\u001b[0m \u001b[0mmap\u001b[0m\u001b[1;33m(\u001b[0m \u001b[1;32mlambda\u001b[0m \u001b[0mvar\u001b[0m \u001b[1;33m:\u001b[0m \u001b[0mvar\u001b[0m \u001b[1;33m+\u001b[0m \u001b[1;36m100\u001b[0m\u001b[1;33m,\u001b[0m \u001b[0ml1\u001b[0m \u001b[1;33m)\u001b[0m \u001b[1;33m)\u001b[0m\u001b[1;33m\u001b[0m\u001b[1;33m\u001b[0m\u001b[0m\n\u001b[0m\u001b[0;32m      2\u001b[0m \u001b[0ml3\u001b[0m\u001b[1;33m\u001b[0m\u001b[1;33m\u001b[0m\u001b[0m\n",
      "\u001b[1;31mNameError\u001b[0m: name 'l1' is not defined"
     ]
    }
   ],
   "source": [
    "l3 = list( map( lambda var : var + 100, l1 ) )\n",
    "l3"
   ]
  },
  {
   "cell_type": "code",
   "execution_count": null,
   "id": "b65943f6",
   "metadata": {},
   "outputs": [],
   "source": [
    "l5 = [10, 20, 30, 40, 50, 60]"
   ]
  },
  {
   "cell_type": "code",
   "execution_count": null,
   "id": "42c33d57",
   "metadata": {},
   "outputs": [],
   "source": [
    "l1"
   ]
  },
  {
   "cell_type": "code",
   "execution_count": null,
   "id": "dd253727",
   "metadata": {},
   "outputs": [],
   "source": [
    "l5"
   ]
  },
  {
   "cell_type": "code",
   "execution_count": null,
   "id": "9e3e807b",
   "metadata": {},
   "outputs": [],
   "source": [
    "list( map( lambda x, y: x + y, l1, l5 ))"
   ]
  },
  {
   "cell_type": "code",
   "execution_count": null,
   "id": "4f67a05e",
   "metadata": {},
   "outputs": [],
   "source": [
    "l1 = 5"
   ]
  },
  {
   "cell_type": "code",
   "execution_count": 2,
   "id": "907c290d",
   "metadata": {},
   "outputs": [],
   "source": [
    "l6 = [1, 2, 3, 4, 3, 2,1 ,4 ,3 ,2 , 1, 4 , 5, 4]"
   ]
  },
  {
   "cell_type": "code",
   "execution_count": 3,
   "id": "842a77ec",
   "metadata": {},
   "outputs": [
    {
     "data": {
      "text/plain": [
       "[1, 2, 3, 4, 3, 2, 1, 4, 3, 2, 1, 4, 5, 4]"
      ]
     },
     "execution_count": 3,
     "metadata": {},
     "output_type": "execute_result"
    }
   ],
   "source": [
    "l6"
   ]
  },
  {
   "cell_type": "code",
   "execution_count": 4,
   "id": "8cb6a8f6",
   "metadata": {},
   "outputs": [
    {
     "data": {
      "text/plain": [
       "[1, 3, 3, 1, 3, 1, 5]"
      ]
     },
     "execution_count": 4,
     "metadata": {},
     "output_type": "execute_result"
    }
   ],
   "source": [
    "list(filter( lambda x: x % 2 != 0, l6 ))"
   ]
  },
  {
   "cell_type": "markdown",
   "id": "5f993144",
   "metadata": {},
   "source": [
    "## packages"
   ]
  },
  {
   "cell_type": "raw",
   "id": "5b834baf",
   "metadata": {},
   "source": [
    "numpy - numerical python\n",
    "\n",
    "pandas - panel data analysis\n",
    "\n",
    "matplotlib - matlab implementation in python\n",
    "pyplot for charts\n",
    "\n",
    "seaborn"
   ]
  },
  {
   "cell_type": "code",
   "execution_count": null,
   "id": "4962d07e",
   "metadata": {},
   "outputs": [],
   "source": [
    "pip install numpy"
   ]
  },
  {
   "cell_type": "markdown",
   "id": "70102e43",
   "metadata": {},
   "source": [
    "### numpy"
   ]
  },
  {
   "cell_type": "code",
   "execution_count": 25,
   "id": "d8be56fa",
   "metadata": {},
   "outputs": [],
   "source": [
    "import numpy as np"
   ]
  },
  {
   "cell_type": "raw",
   "id": "16e1c238",
   "metadata": {},
   "source": [
    "in basic python: tuple, list, dict, set. \n",
    "Properties: 1D, hetrogeneous, no broadcasting, vectorization\n",
    "Data Types: int, float, bool, str\n",
    "        \n",
    "numpy: ndarray\n",
    "Properties: nD, homogeneous, broadcasting, vectorization\n",
    "Data types: int0, int8, int16, int32 | int, int64, float, float64, float32, float16, datetime64, str, object\n",
    "\n",
    "1. How to create\n",
    "  \n",
    "* from the type conversion of basic python data structures\n",
    "    np.array( list )\n",
    "\n",
    "* from the numpy inbuilt methods\n",
    "    np.zeros(), np.ones(), np.full()\n",
    "    np.arange(), np.linspace(), np.random.random(), np.random.randint()\n",
    "\n",
    "    they will work on ndarray object: .transpose(), .T, .reshape()\n",
    "\n",
    "* from the outputs of other data structures or operations on other data structures\n",
    "* from the raw data from the files or images\n",
    "\n",
    "** Properties | Attributes: **\n",
    ".size\n",
    ".ndim\n",
    ".shape\n",
    ".dtype\n",
    ".nbytes"
   ]
  },
  {
   "cell_type": "code",
   "execution_count": 26,
   "id": "2b2ca1dc",
   "metadata": {},
   "outputs": [
    {
     "name": "stdout",
     "output_type": "stream",
     "text": [
      "['ALLOW_THREADS', 'AxisError', 'BUFSIZE', 'Bytes0', 'CLIP', 'ComplexWarning', 'DataSource', 'Datetime64', 'ERR_CALL', 'ERR_DEFAULT', 'ERR_IGNORE', 'ERR_LOG', 'ERR_PRINT', 'ERR_RAISE', 'ERR_WARN', 'FLOATING_POINT_SUPPORT', 'FPE_DIVIDEBYZERO', 'FPE_INVALID', 'FPE_OVERFLOW', 'FPE_UNDERFLOW', 'False_', 'Inf', 'Infinity', 'MAXDIMS', 'MAY_SHARE_BOUNDS', 'MAY_SHARE_EXACT', 'MachAr', 'ModuleDeprecationWarning', 'NAN', 'NINF', 'NZERO', 'NaN', 'PINF', 'PZERO', 'RAISE', 'RankWarning', 'SHIFT_DIVIDEBYZERO', 'SHIFT_INVALID', 'SHIFT_OVERFLOW', 'SHIFT_UNDERFLOW', 'ScalarType', 'Str0', 'Tester', 'TooHardError', 'True_', 'UFUNC_BUFSIZE_DEFAULT', 'UFUNC_PYVALS_NAME', 'Uint64', 'VisibleDeprecationWarning', 'WRAP', '_NoValue', '_UFUNC_API', '__NUMPY_SETUP__', '__all__', '__builtins__', '__cached__', '__config__', '__deprecated_attrs__', '__dir__', '__doc__', '__expired_functions__', '__file__', '__getattr__', '__git_revision__', '__loader__', '__mkl_version__', '__name__', '__package__', '__path__', '__spec__', '__version__', '_add_newdoc_ufunc', '_distributor_init', '_financial_names', '_globals', '_mat', '_pytesttester', 'abs', 'absolute', 'add', 'add_docstring', 'add_newdoc', 'add_newdoc_ufunc', 'alen', 'all', 'allclose', 'alltrue', 'amax', 'amin', 'angle', 'any', 'append', 'apply_along_axis', 'apply_over_axes', 'arange', 'arccos', 'arccosh', 'arcsin', 'arcsinh', 'arctan', 'arctan2', 'arctanh', 'argmax', 'argmin', 'argpartition', 'argsort', 'argwhere', 'around', 'array', 'array2string', 'array_equal', 'array_equiv', 'array_repr', 'array_split', 'array_str', 'asanyarray', 'asarray', 'asarray_chkfinite', 'ascontiguousarray', 'asfarray', 'asfortranarray', 'asmatrix', 'asscalar', 'atleast_1d', 'atleast_2d', 'atleast_3d', 'average', 'bartlett', 'base_repr', 'binary_repr', 'bincount', 'bitwise_and', 'bitwise_not', 'bitwise_or', 'bitwise_xor', 'blackman', 'block', 'bmat', 'bool8', 'bool_', 'broadcast', 'broadcast_arrays', 'broadcast_shapes', 'broadcast_to', 'busday_count', 'busday_offset', 'busdaycalendar', 'byte', 'byte_bounds', 'bytes0', 'bytes_', 'c_', 'can_cast', 'cast', 'cbrt', 'cdouble', 'ceil', 'cfloat', 'char', 'character', 'chararray', 'choose', 'clip', 'clongdouble', 'clongfloat', 'column_stack', 'common_type', 'compare_chararrays', 'compat', 'complex128', 'complex64', 'complex_', 'complexfloating', 'compress', 'concatenate', 'conj', 'conjugate', 'convolve', 'copy', 'copysign', 'copyto', 'core', 'corrcoef', 'correlate', 'cos', 'cosh', 'count_nonzero', 'cov', 'cross', 'csingle', 'ctypeslib', 'cumprod', 'cumproduct', 'cumsum', 'datetime64', 'datetime_as_string', 'datetime_data', 'deg2rad', 'degrees', 'delete', 'deprecate', 'deprecate_with_doc', 'diag', 'diag_indices', 'diag_indices_from', 'diagflat', 'diagonal', 'diff', 'digitize', 'disp', 'divide', 'divmod', 'dot', 'double', 'dsplit', 'dstack', 'dtype', 'e', 'ediff1d', 'einsum', 'einsum_path', 'emath', 'empty', 'empty_like', 'equal', 'errstate', 'euler_gamma', 'exp', 'exp2', 'expand_dims', 'expm1', 'extract', 'eye', 'fabs', 'fastCopyAndTranspose', 'fft', 'fill_diagonal', 'find_common_type', 'finfo', 'fix', 'flatiter', 'flatnonzero', 'flexible', 'flip', 'fliplr', 'flipud', 'float16', 'float32', 'float64', 'float_', 'float_power', 'floating', 'floor', 'floor_divide', 'fmax', 'fmin', 'fmod', 'format_float_positional', 'format_float_scientific', 'format_parser', 'frexp', 'frombuffer', 'fromfile', 'fromfunction', 'fromiter', 'frompyfunc', 'fromregex', 'fromstring', 'full', 'full_like', 'gcd', 'generic', 'genfromtxt', 'geomspace', 'get_array_wrap', 'get_include', 'get_printoptions', 'getbufsize', 'geterr', 'geterrcall', 'geterrobj', 'gradient', 'greater', 'greater_equal', 'half', 'hamming', 'hanning', 'heaviside', 'histogram', 'histogram2d', 'histogram_bin_edges', 'histogramdd', 'hsplit', 'hstack', 'hypot', 'i0', 'identity', 'iinfo', 'imag', 'in1d', 'index_exp', 'indices', 'inexact', 'inf', 'info', 'infty', 'inner', 'insert', 'int0', 'int16', 'int32', 'int64', 'int8', 'int_', 'intc', 'integer', 'interp', 'intersect1d', 'intp', 'invert', 'is_busday', 'isclose', 'iscomplex', 'iscomplexobj', 'isfinite', 'isfortran', 'isin', 'isinf', 'isnan', 'isnat', 'isneginf', 'isposinf', 'isreal', 'isrealobj', 'isscalar', 'issctype', 'issubclass_', 'issubdtype', 'issubsctype', 'iterable', 'ix_', 'kaiser', 'kron', 'lcm', 'ldexp', 'left_shift', 'less', 'less_equal', 'lexsort', 'lib', 'linalg', 'linspace', 'little_endian', 'load', 'loads', 'loadtxt', 'log', 'log10', 'log1p', 'log2', 'logaddexp', 'logaddexp2', 'logical_and', 'logical_not', 'logical_or', 'logical_xor', 'logspace', 'longcomplex', 'longdouble', 'longfloat', 'longlong', 'lookfor', 'ma', 'mafromtxt', 'mask_indices', 'mat', 'math', 'matmul', 'matrix', 'matrixlib', 'max', 'maximum', 'maximum_sctype', 'may_share_memory', 'mean', 'median', 'memmap', 'meshgrid', 'mgrid', 'min', 'min_scalar_type', 'minimum', 'mintypecode', 'mkl', 'mod', 'modf', 'moveaxis', 'msort', 'multiply', 'nan', 'nan_to_num', 'nanargmax', 'nanargmin', 'nancumprod', 'nancumsum', 'nanmax', 'nanmean', 'nanmedian', 'nanmin', 'nanpercentile', 'nanprod', 'nanquantile', 'nanstd', 'nansum', 'nanvar', 'nbytes', 'ndarray', 'ndenumerate', 'ndfromtxt', 'ndim', 'ndindex', 'nditer', 'negative', 'nested_iters', 'newaxis', 'nextafter', 'nonzero', 'not_equal', 'numarray', 'number', 'obj2sctype', 'object0', 'object_', 'ogrid', 'oldnumeric', 'ones', 'ones_like', 'os', 'outer', 'packbits', 'pad', 'partition', 'percentile', 'pi', 'piecewise', 'place', 'poly', 'poly1d', 'polyadd', 'polyder', 'polydiv', 'polyfit', 'polyint', 'polymul', 'polynomial', 'polysub', 'polyval', 'positive', 'power', 'printoptions', 'prod', 'product', 'promote_types', 'ptp', 'put', 'put_along_axis', 'putmask', 'quantile', 'r_', 'rad2deg', 'radians', 'random', 'ravel', 'ravel_multi_index', 'real', 'real_if_close', 'rec', 'recarray', 'recfromcsv', 'recfromtxt', 'reciprocal', 'record', 'remainder', 'repeat', 'require', 'reshape', 'resize', 'result_type', 'right_shift', 'rint', 'roll', 'rollaxis', 'roots', 'rot90', 'round', 'round_', 'row_stack', 's_', 'safe_eval', 'save', 'savetxt', 'savez', 'savez_compressed', 'sctype2char', 'sctypeDict', 'sctypes', 'searchsorted', 'select', 'set_numeric_ops', 'set_printoptions', 'set_string_function', 'setbufsize', 'setdiff1d', 'seterr', 'seterrcall', 'seterrobj', 'setxor1d', 'shape', 'shares_memory', 'short', 'show_config', 'sign', 'signbit', 'signedinteger', 'sin', 'sinc', 'single', 'singlecomplex', 'sinh', 'size', 'sometrue', 'sort', 'sort_complex', 'source', 'spacing', 'split', 'sqrt', 'square', 'squeeze', 'stack', 'std', 'str0', 'str_', 'string_', 'subtract', 'sum', 'swapaxes', 'sys', 'take', 'take_along_axis', 'tan', 'tanh', 'tensordot', 'test', 'testing', 'tile', 'timedelta64', 'trace', 'tracemalloc_domain', 'transpose', 'trapz', 'tri', 'tril', 'tril_indices', 'tril_indices_from', 'trim_zeros', 'triu', 'triu_indices', 'triu_indices_from', 'true_divide', 'trunc', 'typeDict', 'typecodes', 'typename', 'ubyte', 'ufunc', 'uint', 'uint0', 'uint16', 'uint32', 'uint64', 'uint8', 'uintc', 'uintp', 'ulonglong', 'unicode_', 'union1d', 'unique', 'unpackbits', 'unravel_index', 'unsignedinteger', 'unwrap', 'use_hugepage', 'ushort', 'vander', 'var', 'vdot', 'vectorize', 'version', 'void', 'void0', 'vsplit', 'vstack', 'warnings', 'where', 'who', 'zeros', 'zeros_like']\n"
     ]
    }
   ],
   "source": [
    "print(dir(np))"
   ]
  },
  {
   "cell_type": "code",
   "execution_count": 27,
   "id": "64966348",
   "metadata": {},
   "outputs": [
    {
     "data": {
      "text/plain": [
       "[1, 11, 21, 31, 41]"
      ]
     },
     "execution_count": 27,
     "metadata": {},
     "output_type": "execute_result"
    }
   ],
   "source": [
    "l1"
   ]
  },
  {
   "cell_type": "code",
   "execution_count": 28,
   "id": "c825d533",
   "metadata": {},
   "outputs": [
    {
     "data": {
      "text/plain": [
       "list"
      ]
     },
     "execution_count": 28,
     "metadata": {},
     "output_type": "execute_result"
    }
   ],
   "source": [
    "type(l1)"
   ]
  },
  {
   "cell_type": "code",
   "execution_count": 29,
   "id": "8ab3ec2e",
   "metadata": {},
   "outputs": [],
   "source": [
    "a1 = np.array( l1 )"
   ]
  },
  {
   "cell_type": "code",
   "execution_count": 30,
   "id": "ffd49465",
   "metadata": {},
   "outputs": [
    {
     "data": {
      "text/plain": [
       "array([ 1, 11, 21, 31, 41])"
      ]
     },
     "execution_count": 30,
     "metadata": {},
     "output_type": "execute_result"
    }
   ],
   "source": [
    "a1"
   ]
  },
  {
   "cell_type": "code",
   "execution_count": 31,
   "id": "a274e4b2",
   "metadata": {},
   "outputs": [
    {
     "data": {
      "text/plain": [
       "5"
      ]
     },
     "execution_count": 31,
     "metadata": {},
     "output_type": "execute_result"
    }
   ],
   "source": [
    "len(a1)"
   ]
  },
  {
   "cell_type": "code",
   "execution_count": 32,
   "id": "41b17e12",
   "metadata": {},
   "outputs": [
    {
     "data": {
      "text/plain": [
       "numpy.ndarray"
      ]
     },
     "execution_count": 32,
     "metadata": {},
     "output_type": "execute_result"
    }
   ],
   "source": [
    "type(a1)"
   ]
  },
  {
   "cell_type": "code",
   "execution_count": 33,
   "id": "f13e97c4",
   "metadata": {},
   "outputs": [
    {
     "data": {
      "text/plain": [
       "array([ 1, 11, 21, 31, 41])"
      ]
     },
     "execution_count": 33,
     "metadata": {},
     "output_type": "execute_result"
    }
   ],
   "source": [
    "a1.T"
   ]
  },
  {
   "cell_type": "code",
   "execution_count": 34,
   "id": "6890154d",
   "metadata": {},
   "outputs": [
    {
     "data": {
      "text/plain": [
       "array([ 1, 11, 21, 31, 41])"
      ]
     },
     "execution_count": 34,
     "metadata": {},
     "output_type": "execute_result"
    }
   ],
   "source": [
    "a1"
   ]
  },
  {
   "cell_type": "code",
   "execution_count": 35,
   "id": "15af4281",
   "metadata": {},
   "outputs": [
    {
     "data": {
      "text/plain": [
       "20"
      ]
     },
     "execution_count": 35,
     "metadata": {},
     "output_type": "execute_result"
    }
   ],
   "source": [
    "a1.nbytes"
   ]
  },
  {
   "cell_type": "code",
   "execution_count": 36,
   "id": "cbce8622",
   "metadata": {},
   "outputs": [],
   "source": [
    "a2 = np.array(l1, dtype = np.int8)"
   ]
  },
  {
   "cell_type": "code",
   "execution_count": 37,
   "id": "9c8b036f",
   "metadata": {},
   "outputs": [
    {
     "data": {
      "text/plain": [
       "array([ 1, 11, 21, 31, 41], dtype=int8)"
      ]
     },
     "execution_count": 37,
     "metadata": {},
     "output_type": "execute_result"
    }
   ],
   "source": [
    "a2"
   ]
  },
  {
   "cell_type": "code",
   "execution_count": 38,
   "id": "dbd5565e",
   "metadata": {},
   "outputs": [
    {
     "data": {
      "text/plain": [
       "5"
      ]
     },
     "execution_count": 38,
     "metadata": {},
     "output_type": "execute_result"
    }
   ],
   "source": [
    "a2.nbytes"
   ]
  },
  {
   "cell_type": "code",
   "execution_count": 39,
   "id": "1473b85f",
   "metadata": {},
   "outputs": [
    {
     "ename": "KeyboardInterrupt",
     "evalue": "Interrupted by user",
     "output_type": "error",
     "traceback": [
      "\u001b[1;31m---------------------------------------------------------------------------\u001b[0m",
      "\u001b[1;31mKeyboardInterrupt\u001b[0m                         Traceback (most recent call last)",
      "\u001b[1;32mC:\\Users\\DEEPAK~1\\AppData\\Local\\Temp/ipykernel_7792/2313607064.py\u001b[0m in \u001b[0;36m<module>\u001b[1;34m\u001b[0m\n\u001b[1;32m----> 1\u001b[1;33m \u001b[0ma\u001b[0m \u001b[1;33m=\u001b[0m \u001b[0minput\u001b[0m\u001b[1;33m(\u001b[0m\u001b[1;33m)\u001b[0m\u001b[1;33m\u001b[0m\u001b[1;33m\u001b[0m\u001b[0m\n\u001b[0m",
      "\u001b[1;32m~\\anaconda3\\lib\\site-packages\\ipykernel\\kernelbase.py\u001b[0m in \u001b[0;36mraw_input\u001b[1;34m(self, prompt)\u001b[0m\n\u001b[0;32m   1004\u001b[0m                 \u001b[1;34m\"raw_input was called, but this frontend does not support input requests.\"\u001b[0m\u001b[1;33m\u001b[0m\u001b[1;33m\u001b[0m\u001b[0m\n\u001b[0;32m   1005\u001b[0m             )\n\u001b[1;32m-> 1006\u001b[1;33m         return self._input_request(\n\u001b[0m\u001b[0;32m   1007\u001b[0m             \u001b[0mstr\u001b[0m\u001b[1;33m(\u001b[0m\u001b[0mprompt\u001b[0m\u001b[1;33m)\u001b[0m\u001b[1;33m,\u001b[0m\u001b[1;33m\u001b[0m\u001b[1;33m\u001b[0m\u001b[0m\n\u001b[0;32m   1008\u001b[0m             \u001b[0mself\u001b[0m\u001b[1;33m.\u001b[0m\u001b[0m_parent_ident\u001b[0m\u001b[1;33m[\u001b[0m\u001b[1;34m\"shell\"\u001b[0m\u001b[1;33m]\u001b[0m\u001b[1;33m,\u001b[0m\u001b[1;33m\u001b[0m\u001b[1;33m\u001b[0m\u001b[0m\n",
      "\u001b[1;32m~\\anaconda3\\lib\\site-packages\\ipykernel\\kernelbase.py\u001b[0m in \u001b[0;36m_input_request\u001b[1;34m(self, prompt, ident, parent, password)\u001b[0m\n\u001b[0;32m   1049\u001b[0m             \u001b[1;32mexcept\u001b[0m \u001b[0mKeyboardInterrupt\u001b[0m\u001b[1;33m:\u001b[0m\u001b[1;33m\u001b[0m\u001b[1;33m\u001b[0m\u001b[0m\n\u001b[0;32m   1050\u001b[0m                 \u001b[1;31m# re-raise KeyboardInterrupt, to truncate traceback\u001b[0m\u001b[1;33m\u001b[0m\u001b[1;33m\u001b[0m\u001b[0m\n\u001b[1;32m-> 1051\u001b[1;33m                 \u001b[1;32mraise\u001b[0m \u001b[0mKeyboardInterrupt\u001b[0m\u001b[1;33m(\u001b[0m\u001b[1;34m\"Interrupted by user\"\u001b[0m\u001b[1;33m)\u001b[0m \u001b[1;32mfrom\u001b[0m \u001b[1;32mNone\u001b[0m\u001b[1;33m\u001b[0m\u001b[1;33m\u001b[0m\u001b[0m\n\u001b[0m\u001b[0;32m   1052\u001b[0m             \u001b[1;32mexcept\u001b[0m \u001b[0mException\u001b[0m\u001b[1;33m:\u001b[0m\u001b[1;33m\u001b[0m\u001b[1;33m\u001b[0m\u001b[0m\n\u001b[0;32m   1053\u001b[0m                 \u001b[0mself\u001b[0m\u001b[1;33m.\u001b[0m\u001b[0mlog\u001b[0m\u001b[1;33m.\u001b[0m\u001b[0mwarning\u001b[0m\u001b[1;33m(\u001b[0m\u001b[1;34m\"Invalid Message:\"\u001b[0m\u001b[1;33m,\u001b[0m \u001b[0mexc_info\u001b[0m\u001b[1;33m=\u001b[0m\u001b[1;32mTrue\u001b[0m\u001b[1;33m)\u001b[0m\u001b[1;33m\u001b[0m\u001b[1;33m\u001b[0m\u001b[0m\n",
      "\u001b[1;31mKeyboardInterrupt\u001b[0m: Interrupted by user"
     ]
    }
   ],
   "source": [
    "a = input()"
   ]
  },
  {
   "cell_type": "code",
   "execution_count": null,
   "id": "d34fc208",
   "metadata": {},
   "outputs": [],
   "source": [
    "a"
   ]
  },
  {
   "cell_type": "code",
   "execution_count": null,
   "id": "64a580fa",
   "metadata": {},
   "outputs": [],
   "source": [
    "int(a)"
   ]
  },
  {
   "cell_type": "code",
   "execution_count": null,
   "id": "ccc61787",
   "metadata": {},
   "outputs": [],
   "source": [
    "var = input( 'Enter your marks:' )\n",
    "\n",
    "float(var) / 100"
   ]
  },
  {
   "cell_type": "code",
   "execution_count": null,
   "id": "57549ee2",
   "metadata": {},
   "outputs": [],
   "source": [
    "var = float(input( 'Enter your marks:' ))"
   ]
  },
  {
   "cell_type": "code",
   "execution_count": null,
   "id": "fd121c6b",
   "metadata": {},
   "outputs": [],
   "source": [
    "var"
   ]
  },
  {
   "cell_type": "code",
   "execution_count": null,
   "id": "717c4ca8",
   "metadata": {},
   "outputs": [],
   "source": []
  }
 ],
 "metadata": {
  "kernelspec": {
   "display_name": "Python 3 (ipykernel)",
   "language": "python",
   "name": "python3"
  },
  "language_info": {
   "codemirror_mode": {
    "name": "ipython",
    "version": 3
   },
   "file_extension": ".py",
   "mimetype": "text/x-python",
   "name": "python",
   "nbconvert_exporter": "python",
   "pygments_lexer": "ipython3",
   "version": "3.9.7"
  }
 },
 "nbformat": 4,
 "nbformat_minor": 5
}
