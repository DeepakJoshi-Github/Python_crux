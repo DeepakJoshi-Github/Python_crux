{
 "cells": [
  {
   "cell_type": "markdown",
   "id": "86f77d67",
   "metadata": {},
   "source": [
    "### import packages"
   ]
  },
  {
   "cell_type": "code",
   "execution_count": 1,
   "id": "11e3139e",
   "metadata": {},
   "outputs": [],
   "source": [
    "import numpy as np\n",
    "import pandas as pd\n",
    "import matplotlib.pyplot as plt\n",
    "import seaborn as sns\n",
    "import scipy.stats as stats  #for the statistical tests\n",
    "%matplotlib inline"
   ]
  },
  {
   "cell_type": "markdown",
   "id": "a580e405",
   "metadata": {},
   "source": [
    "### import the data"
   ]
  },
  {
   "cell_type": "code",
   "execution_count": 4,
   "id": "57739611",
   "metadata": {},
   "outputs": [],
   "source": [
    "cust = pd.read_csv('D:/sampledata/cust_seg.csv')"
   ]
  },
  {
   "cell_type": "code",
   "execution_count": 5,
   "id": "1c595620",
   "metadata": {},
   "outputs": [
    {
     "name": "stdout",
     "output_type": "stream",
     "text": [
      "<class 'pandas.core.frame.DataFrame'>\n",
      "RangeIndex: 200 entries, 0 to 199\n",
      "Data columns (total 10 columns):\n",
      " #   Column               Non-Null Count  Dtype  \n",
      "---  ------               --------------  -----  \n",
      " 0   custid               200 non-null    int64  \n",
      " 1   sex                  200 non-null    int64  \n",
      " 2   AqChannel            200 non-null    int64  \n",
      " 3   region               200 non-null    int64  \n",
      " 4   Marital_status       200 non-null    int64  \n",
      " 5   segment              200 non-null    int64  \n",
      " 6   pre_usage            200 non-null    int64  \n",
      " 7   Post_usage_1month    200 non-null    int64  \n",
      " 8   Latest_mon_usage     200 non-null    float64\n",
      " 9   post_usage_2ndmonth  200 non-null    float64\n",
      "dtypes: float64(2), int64(8)\n",
      "memory usage: 15.8 KB\n"
     ]
    }
   ],
   "source": [
    "cust.info()"
   ]
  },
  {
   "cell_type": "code",
   "execution_count": 6,
   "id": "5bc8d9ec",
   "metadata": {},
   "outputs": [],
   "source": [
    "# write a UDF to caluclate the sum and mean of the series object\n",
    "def fn_descriptive( x ):\n",
    "    \n",
    "    # missing values calculation\n",
    "    ntot = x.shape[0]\n",
    "    n = x.count()\n",
    "    nmiss = ntot - n\n",
    "    nmiss_perc = nmiss/ntot\n",
    "    \n",
    "    # get the lc and uc using IQR\n",
    "    q1 = x.quantile(0.25)\n",
    "    q3 = x.quantile(0.75)\n",
    "    IQR =  q3 - q1\n",
    "    lc_iqr = q1 - 1.5 * IQR\n",
    "    uc_iqr = q3 + 1.5 * IQR\n",
    "    \n",
    "    # return the descripitves\n",
    "    return pd.Series( [x.dtype, x.nunique(), \n",
    "                       ntot, n, nmiss, nmiss_perc,\n",
    "                       IQR, lc_iqr, uc_iqr, \n",
    "                       x.sum(), x.mean(), x.var(), x.std(), \n",
    "                       x.min(),\n",
    "                       x.quantile(0.01), x.quantile(0.05), x.quantile(0.10), \n",
    "                       x.quantile(0.25), x.quantile(0.5), x.quantile(0.75), \n",
    "                       x.quantile(0.90), x.quantile(0.95), x.quantile(0.99),\n",
    "                       x.max()], \n",
    "                    index = ['dtype', 'cardinality',\n",
    "                             'ntot', 'n', 'nmiss', 'nmiss_perc', \n",
    "                             'IQR', 'lc_iqr', 'uc_iqr', \n",
    "                             'sum', 'mean', 'var', 'std', \n",
    "                             'min', \n",
    "                             'p1', 'p5', 'p10',\n",
    "                             'p25', 'p50', 'p75', \n",
    "                             'p90', 'p95', 'p99',\n",
    "                             'max'])"
   ]
  },
  {
   "cell_type": "markdown",
   "id": "27f93fe4",
   "metadata": {},
   "source": [
    "### get the descriptives"
   ]
  },
  {
   "cell_type": "code",
   "execution_count": 7,
   "id": "c81f527d",
   "metadata": {},
   "outputs": [
    {
     "data": {
      "text/html": [
       "<div>\n",
       "<style scoped>\n",
       "    .dataframe tbody tr th:only-of-type {\n",
       "        vertical-align: middle;\n",
       "    }\n",
       "\n",
       "    .dataframe tbody tr th {\n",
       "        vertical-align: top;\n",
       "    }\n",
       "\n",
       "    .dataframe thead th {\n",
       "        text-align: right;\n",
       "    }\n",
       "</style>\n",
       "<table border=\"1\" class=\"dataframe\">\n",
       "  <thead>\n",
       "    <tr style=\"text-align: right;\">\n",
       "      <th></th>\n",
       "      <th>custid</th>\n",
       "      <th>sex</th>\n",
       "      <th>AqChannel</th>\n",
       "      <th>region</th>\n",
       "      <th>Marital_status</th>\n",
       "      <th>segment</th>\n",
       "      <th>pre_usage</th>\n",
       "      <th>Post_usage_1month</th>\n",
       "      <th>Latest_mon_usage</th>\n",
       "      <th>post_usage_2ndmonth</th>\n",
       "    </tr>\n",
       "  </thead>\n",
       "  <tbody>\n",
       "    <tr>\n",
       "      <th>dtype</th>\n",
       "      <td>int64</td>\n",
       "      <td>int64</td>\n",
       "      <td>int64</td>\n",
       "      <td>int64</td>\n",
       "      <td>int64</td>\n",
       "      <td>int64</td>\n",
       "      <td>int64</td>\n",
       "      <td>int64</td>\n",
       "      <td>float64</td>\n",
       "      <td>float64</td>\n",
       "    </tr>\n",
       "    <tr>\n",
       "      <th>cardinality</th>\n",
       "      <td>200</td>\n",
       "      <td>2</td>\n",
       "      <td>4</td>\n",
       "      <td>3</td>\n",
       "      <td>2</td>\n",
       "      <td>3</td>\n",
       "      <td>30</td>\n",
       "      <td>29</td>\n",
       "      <td>40</td>\n",
       "      <td>29</td>\n",
       "    </tr>\n",
       "    <tr>\n",
       "      <th>ntot</th>\n",
       "      <td>200</td>\n",
       "      <td>200</td>\n",
       "      <td>200</td>\n",
       "      <td>200</td>\n",
       "      <td>200</td>\n",
       "      <td>200</td>\n",
       "      <td>200</td>\n",
       "      <td>200</td>\n",
       "      <td>200</td>\n",
       "      <td>200</td>\n",
       "    </tr>\n",
       "    <tr>\n",
       "      <th>n</th>\n",
       "      <td>200</td>\n",
       "      <td>200</td>\n",
       "      <td>200</td>\n",
       "      <td>200</td>\n",
       "      <td>200</td>\n",
       "      <td>200</td>\n",
       "      <td>200</td>\n",
       "      <td>200</td>\n",
       "      <td>200</td>\n",
       "      <td>200</td>\n",
       "    </tr>\n",
       "    <tr>\n",
       "      <th>nmiss</th>\n",
       "      <td>0</td>\n",
       "      <td>0</td>\n",
       "      <td>0</td>\n",
       "      <td>0</td>\n",
       "      <td>0</td>\n",
       "      <td>0</td>\n",
       "      <td>0</td>\n",
       "      <td>0</td>\n",
       "      <td>0</td>\n",
       "      <td>0</td>\n",
       "    </tr>\n",
       "    <tr>\n",
       "      <th>nmiss_perc</th>\n",
       "      <td>0.0</td>\n",
       "      <td>0.0</td>\n",
       "      <td>0.0</td>\n",
       "      <td>0.0</td>\n",
       "      <td>0.0</td>\n",
       "      <td>0.0</td>\n",
       "      <td>0.0</td>\n",
       "      <td>0.0</td>\n",
       "      <td>0.0</td>\n",
       "      <td>0.0</td>\n",
       "    </tr>\n",
       "    <tr>\n",
       "      <th>IQR</th>\n",
       "      <td>99.5</td>\n",
       "      <td>1.0</td>\n",
       "      <td>1.0</td>\n",
       "      <td>1.0</td>\n",
       "      <td>0.0</td>\n",
       "      <td>0.25</td>\n",
       "      <td>16.0</td>\n",
       "      <td>14.25</td>\n",
       "      <td>16.8</td>\n",
       "      <td>15.675</td>\n",
       "    </tr>\n",
       "    <tr>\n",
       "      <th>lc_iqr</th>\n",
       "      <td>-98.5</td>\n",
       "      <td>-1.5</td>\n",
       "      <td>1.5</td>\n",
       "      <td>0.5</td>\n",
       "      <td>1.0</td>\n",
       "      <td>1.625</td>\n",
       "      <td>20.0</td>\n",
       "      <td>24.375</td>\n",
       "      <td>28.8</td>\n",
       "      <td>26.8125</td>\n",
       "    </tr>\n",
       "    <tr>\n",
       "      <th>uc_iqr</th>\n",
       "      <td>299.5</td>\n",
       "      <td>2.5</td>\n",
       "      <td>5.5</td>\n",
       "      <td>4.5</td>\n",
       "      <td>1.0</td>\n",
       "      <td>2.625</td>\n",
       "      <td>84.0</td>\n",
       "      <td>81.375</td>\n",
       "      <td>96.0</td>\n",
       "      <td>89.5125</td>\n",
       "    </tr>\n",
       "    <tr>\n",
       "      <th>sum</th>\n",
       "      <td>20100</td>\n",
       "      <td>109</td>\n",
       "      <td>686</td>\n",
       "      <td>411</td>\n",
       "      <td>232</td>\n",
       "      <td>405</td>\n",
       "      <td>10446</td>\n",
       "      <td>10555</td>\n",
       "      <td>12634.8</td>\n",
       "      <td>11610.5</td>\n",
       "    </tr>\n",
       "    <tr>\n",
       "      <th>mean</th>\n",
       "      <td>100.5</td>\n",
       "      <td>0.545</td>\n",
       "      <td>3.43</td>\n",
       "      <td>2.055</td>\n",
       "      <td>1.16</td>\n",
       "      <td>2.025</td>\n",
       "      <td>52.23</td>\n",
       "      <td>52.775</td>\n",
       "      <td>63.174</td>\n",
       "      <td>58.0525</td>\n",
       "    </tr>\n",
       "    <tr>\n",
       "      <th>var</th>\n",
       "      <td>3350.0</td>\n",
       "      <td>0.249221</td>\n",
       "      <td>1.080503</td>\n",
       "      <td>0.524598</td>\n",
       "      <td>0.135075</td>\n",
       "      <td>0.476759</td>\n",
       "      <td>105.122714</td>\n",
       "      <td>89.843593</td>\n",
       "      <td>126.385652</td>\n",
       "      <td>108.710747</td>\n",
       "    </tr>\n",
       "    <tr>\n",
       "      <th>std</th>\n",
       "      <td>57.879185</td>\n",
       "      <td>0.49922</td>\n",
       "      <td>1.039472</td>\n",
       "      <td>0.724291</td>\n",
       "      <td>0.367526</td>\n",
       "      <td>0.690477</td>\n",
       "      <td>10.252937</td>\n",
       "      <td>9.478586</td>\n",
       "      <td>11.242137</td>\n",
       "      <td>10.426445</td>\n",
       "    </tr>\n",
       "    <tr>\n",
       "      <th>min</th>\n",
       "      <td>1</td>\n",
       "      <td>0</td>\n",
       "      <td>1</td>\n",
       "      <td>1</td>\n",
       "      <td>1</td>\n",
       "      <td>1</td>\n",
       "      <td>28</td>\n",
       "      <td>31</td>\n",
       "      <td>39.6</td>\n",
       "      <td>34.1</td>\n",
       "    </tr>\n",
       "    <tr>\n",
       "      <th>p1</th>\n",
       "      <td>2.99</td>\n",
       "      <td>0.0</td>\n",
       "      <td>1.0</td>\n",
       "      <td>1.0</td>\n",
       "      <td>1.0</td>\n",
       "      <td>1.0</td>\n",
       "      <td>33.97</td>\n",
       "      <td>31.0</td>\n",
       "      <td>44.376</td>\n",
       "      <td>34.1</td>\n",
       "    </tr>\n",
       "    <tr>\n",
       "      <th>p5</th>\n",
       "      <td>10.95</td>\n",
       "      <td>0.0</td>\n",
       "      <td>1.0</td>\n",
       "      <td>1.0</td>\n",
       "      <td>1.0</td>\n",
       "      <td>1.0</td>\n",
       "      <td>36.0</td>\n",
       "      <td>35.95</td>\n",
       "      <td>46.8</td>\n",
       "      <td>39.545</td>\n",
       "    </tr>\n",
       "    <tr>\n",
       "      <th>p10</th>\n",
       "      <td>20.9</td>\n",
       "      <td>0.0</td>\n",
       "      <td>1.0</td>\n",
       "      <td>1.0</td>\n",
       "      <td>1.0</td>\n",
       "      <td>1.0</td>\n",
       "      <td>39.0</td>\n",
       "      <td>39.0</td>\n",
       "      <td>48.0</td>\n",
       "      <td>42.9</td>\n",
       "    </tr>\n",
       "    <tr>\n",
       "      <th>p25</th>\n",
       "      <td>50.75</td>\n",
       "      <td>0.0</td>\n",
       "      <td>3.0</td>\n",
       "      <td>2.0</td>\n",
       "      <td>1.0</td>\n",
       "      <td>2.0</td>\n",
       "      <td>44.0</td>\n",
       "      <td>45.75</td>\n",
       "      <td>54.0</td>\n",
       "      <td>50.325</td>\n",
       "    </tr>\n",
       "    <tr>\n",
       "      <th>p50</th>\n",
       "      <td>100.5</td>\n",
       "      <td>1.0</td>\n",
       "      <td>4.0</td>\n",
       "      <td>2.0</td>\n",
       "      <td>1.0</td>\n",
       "      <td>2.0</td>\n",
       "      <td>50.0</td>\n",
       "      <td>54.0</td>\n",
       "      <td>62.4</td>\n",
       "      <td>59.4</td>\n",
       "    </tr>\n",
       "    <tr>\n",
       "      <th>p75</th>\n",
       "      <td>150.25</td>\n",
       "      <td>1.0</td>\n",
       "      <td>4.0</td>\n",
       "      <td>3.0</td>\n",
       "      <td>1.0</td>\n",
       "      <td>2.25</td>\n",
       "      <td>60.0</td>\n",
       "      <td>60.0</td>\n",
       "      <td>70.8</td>\n",
       "      <td>66.0</td>\n",
       "    </tr>\n",
       "    <tr>\n",
       "      <th>p90</th>\n",
       "      <td>180.1</td>\n",
       "      <td>1.0</td>\n",
       "      <td>4.0</td>\n",
       "      <td>3.0</td>\n",
       "      <td>2.0</td>\n",
       "      <td>3.0</td>\n",
       "      <td>66.2</td>\n",
       "      <td>65.0</td>\n",
       "      <td>78.12</td>\n",
       "      <td>71.5</td>\n",
       "    </tr>\n",
       "    <tr>\n",
       "      <th>p95</th>\n",
       "      <td>190.05</td>\n",
       "      <td>1.0</td>\n",
       "      <td>4.0</td>\n",
       "      <td>3.0</td>\n",
       "      <td>2.0</td>\n",
       "      <td>3.0</td>\n",
       "      <td>68.0</td>\n",
       "      <td>65.0</td>\n",
       "      <td>84.06</td>\n",
       "      <td>71.5</td>\n",
       "    </tr>\n",
       "    <tr>\n",
       "      <th>p99</th>\n",
       "      <td>198.01</td>\n",
       "      <td>1.0</td>\n",
       "      <td>4.0</td>\n",
       "      <td>3.0</td>\n",
       "      <td>2.0</td>\n",
       "      <td>3.0</td>\n",
       "      <td>73.03</td>\n",
       "      <td>67.0</td>\n",
       "      <td>87.624</td>\n",
       "      <td>73.7</td>\n",
       "    </tr>\n",
       "    <tr>\n",
       "      <th>max</th>\n",
       "      <td>200</td>\n",
       "      <td>1</td>\n",
       "      <td>4</td>\n",
       "      <td>3</td>\n",
       "      <td>2</td>\n",
       "      <td>3</td>\n",
       "      <td>76</td>\n",
       "      <td>67</td>\n",
       "      <td>90.0</td>\n",
       "      <td>73.7</td>\n",
       "    </tr>\n",
       "  </tbody>\n",
       "</table>\n",
       "</div>"
      ],
      "text/plain": [
       "                custid       sex AqChannel    region Marital_status   segment  \\\n",
       "dtype            int64     int64     int64     int64          int64     int64   \n",
       "cardinality        200         2         4         3              2         3   \n",
       "ntot               200       200       200       200            200       200   \n",
       "n                  200       200       200       200            200       200   \n",
       "nmiss                0         0         0         0              0         0   \n",
       "nmiss_perc         0.0       0.0       0.0       0.0            0.0       0.0   \n",
       "IQR               99.5       1.0       1.0       1.0            0.0      0.25   \n",
       "lc_iqr           -98.5      -1.5       1.5       0.5            1.0     1.625   \n",
       "uc_iqr           299.5       2.5       5.5       4.5            1.0     2.625   \n",
       "sum              20100       109       686       411            232       405   \n",
       "mean             100.5     0.545      3.43     2.055           1.16     2.025   \n",
       "var             3350.0  0.249221  1.080503  0.524598       0.135075  0.476759   \n",
       "std          57.879185   0.49922  1.039472  0.724291       0.367526  0.690477   \n",
       "min                  1         0         1         1              1         1   \n",
       "p1                2.99       0.0       1.0       1.0            1.0       1.0   \n",
       "p5               10.95       0.0       1.0       1.0            1.0       1.0   \n",
       "p10               20.9       0.0       1.0       1.0            1.0       1.0   \n",
       "p25              50.75       0.0       3.0       2.0            1.0       2.0   \n",
       "p50              100.5       1.0       4.0       2.0            1.0       2.0   \n",
       "p75             150.25       1.0       4.0       3.0            1.0      2.25   \n",
       "p90              180.1       1.0       4.0       3.0            2.0       3.0   \n",
       "p95             190.05       1.0       4.0       3.0            2.0       3.0   \n",
       "p99             198.01       1.0       4.0       3.0            2.0       3.0   \n",
       "max                200         1         4         3              2         3   \n",
       "\n",
       "              pre_usage Post_usage_1month Latest_mon_usage post_usage_2ndmonth  \n",
       "dtype             int64             int64          float64             float64  \n",
       "cardinality          30                29               40                  29  \n",
       "ntot                200               200              200                 200  \n",
       "n                   200               200              200                 200  \n",
       "nmiss                 0                 0                0                   0  \n",
       "nmiss_perc          0.0               0.0              0.0                 0.0  \n",
       "IQR                16.0             14.25             16.8              15.675  \n",
       "lc_iqr             20.0            24.375             28.8             26.8125  \n",
       "uc_iqr             84.0            81.375             96.0             89.5125  \n",
       "sum               10446             10555          12634.8             11610.5  \n",
       "mean              52.23            52.775           63.174             58.0525  \n",
       "var          105.122714         89.843593       126.385652          108.710747  \n",
       "std           10.252937          9.478586        11.242137           10.426445  \n",
       "min                  28                31             39.6                34.1  \n",
       "p1                33.97              31.0           44.376                34.1  \n",
       "p5                 36.0             35.95             46.8              39.545  \n",
       "p10                39.0              39.0             48.0                42.9  \n",
       "p25                44.0             45.75             54.0              50.325  \n",
       "p50                50.0              54.0             62.4                59.4  \n",
       "p75                60.0              60.0             70.8                66.0  \n",
       "p90                66.2              65.0            78.12                71.5  \n",
       "p95                68.0              65.0            84.06                71.5  \n",
       "p99               73.03              67.0           87.624                73.7  \n",
       "max                  76                67             90.0                73.7  "
      ]
     },
     "execution_count": 7,
     "metadata": {},
     "output_type": "execute_result"
    }
   ],
   "source": [
    "cust.apply(fn_descriptive)"
   ]
  },
  {
   "cell_type": "markdown",
   "id": "60ab2911",
   "metadata": {},
   "source": [
    "### Q6: Corelations"
   ]
  },
  {
   "cell_type": "code",
   "execution_count": 8,
   "id": "5ed0bed3",
   "metadata": {},
   "outputs": [
    {
     "data": {
      "text/plain": [
       "Index(['custid', 'sex', 'AqChannel', 'region', 'Marital_status', 'segment',\n",
       "       'pre_usage', 'Post_usage_1month', 'Latest_mon_usage',\n",
       "       'post_usage_2ndmonth'],\n",
       "      dtype='object')"
      ]
     },
     "execution_count": 8,
     "metadata": {},
     "output_type": "execute_result"
    }
   ],
   "source": [
    "cust.columns"
   ]
  },
  {
   "cell_type": "code",
   "execution_count": 10,
   "id": "a91b04d8",
   "metadata": {},
   "outputs": [
    {
     "data": {
      "image/png": "[encoded data removed]",
      "text/plain": [
       "<Figure size 432x288 with 1 Axes>"
      ]
     },
     "metadata": {
      "needs_background": "light"
     },
     "output_type": "display_data"
    }
   ],
   "source": [
    "cust.plot( kind = 'scatter', x = 'pre_usage', y = 'Latest_mon_usage' )\n",
    "plt.show()"
   ]
  },
  {
   "cell_type": "code",
   "execution_count": 11,
   "id": "79a592b3",
   "metadata": {},
   "outputs": [
    {
     "data": {
      "text/html": [
       "<div>\n",
       "<style scoped>\n",
       "    .dataframe tbody tr th:only-of-type {\n",
       "        vertical-align: middle;\n",
       "    }\n",
       "\n",
       "    .dataframe tbody tr th {\n",
       "        vertical-align: top;\n",
       "    }\n",
       "\n",
       "    .dataframe thead th {\n",
       "        text-align: right;\n",
       "    }\n",
       "</style>\n",
       "<table border=\"1\" class=\"dataframe\">\n",
       "  <thead>\n",
       "    <tr style=\"text-align: right;\">\n",
       "      <th></th>\n",
       "      <th>pre_usage</th>\n",
       "      <th>Latest_mon_usage</th>\n",
       "    </tr>\n",
       "  </thead>\n",
       "  <tbody>\n",
       "    <tr>\n",
       "      <th>pre_usage</th>\n",
       "      <td>1.00000</td>\n",
       "      <td>0.66228</td>\n",
       "    </tr>\n",
       "    <tr>\n",
       "      <th>Latest_mon_usage</th>\n",
       "      <td>0.66228</td>\n",
       "      <td>1.00000</td>\n",
       "    </tr>\n",
       "  </tbody>\n",
       "</table>\n",
       "</div>"
      ],
      "text/plain": [
       "                  pre_usage  Latest_mon_usage\n",
       "pre_usage           1.00000           0.66228\n",
       "Latest_mon_usage    0.66228           1.00000"
      ]
     },
     "execution_count": 11,
     "metadata": {},
     "output_type": "execute_result"
    }
   ],
   "source": [
    "cust.loc[:, ['pre_usage', 'Latest_mon_usage']].corr()"
   ]
  },
  {
   "cell_type": "code",
   "execution_count": 12,
   "id": "6dc63024",
   "metadata": {},
   "outputs": [
    {
     "data": {
      "text/plain": [
       "(0.6622801251558602, 1.2767419295069883e-26)"
      ]
     },
     "execution_count": 12,
     "metadata": {},
     "output_type": "execute_result"
    }
   ],
   "source": [
    "# Ho: No relationship\n",
    "# Ha: Association\n",
    "# CI: 95%, p: 0.05\n",
    "\n",
    "# perform the test \n",
    "stats.pearsonr( cust.pre_usage, cust.Latest_mon_usage )\n",
    "\n",
    "# conclusion\n",
    "# There is a strong relationsip between pre usage and latest month usage\n",
    "# Candidates spending higher earlier are spending higher now as well"
   ]
  },
  {
   "cell_type": "markdown",
   "id": "4a1c9b5f",
   "metadata": {},
   "source": [
    "### Q5: Chi sq test"
   ]
  },
  {
   "cell_type": "code",
   "execution_count": 14,
   "id": "6160431f",
   "metadata": {},
   "outputs": [
    {
     "data": {
      "text/plain": [
       "Index(['custid', 'sex', 'AqChannel', 'region', 'Marital_status', 'segment',\n",
       "       'pre_usage', 'Post_usage_1month', 'Latest_mon_usage',\n",
       "       'post_usage_2ndmonth'],\n",
       "      dtype='object')"
      ]
     },
     "execution_count": 14,
     "metadata": {},
     "output_type": "execute_result"
    }
   ],
   "source": [
    "cust.columns"
   ]
  },
  {
   "cell_type": "code",
   "execution_count": 18,
   "id": "40e0603a",
   "metadata": {},
   "outputs": [
    {
     "data": {
      "text/html": [
       "<div>\n",
       "<style scoped>\n",
       "    .dataframe tbody tr th:only-of-type {\n",
       "        vertical-align: middle;\n",
       "    }\n",
       "\n",
       "    .dataframe tbody tr th {\n",
       "        vertical-align: top;\n",
       "    }\n",
       "\n",
       "    .dataframe thead th {\n",
       "        text-align: right;\n",
       "    }\n",
       "</style>\n",
       "<table border=\"1\" class=\"dataframe\">\n",
       "  <thead>\n",
       "    <tr style=\"text-align: right;\">\n",
       "      <th>segment</th>\n",
       "      <th>1</th>\n",
       "      <th>2</th>\n",
       "      <th>3</th>\n",
       "    </tr>\n",
       "    <tr>\n",
       "      <th>region</th>\n",
       "      <th></th>\n",
       "      <th></th>\n",
       "      <th></th>\n",
       "    </tr>\n",
       "  </thead>\n",
       "  <tbody>\n",
       "    <tr>\n",
       "      <th>1</th>\n",
       "      <td>16</td>\n",
       "      <td>19</td>\n",
       "      <td>12</td>\n",
       "    </tr>\n",
       "    <tr>\n",
       "      <th>2</th>\n",
       "      <td>20</td>\n",
       "      <td>44</td>\n",
       "      <td>31</td>\n",
       "    </tr>\n",
       "    <tr>\n",
       "      <th>3</th>\n",
       "      <td>9</td>\n",
       "      <td>42</td>\n",
       "      <td>7</td>\n",
       "    </tr>\n",
       "  </tbody>\n",
       "</table>\n",
       "</div>"
      ],
      "text/plain": [
       "segment   1   2   3\n",
       "region             \n",
       "1        16  19  12\n",
       "2        20  44  31\n",
       "3         9  42   7"
      ]
     },
     "execution_count": 18,
     "metadata": {},
     "output_type": "execute_result"
    }
   ],
   "source": [
    "# get the ob_freq_table from the dataset\n",
    "obs_freq = pd.crosstab( cust.region, cust.segment )\n",
    "obs_freq"
   ]
  },
  {
   "cell_type": "code",
   "execution_count": 19,
   "id": "84e7ab11",
   "metadata": {},
   "outputs": [
    {
     "data": {
      "text/plain": [
       "(16.604441649489342,\n",
       " 0.0023066300908054713,\n",
       " 4,\n",
       " array([[10.575, 24.675, 11.75 ],\n",
       "        [21.375, 49.875, 23.75 ],\n",
       "        [13.05 , 30.45 , 14.5  ]]))"
      ]
     },
     "execution_count": 19,
     "metadata": {},
     "output_type": "execute_result"
    }
   ],
   "source": [
    "# Ho: No relationship\n",
    "# Ha: Association\n",
    "# CI: 99%, p: 0.01\n",
    "\n",
    "# perform the test \n",
    "stats.chi2_contingency( obs_freq )\n",
    "\n",
    "# output: At 99% CI we can reject the H0\n",
    "# business conclusion\n",
    "# We have customers of different segments coming from different region"
   ]
  },
  {
   "cell_type": "markdown",
   "id": "4ce74b39",
   "metadata": {},
   "source": [
    "### Q4: ANOVA or f-test"
   ]
  },
  {
   "cell_type": "code",
   "execution_count": 24,
   "id": "92f73fac",
   "metadata": {},
   "outputs": [
    {
     "data": {
      "text/plain": [
       "3"
      ]
     },
     "execution_count": 24,
     "metadata": {},
     "output_type": "execute_result"
    }
   ],
   "source": [
    "# get the num of segments\n",
    "cust.segment.nunique()"
   ]
  },
  {
   "cell_type": "code",
   "execution_count": 22,
   "id": "b801186c",
   "metadata": {},
   "outputs": [
    {
     "data": {
      "text/plain": [
       "2    105\n",
       "3     50\n",
       "1     45\n",
       "Name: segment, dtype: int64"
      ]
     },
     "execution_count": 22,
     "metadata": {},
     "output_type": "execute_result"
    }
   ],
   "source": [
    "# get the freq of segments\n",
    "cust.segment.value_counts()"
   ]
  },
  {
   "cell_type": "code",
   "execution_count": 28,
   "id": "507071ba",
   "metadata": {},
   "outputs": [
    {
     "data": {
      "text/plain": [
       "Index(['custid', 'sex', 'AqChannel', 'region', 'Marital_status', 'segment',\n",
       "       'pre_usage', 'Post_usage_1month', 'Latest_mon_usage',\n",
       "       'post_usage_2ndmonth'],\n",
       "      dtype='object')"
      ]
     },
     "execution_count": 28,
     "metadata": {},
     "output_type": "execute_result"
    }
   ],
   "source": [
    "cust.columns"
   ]
  },
  {
   "cell_type": "code",
   "execution_count": 33,
   "id": "0444b2fb",
   "metadata": {},
   "outputs": [
    {
     "name": "stdout",
     "output_type": "stream",
     "text": [
      "mean of s1:  60.026666666666685 | mean of s2:  68.08000000000003 | mean of s3:  55.703999999999986\n"
     ]
    }
   ],
   "source": [
    "# declare the variable for which we want to do the analysis\n",
    "var = 'Latest_mon_usage'\n",
    "\n",
    "# filter the data based on segments\n",
    "s1 = cust.loc[ cust.segment == 1, var ]\n",
    "s2 = cust.loc[ cust.segment == 2, var ]\n",
    "s3 = cust.loc[ cust.segment == 3, var ]\n",
    "\n",
    "# display the mean of the three sample\n",
    "print( 'mean of s1: ', s1.mean(), '| mean of s2: ', s2.mean(), '| mean of s3: ', s3.mean() )"
   ]
  },
  {
   "cell_type": "code",
   "execution_count": 34,
   "id": "1afa43c8",
   "metadata": {},
   "outputs": [
    {
     "data": {
      "text/plain": [
       "F_onewayResult(statistic=29.279283801321778, pvalue=7.36401083352674e-12)"
      ]
     },
     "execution_count": 34,
     "metadata": {},
     "output_type": "execute_result"
    }
   ],
   "source": [
    "# Ho: All the samples are from SAME population, means are EQUAL\n",
    "# Ha: Samples are from DIFFERENT population, means are UNEQUAL\n",
    "# CI: 99%, p: 0.01\n",
    "\n",
    "# perform the test\n",
    "stats.f_oneway( s1, s2, s3 )\n",
    "\n",
    "# conclusion\n",
    "# Different segment custors have different average spending"
   ]
  },
  {
   "cell_type": "markdown",
   "id": "ab3421fc",
   "metadata": {},
   "source": [
    "### Q1: 1-sample ttest"
   ]
  },
  {
   "cell_type": "code",
   "execution_count": 42,
   "id": "6b8b2ef8",
   "metadata": {},
   "outputs": [
    {
     "data": {
      "text/plain": [
       "Index(['custid', 'sex', 'AqChannel', 'region', 'Marital_status', 'segment',\n",
       "       'pre_usage', 'Post_usage_1month', 'Latest_mon_usage',\n",
       "       'post_usage_2ndmonth'],\n",
       "      dtype='object')"
      ]
     },
     "execution_count": 42,
     "metadata": {},
     "output_type": "execute_result"
    }
   ],
   "source": [
    "cust.columns"
   ]
  },
  {
   "cell_type": "code",
   "execution_count": 45,
   "id": "ffe97faf",
   "metadata": {},
   "outputs": [
    {
     "name": "stdout",
     "output_type": "stream",
     "text": [
      "popmean:  50 | sample mean:  58.05250000000003\n"
     ]
    }
   ],
   "source": [
    "# sample to be considered\n",
    "var_name = 'post_usage_2ndmonth'\n",
    "\n",
    "# mean values to be compared\n",
    "pop_mean = 50\n",
    "sample = cust.loc[:, var_name]\n",
    "mean_sample = sample.mean()\n",
    "\n",
    "# display the means\n",
    "print('popmean: ', pop_mean, '| sample mean: ', mean_sample )"
   ]
  },
  {
   "cell_type": "code",
   "execution_count": 46,
   "id": "28591a33",
   "metadata": {},
   "outputs": [
    {
     "data": {
      "text/plain": [
       "Ttest_1sampResult(statistic=10.922184044707544, pvalue=4.6342076107861245e-22)"
      ]
     },
     "execution_count": 46,
     "metadata": {},
     "output_type": "execute_result"
    }
   ],
   "source": [
    "# H0: u <= 50\n",
    "# Ha: u > 50\n",
    "# CI: 99%, p: 0.01\n",
    "\n",
    "# perform the test\n",
    "stats.ttest_1samp( a = sample, popmean = pop_mean )\n",
    "\n",
    "# Business conclusion\n",
    "# spending has increased from the last year hypothysed value of 50"
   ]
  },
  {
   "cell_type": "markdown",
   "id": "5a5271e6",
   "metadata": {},
   "source": [
    "### Q2: Paired sample ttest or Relational ttest"
   ]
  },
  {
   "cell_type": "code",
   "execution_count": 48,
   "id": "fa93a183",
   "metadata": {},
   "outputs": [
    {
     "data": {
      "text/plain": [
       "Index(['custid', 'sex', 'AqChannel', 'region', 'Marital_status', 'segment',\n",
       "       'pre_usage', 'Post_usage_1month', 'Latest_mon_usage',\n",
       "       'post_usage_2ndmonth'],\n",
       "      dtype='object')"
      ]
     },
     "execution_count": 48,
     "metadata": {},
     "output_type": "execute_result"
    }
   ],
   "source": [
    "cust.columns"
   ]
  },
  {
   "cell_type": "code",
   "execution_count": 54,
   "id": "1fce0322",
   "metadata": {},
   "outputs": [
    {
     "name": "stdout",
     "output_type": "stream",
     "text": [
      "pre usage mean: 52.23\n",
      "post usage mean: 52.775\n"
     ]
    }
   ],
   "source": [
    "# declare the post campaighn analysis variable for consideration\n",
    "var_name = 'Post_usage_1month'\n",
    "\n",
    "# print the means\n",
    "print('pre usage mean:', cust.pre_usage.mean())\n",
    "print( 'post usage mean:', cust.loc[:, var_name].mean() )"
   ]
  },
  {
   "cell_type": "code",
   "execution_count": 55,
   "id": "238f0725",
   "metadata": {},
   "outputs": [
    {
     "data": {
      "text/plain": [
       "Ttest_relResult(statistic=-0.8673065458794775, pvalue=0.3868186820914985)"
      ]
     },
     "execution_count": 55,
     "metadata": {},
     "output_type": "execute_result"
    }
   ],
   "source": [
    "# H0: u1 = u2\n",
    "# Ha: u1 <> u2\n",
    "# CI: 99%, p: 0.01\n",
    "\n",
    "# perform the test\n",
    "stats.ttest_rel( cust.pre_usage, cust.loc[:, var_name] )\n",
    "\n",
    "# stats conclusion\n",
    "# with the given sample we fail to reject the H0\n",
    "\n",
    "# business conclusion\n",
    "# if we go with the given sample, campaign is NOT sucessful"
   ]
  },
  {
   "cell_type": "markdown",
   "id": "485bdcb0",
   "metadata": {},
   "source": [
    "### Q3: independent sample ttest "
   ]
  },
  {
   "cell_type": "code",
   "execution_count": 60,
   "id": "d5e292d3",
   "metadata": {},
   "outputs": [
    {
     "data": {
      "text/plain": [
       "Index(['custid', 'sex', 'AqChannel', 'region', 'Marital_status', 'segment',\n",
       "       'pre_usage', 'Post_usage_1month', 'Latest_mon_usage',\n",
       "       'post_usage_2ndmonth'],\n",
       "      dtype='object')"
      ]
     },
     "execution_count": 60,
     "metadata": {},
     "output_type": "execute_result"
    }
   ],
   "source": [
    "cust.columns"
   ]
  },
  {
   "cell_type": "code",
   "execution_count": 63,
   "id": "63c5a4b6",
   "metadata": {},
   "outputs": [
    {
     "name": "stdout",
     "output_type": "stream",
     "text": [
      "mean spend of male: 50.120879120879124\n",
      "mean spend of female: 54.99082568807339\n"
     ]
    }
   ],
   "source": [
    "# take the two samples\n",
    "var_name = 'Post_usage_1month'\n",
    "male = cust.loc[ cust.sex == 0, var_name ]\n",
    "female = cust.loc[ cust.sex == 1, var_name ]\n",
    "\n",
    "# display the mean usages\n",
    "print('mean spend of male:', male.mean() )\n",
    "print('mean spend of female:', female.mean() )"
   ]
  },
  {
   "cell_type": "code",
   "execution_count": 58,
   "id": "8d671df8",
   "metadata": {},
   "outputs": [
    {
     "data": {
      "text/plain": [
       "Ttest_indResult(statistic=0.7480109580953392, pvalue=0.4553410655360075)"
      ]
     },
     "execution_count": 58,
     "metadata": {},
     "output_type": "execute_result"
    }
   ],
   "source": [
    "# H0: u1 = u2\n",
    "# Ha: u1 <> u2\n",
    "# CI: 99%, p: 0.01\n",
    "\n",
    "# perform the test\n",
    "stats.ttest_ind( male, female )"
   ]
  },
  {
   "cell_type": "code",
   "execution_count": 59,
   "id": "86b708f5",
   "metadata": {},
   "outputs": [
    {
     "data": {
      "text/plain": [
       "F_onewayResult(statistic=0.5595203934307058, pvalue=0.45534106553600595)"
      ]
     },
     "execution_count": 59,
     "metadata": {},
     "output_type": "execute_result"
    }
   ],
   "source": [
    "# perform the test\n",
    "stats.f_oneway( male, female )"
   ]
  },
  {
   "cell_type": "markdown",
   "id": "df0b765f",
   "metadata": {},
   "source": [
    "### Connect to the databases"
   ]
  },
  {
   "cell_type": "code",
   "execution_count": 64,
   "id": "96dc4786",
   "metadata": {},
   "outputs": [],
   "source": [
    "import pyodbc"
   ]
  },
  {
   "cell_type": "code",
   "execution_count": 67,
   "id": "bb43a3a8",
   "metadata": {},
   "outputs": [],
   "source": [
    "sql_conn = pyodbc.connect('''DRIVER={SQL Server};SERVER=DESKTOP-7BJSN33\\SQLEXPRESS;\n",
    "                          DATABASE=DB_JAN22_WEEKEND;Trusted_Connection=yes''') "
   ]
  },
  {
   "cell_type": "code",
   "execution_count": 71,
   "id": "f357905b",
   "metadata": {},
   "outputs": [
    {
     "data": {
      "text/html": [
       "<div>\n",
       "<style scoped>\n",
       "    .dataframe tbody tr th:only-of-type {\n",
       "        vertical-align: middle;\n",
       "    }\n",
       "\n",
       "    .dataframe tbody tr th {\n",
       "        vertical-align: top;\n",
       "    }\n",
       "\n",
       "    .dataframe thead th {\n",
       "        text-align: right;\n",
       "    }\n",
       "</style>\n",
       "<table border=\"1\" class=\"dataframe\">\n",
       "  <thead>\n",
       "    <tr style=\"text-align: right;\">\n",
       "      <th></th>\n",
       "      <th>REF_NO</th>\n",
       "      <th>ORD_DTE</th>\n",
       "      <th>CUST_NAME</th>\n",
       "      <th>CATEGORY</th>\n",
       "      <th>PRODUCT</th>\n",
       "      <th>SALES</th>\n",
       "      <th>PROFIT</th>\n",
       "    </tr>\n",
       "  </thead>\n",
       "  <tbody>\n",
       "    <tr>\n",
       "      <th>0</th>\n",
       "      <td>CA-2012-124891</td>\n",
       "      <td>2012-07-31</td>\n",
       "      <td>Rick Hansen</td>\n",
       "      <td>Technology</td>\n",
       "      <td>Accessories</td>\n",
       "      <td>2309.650</td>\n",
       "      <td>762.1845</td>\n",
       "    </tr>\n",
       "    <tr>\n",
       "      <th>1</th>\n",
       "      <td>CA-2014-135909</td>\n",
       "      <td>2014-10-14</td>\n",
       "      <td>Jane Waco</td>\n",
       "      <td>Office Supplies</td>\n",
       "      <td>Binders</td>\n",
       "      <td>5083.960</td>\n",
       "      <td>NaN</td>\n",
       "    </tr>\n",
       "    <tr>\n",
       "      <th>2</th>\n",
       "      <td>CA-2012-116638</td>\n",
       "      <td>2012-01-28</td>\n",
       "      <td>Joseph Holt</td>\n",
       "      <td>Furniture</td>\n",
       "      <td>Tables</td>\n",
       "      <td>4297.644</td>\n",
       "      <td>-1862.3124</td>\n",
       "    </tr>\n",
       "    <tr>\n",
       "      <th>3</th>\n",
       "      <td>CA-2014-143567</td>\n",
       "      <td>2014-11-03</td>\n",
       "      <td>Thomas Boland</td>\n",
       "      <td>Technology</td>\n",
       "      <td>Accessories</td>\n",
       "      <td>2249.910</td>\n",
       "      <td>517.4793</td>\n",
       "    </tr>\n",
       "    <tr>\n",
       "      <th>4</th>\n",
       "      <td>CA-2011-154627</td>\n",
       "      <td>2011-10-29</td>\n",
       "      <td>Sue Ann Reed</td>\n",
       "      <td>Technology</td>\n",
       "      <td>Phones</td>\n",
       "      <td>2735.952</td>\n",
       "      <td>341.9940</td>\n",
       "    </tr>\n",
       "    <tr>\n",
       "      <th>5</th>\n",
       "      <td>CA-2013-159016</td>\n",
       "      <td>2013-03-11</td>\n",
       "      <td>Karen Ferguson</td>\n",
       "      <td>Technology</td>\n",
       "      <td>Phones</td>\n",
       "      <td>4158.912</td>\n",
       "      <td>363.9048</td>\n",
       "    </tr>\n",
       "    <tr>\n",
       "      <th>6</th>\n",
       "      <td>CA-2012-139731</td>\n",
       "      <td>2012-10-15</td>\n",
       "      <td>Joel Eaton</td>\n",
       "      <td>Furniture</td>\n",
       "      <td>Chairs</td>\n",
       "      <td>2453.430</td>\n",
       "      <td>-350.4900</td>\n",
       "    </tr>\n",
       "    <tr>\n",
       "      <th>7</th>\n",
       "      <td>CA-2011-168494</td>\n",
       "      <td>2011-12-12</td>\n",
       "      <td>Nora Preis</td>\n",
       "      <td>Furniture</td>\n",
       "      <td>Tables</td>\n",
       "      <td>3610.848</td>\n",
       "      <td>135.4068</td>\n",
       "    </tr>\n",
       "    <tr>\n",
       "      <th>8</th>\n",
       "      <td>CA-2011-160766</td>\n",
       "      <td>2011-09-14</td>\n",
       "      <td>Darrin Martin</td>\n",
       "      <td>Technology</td>\n",
       "      <td>Machines</td>\n",
       "      <td>2799.960</td>\n",
       "      <td>1371.9804</td>\n",
       "    </tr>\n",
       "    <tr>\n",
       "      <th>9</th>\n",
       "      <td>US-2014-168116</td>\n",
       "      <td>2014-11-05</td>\n",
       "      <td>Grant Thornton</td>\n",
       "      <td>Technology</td>\n",
       "      <td>Machines</td>\n",
       "      <td>7999.980</td>\n",
       "      <td>-3839.9904</td>\n",
       "    </tr>\n",
       "    <tr>\n",
       "      <th>10</th>\n",
       "      <td>CA-2011-116904</td>\n",
       "      <td>2011-09-23</td>\n",
       "      <td>Sanjit Chand</td>\n",
       "      <td>Office Supplies</td>\n",
       "      <td>Binders</td>\n",
       "      <td>9449.950</td>\n",
       "      <td>4630.4755</td>\n",
       "    </tr>\n",
       "    <tr>\n",
       "      <th>11</th>\n",
       "      <td>US-2012-163825</td>\n",
       "      <td>2012-06-16</td>\n",
       "      <td>Lena Creighton</td>\n",
       "      <td>Office Supplies</td>\n",
       "      <td>Binders</td>\n",
       "      <td>3050.376</td>\n",
       "      <td>1143.8910</td>\n",
       "    </tr>\n",
       "    <tr>\n",
       "      <th>12</th>\n",
       "      <td>US-2014-135013</td>\n",
       "      <td>2014-07-25</td>\n",
       "      <td>Harold Ryan</td>\n",
       "      <td>Technology</td>\n",
       "      <td>Copiers</td>\n",
       "      <td>2399.960</td>\n",
       "      <td>839.9860</td>\n",
       "    </tr>\n",
       "    <tr>\n",
       "      <th>13</th>\n",
       "      <td>CA-2012-111829</td>\n",
       "      <td>2012-03-19</td>\n",
       "      <td>Fred Hopkins</td>\n",
       "      <td>Technology</td>\n",
       "      <td>Copiers</td>\n",
       "      <td>3149.930</td>\n",
       "      <td>1480.4671</td>\n",
       "    </tr>\n",
       "    <tr>\n",
       "      <th>14</th>\n",
       "      <td>CA-2014-129021</td>\n",
       "      <td>2014-08-24</td>\n",
       "      <td>Patrick Brill</td>\n",
       "      <td>Technology</td>\n",
       "      <td>Phones</td>\n",
       "      <td>4367.896</td>\n",
       "      <td>327.5922</td>\n",
       "    </tr>\n",
       "    <tr>\n",
       "      <th>15</th>\n",
       "      <td>CA-2012-114811</td>\n",
       "      <td>2012-11-08</td>\n",
       "      <td>Keith Dawkins</td>\n",
       "      <td>Technology</td>\n",
       "      <td>Machines</td>\n",
       "      <td>4643.800</td>\n",
       "      <td>2229.0240</td>\n",
       "    </tr>\n",
       "    <tr>\n",
       "      <th>16</th>\n",
       "      <td>CA-2013-143805</td>\n",
       "      <td>2013-12-02</td>\n",
       "      <td>Jonathan Doherty</td>\n",
       "      <td>Office Supplies</td>\n",
       "      <td>Appliances</td>\n",
       "      <td>2104.550</td>\n",
       "      <td>694.5015</td>\n",
       "    </tr>\n",
       "    <tr>\n",
       "      <th>17</th>\n",
       "      <td>CA-2012-145352</td>\n",
       "      <td>2012-03-16</td>\n",
       "      <td>Christopher Martinez</td>\n",
       "      <td>Office Supplies</td>\n",
       "      <td>Binders</td>\n",
       "      <td>6354.950</td>\n",
       "      <td>3177.4750</td>\n",
       "    </tr>\n",
       "    <tr>\n",
       "      <th>18</th>\n",
       "      <td>CA-2014-138289</td>\n",
       "      <td>2014-01-17</td>\n",
       "      <td>Andy Reiter</td>\n",
       "      <td>Office Supplies</td>\n",
       "      <td>Binders</td>\n",
       "      <td>5443.960</td>\n",
       "      <td>2504.2216</td>\n",
       "    </tr>\n",
       "    <tr>\n",
       "      <th>19</th>\n",
       "      <td>CA-2014-118892</td>\n",
       "      <td>2014-08-18</td>\n",
       "      <td>Tom Prescott</td>\n",
       "      <td>Furniture</td>\n",
       "      <td>Chairs</td>\n",
       "      <td>4416.174</td>\n",
       "      <td>-630.8820</td>\n",
       "    </tr>\n",
       "    <tr>\n",
       "      <th>20</th>\n",
       "      <td>US-2012-163825</td>\n",
       "      <td>2012-06-16</td>\n",
       "      <td>Lena Creighton</td>\n",
       "      <td>Office Supplies</td>\n",
       "      <td>Binders</td>\n",
       "      <td>3050.376</td>\n",
       "      <td>1143.8910</td>\n",
       "    </tr>\n",
       "    <tr>\n",
       "      <th>21</th>\n",
       "      <td>CA-2012-114811</td>\n",
       "      <td>2012-11-08</td>\n",
       "      <td>Keith Dawkins</td>\n",
       "      <td>Technology</td>\n",
       "      <td>Machines</td>\n",
       "      <td>4643.800</td>\n",
       "      <td>2229.0240</td>\n",
       "    </tr>\n",
       "  </tbody>\n",
       "</table>\n",
       "</div>"
      ],
      "text/plain": [
       "            REF_NO     ORD_DTE             CUST_NAME         CATEGORY  \\\n",
       "0   CA-2012-124891  2012-07-31           Rick Hansen       Technology   \n",
       "1   CA-2014-135909  2014-10-14             Jane Waco  Office Supplies   \n",
       "2   CA-2012-116638  2012-01-28           Joseph Holt        Furniture   \n",
       "3   CA-2014-143567  2014-11-03         Thomas Boland       Technology   \n",
       "4   CA-2011-154627  2011-10-29          Sue Ann Reed       Technology   \n",
       "5   CA-2013-159016  2013-03-11        Karen Ferguson       Technology   \n",
       "6   CA-2012-139731  2012-10-15            Joel Eaton        Furniture   \n",
       "7   CA-2011-168494  2011-12-12            Nora Preis        Furniture   \n",
       "8   CA-2011-160766  2011-09-14         Darrin Martin       Technology   \n",
       "9   US-2014-168116  2014-11-05        Grant Thornton       Technology   \n",
       "10  CA-2011-116904  2011-09-23          Sanjit Chand  Office Supplies   \n",
       "11  US-2012-163825  2012-06-16        Lena Creighton  Office Supplies   \n",
       "12  US-2014-135013  2014-07-25           Harold Ryan       Technology   \n",
       "13  CA-2012-111829  2012-03-19          Fred Hopkins       Technology   \n",
       "14  CA-2014-129021  2014-08-24         Patrick Brill       Technology   \n",
       "15  CA-2012-114811  2012-11-08         Keith Dawkins       Technology   \n",
       "16  CA-2013-143805  2013-12-02      Jonathan Doherty  Office Supplies   \n",
       "17  CA-2012-145352  2012-03-16  Christopher Martinez  Office Supplies   \n",
       "18  CA-2014-138289  2014-01-17           Andy Reiter  Office Supplies   \n",
       "19  CA-2014-118892  2014-08-18          Tom Prescott        Furniture   \n",
       "20  US-2012-163825  2012-06-16        Lena Creighton  Office Supplies   \n",
       "21  CA-2012-114811  2012-11-08         Keith Dawkins       Technology   \n",
       "\n",
       "        PRODUCT     SALES     PROFIT  \n",
       "0   Accessories  2309.650   762.1845  \n",
       "1       Binders  5083.960        NaN  \n",
       "2        Tables  4297.644 -1862.3124  \n",
       "3   Accessories  2249.910   517.4793  \n",
       "4        Phones  2735.952   341.9940  \n",
       "5        Phones  4158.912   363.9048  \n",
       "6        Chairs  2453.430  -350.4900  \n",
       "7        Tables  3610.848   135.4068  \n",
       "8      Machines  2799.960  1371.9804  \n",
       "9      Machines  7999.980 -3839.9904  \n",
       "10      Binders  9449.950  4630.4755  \n",
       "11      Binders  3050.376  1143.8910  \n",
       "12      Copiers  2399.960   839.9860  \n",
       "13      Copiers  3149.930  1480.4671  \n",
       "14       Phones  4367.896   327.5922  \n",
       "15     Machines  4643.800  2229.0240  \n",
       "16   Appliances  2104.550   694.5015  \n",
       "17      Binders  6354.950  3177.4750  \n",
       "18      Binders  5443.960  2504.2216  \n",
       "19       Chairs  4416.174  -630.8820  \n",
       "20      Binders  3050.376  1143.8910  \n",
       "21     Machines  4643.800  2229.0240  "
      ]
     },
     "execution_count": 71,
     "metadata": {},
     "output_type": "execute_result"
    }
   ],
   "source": [
    "query = 'SELECT * FROM TBL_ORDER;'\n",
    "df = pd.read_sql( query, sql_conn )\n",
    "df"
   ]
  },
  {
   "cell_type": "code",
   "execution_count": 74,
   "id": "7a49a499",
   "metadata": {},
   "outputs": [],
   "source": [
    "import pandasql"
   ]
  },
  {
   "cell_type": "code",
   "execution_count": 79,
   "id": "ef2500d4",
   "metadata": {},
   "outputs": [
    {
     "name": "stdout",
     "output_type": "stream",
     "text": [
      "['__call__', '__class__', '__delattr__', '__dict__', '__dir__', '__doc__', '__eq__', '__format__', '__ge__', '__getattribute__', '__gt__', '__hash__', '__init__', '__init_subclass__', '__le__', '__lt__', '__module__', '__ne__', '__new__', '__reduce__', '__reduce_ex__', '__repr__', '__setattr__', '__sizeof__', '__str__', '__subclasshook__', '__weakref__', '_init_connection', 'conn']\n"
     ]
    }
   ],
   "source": [
    "print(dir(pandasql.PandaSQL))"
   ]
  },
  {
   "cell_type": "code",
   "execution_count": null,
   "id": "72d775cf",
   "metadata": {},
   "outputs": [],
   "source": []
  }
 ],
 "metadata": {
  "kernelspec": {
   "display_name": "Python 3 (ipykernel)",
   "language": "python",
   "name": "python3"
  },
  "language_info": {
   "codemirror_mode": {
    "name": "ipython",
    "version": 3
   },
   "file_extension": ".py",
   "mimetype": "text/x-python",
   "name": "python",
   "nbconvert_exporter": "python",
   "pygments_lexer": "ipython3",
   "version": "3.9.7"
  }
 },
 "nbformat": 4,
 "nbformat_minor": 5
}
