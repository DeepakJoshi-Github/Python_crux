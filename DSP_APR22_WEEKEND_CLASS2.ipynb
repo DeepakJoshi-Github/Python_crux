{
 "cells": [
  {
   "cell_type": "markdown",
   "id": "a87766c0",
   "metadata": {},
   "source": [
    "## Today's topics"
   ]
  },
  {
   "cell_type": "raw",
   "id": "2aacb66f",
   "metadata": {},
   "source": [
    "variables, INC rules\n",
    "data types\n",
    "operators\n",
    "syntax rules\n",
    "control flow statements\n",
    "    1. Conditional statements\n",
    "    2. Loops or Iterative statements"
   ]
  },
  {
   "cell_type": "raw",
   "id": "caecef08",
   "metadata": {},
   "source": [
    "data types:\n",
    "str, int, float, bool\n",
    "\n",
    "functions:\n",
    "str(), int(), float(), bool()\n",
    "print(), type(), range()\n",
    "\n",
    "statements:\n",
    "if elif else, ternary if\n",
    "\n",
    "boolean values:\n",
    "True, False, None"
   ]
  },
  {
   "cell_type": "raw",
   "id": "123bcca7",
   "metadata": {},
   "source": [
    "data types:\n",
    "str,int ,float, bool\n",
    "bool: True, False, None\n",
    "\n",
    "function:\n",
    "str(),int(),float(),bool()\n",
    "print(),type(),range()\n",
    "\n",
    "control flow statements\n",
    "1 conditional statement \n",
    "2 loops or interactive statements\n",
    "\n"
   ]
  },
  {
   "cell_type": "markdown",
   "id": "db3962e4",
   "metadata": {},
   "source": [
    "#### variables"
   ]
  },
  {
   "cell_type": "raw",
   "id": "28b1964a",
   "metadata": {},
   "source": [
    "# variable is something wher we can store and extract the data "
   ]
  },
  {
   "cell_type": "code",
   "execution_count": 1,
   "id": "5cb4856d",
   "metadata": {},
   "outputs": [],
   "source": [
    "var= 1,2,3,4"
   ]
  },
  {
   "cell_type": "code",
   "execution_count": 2,
   "id": "5066d049",
   "metadata": {},
   "outputs": [
    {
     "data": {
      "text/plain": [
       "(1, 2, 3, 4)"
      ]
     },
     "execution_count": 2,
     "metadata": {},
     "output_type": "execute_result"
    }
   ],
   "source": [
    "var"
   ]
  },
  {
   "cell_type": "code",
   "execution_count": 3,
   "id": "1bf0d30b",
   "metadata": {},
   "outputs": [
    {
     "name": "stdout",
     "output_type": "stream",
     "text": [
      "(1, 2, 3, 4)\n"
     ]
    }
   ],
   "source": [
    "print(var)"
   ]
  },
  {
   "cell_type": "code",
   "execution_count": 4,
   "id": "a075d7f5",
   "metadata": {},
   "outputs": [
    {
     "data": {
      "text/plain": [
       "270"
      ]
     },
     "execution_count": 4,
     "metadata": {},
     "output_type": "execute_result"
    }
   ],
   "source": [
    "var = 27\n",
    "\n",
    "var * 1\n",
    "var * 2\n",
    "var * 3\n",
    "var * 4\n",
    "var * 5\n",
    "var * 6\n",
    "var * 7\n",
    "var * 8\n",
    "var * 9\n",
    "var * 10"
   ]
  },
  {
   "cell_type": "code",
   "execution_count": 5,
   "id": "c74a88da",
   "metadata": {},
   "outputs": [],
   "source": [
    "a = 10"
   ]
  },
  {
   "cell_type": "code",
   "execution_count": 6,
   "id": "1368cc30",
   "metadata": {},
   "outputs": [
    {
     "data": {
      "text/plain": [
       "10"
      ]
     },
     "execution_count": 6,
     "metadata": {},
     "output_type": "execute_result"
    }
   ],
   "source": [
    "a"
   ]
  },
  {
   "cell_type": "code",
   "execution_count": 7,
   "id": "32efccd2",
   "metadata": {},
   "outputs": [
    {
     "name": "stdout",
     "output_type": "stream",
     "text": [
      "10\n"
     ]
    }
   ],
   "source": [
    "print(a)"
   ]
  },
  {
   "cell_type": "code",
   "execution_count": 8,
   "id": "6eea2a3a",
   "metadata": {},
   "outputs": [],
   "source": [
    "b = 20"
   ]
  },
  {
   "cell_type": "code",
   "execution_count": 9,
   "id": "0e5ae2df",
   "metadata": {},
   "outputs": [
    {
     "data": {
      "text/plain": [
       "30"
      ]
     },
     "execution_count": 9,
     "metadata": {},
     "output_type": "execute_result"
    }
   ],
   "source": [
    "b + 10"
   ]
  },
  {
   "cell_type": "code",
   "execution_count": 10,
   "id": "5ed1a408",
   "metadata": {},
   "outputs": [
    {
     "name": "stdout",
     "output_type": "stream",
     "text": [
      "20\n"
     ]
    },
    {
     "ename": "TypeError",
     "evalue": "unsupported operand type(s) for +: 'NoneType' and 'int'",
     "output_type": "error",
     "traceback": [
      "\u001b[1;31m---------------------------------------------------------------------------\u001b[0m",
      "\u001b[1;31mTypeError\u001b[0m                                 Traceback (most recent call last)",
      "\u001b[1;32mC:\\Users\\DEEPAK~1\\AppData\\Local\\Temp/ipykernel_25940/4153268151.py\u001b[0m in \u001b[0;36m<module>\u001b[1;34m\u001b[0m\n\u001b[1;32m----> 1\u001b[1;33m \u001b[0mprint\u001b[0m\u001b[1;33m(\u001b[0m\u001b[0mb\u001b[0m\u001b[1;33m)\u001b[0m \u001b[1;33m+\u001b[0m \u001b[1;36m10\u001b[0m\u001b[1;33m\u001b[0m\u001b[1;33m\u001b[0m\u001b[0m\n\u001b[0m",
      "\u001b[1;31mTypeError\u001b[0m: unsupported operand type(s) for +: 'NoneType' and 'int'"
     ]
    }
   ],
   "source": [
    "print(b) + 10"
   ]
  },
  {
   "cell_type": "code",
   "execution_count": 28,
   "id": "520269d2",
   "metadata": {},
   "outputs": [
    {
     "name": "stdout",
     "output_type": "stream",
     "text": [
      "30\n"
     ]
    }
   ],
   "source": [
    "print(b + 10)"
   ]
  },
  {
   "cell_type": "code",
   "execution_count": null,
   "id": "d6f81516",
   "metadata": {},
   "outputs": [],
   "source": [
    "x=10"
   ]
  },
  {
   "cell_type": "code",
   "execution_count": null,
   "id": "01a0e7e5",
   "metadata": {},
   "outputs": [],
   "source": [
    "x+10"
   ]
  },
  {
   "cell_type": "code",
   "execution_count": null,
   "id": "3fbe68e7",
   "metadata": {},
   "outputs": [],
   "source": [
    "print(x)+10"
   ]
  },
  {
   "cell_type": "code",
   "execution_count": null,
   "id": "8474260b",
   "metadata": {},
   "outputs": [],
   "source": [
    "B"
   ]
  },
  {
   "cell_type": "code",
   "execution_count": null,
   "id": "c036c6d9",
   "metadata": {},
   "outputs": [],
   "source": []
  },
  {
   "cell_type": "code",
   "execution_count": null,
   "id": "a1939dea",
   "metadata": {},
   "outputs": [],
   "source": [
    "print( b + 10 )"
   ]
  },
  {
   "cell_type": "code",
   "execution_count": 29,
   "id": "e7c6bc62",
   "metadata": {},
   "outputs": [
    {
     "name": "stdout",
     "output_type": "stream",
     "text": [
      "20\n",
      "10\n"
     ]
    },
    {
     "ename": "TypeError",
     "evalue": "unsupported operand type(s) for +: 'NoneType' and 'NoneType'",
     "output_type": "error",
     "traceback": [
      "\u001b[1;31m---------------------------------------------------------------------------\u001b[0m",
      "\u001b[1;31mTypeError\u001b[0m                                 Traceback (most recent call last)",
      "\u001b[1;32mC:\\Users\\DEEPAK~1\\AppData\\Local\\Temp/ipykernel_25940/1543295943.py\u001b[0m in \u001b[0;36m<module>\u001b[1;34m\u001b[0m\n\u001b[1;32m----> 1\u001b[1;33m \u001b[0mprint\u001b[0m\u001b[1;33m(\u001b[0m\u001b[0mb\u001b[0m\u001b[1;33m)\u001b[0m \u001b[1;33m+\u001b[0m \u001b[0mprint\u001b[0m\u001b[1;33m(\u001b[0m\u001b[1;36m10\u001b[0m\u001b[1;33m)\u001b[0m\u001b[1;33m\u001b[0m\u001b[1;33m\u001b[0m\u001b[0m\n\u001b[0m",
      "\u001b[1;31mTypeError\u001b[0m: unsupported operand type(s) for +: 'NoneType' and 'NoneType'"
     ]
    }
   ],
   "source": [
    "print(b) + print(10)"
   ]
  },
  {
   "cell_type": "code",
   "execution_count": null,
   "id": "97579501",
   "metadata": {},
   "outputs": [],
   "source": [
    "a = 10"
   ]
  },
  {
   "cell_type": "code",
   "execution_count": 30,
   "id": "34bbcad5",
   "metadata": {},
   "outputs": [
    {
     "data": {
      "text/plain": [
       "int"
      ]
     },
     "execution_count": 30,
     "metadata": {},
     "output_type": "execute_result"
    }
   ],
   "source": [
    "type( a )"
   ]
  },
  {
   "cell_type": "code",
   "execution_count": null,
   "id": "bd372220",
   "metadata": {},
   "outputs": [],
   "source": [
    "a"
   ]
  },
  {
   "cell_type": "code",
   "execution_count": null,
   "id": "8bb4b5d9",
   "metadata": {},
   "outputs": [],
   "source": [
    "a = 10.5"
   ]
  },
  {
   "cell_type": "code",
   "execution_count": null,
   "id": "849bf23f",
   "metadata": {},
   "outputs": [],
   "source": [
    "type(a)"
   ]
  },
  {
   "cell_type": "code",
   "execution_count": null,
   "id": "d283c111",
   "metadata": {},
   "outputs": [],
   "source": [
    "a"
   ]
  },
  {
   "cell_type": "code",
   "execution_count": null,
   "id": "c7daca28",
   "metadata": {},
   "outputs": [],
   "source": [
    "a = '10.5'"
   ]
  },
  {
   "cell_type": "code",
   "execution_count": null,
   "id": "03c58a62",
   "metadata": {},
   "outputs": [],
   "source": [
    "type(a)"
   ]
  },
  {
   "cell_type": "markdown",
   "id": "1aecebe5",
   "metadata": {},
   "source": [
    "#### INC (Identifier Naming Conventions) rules"
   ]
  },
  {
   "cell_type": "raw",
   "id": "31f1cd1b",
   "metadata": {},
   "source": [
    "1. The names can alphanumeric\n",
    "2. No special chars allowed except underscore\n",
    "3. Names can start only with alphabets or underscore\n",
    "    **As a good practice dont start the names of the variables with underscore\n",
    "4. There is no restriction on the length of chars of names\n",
    "    **As a good practive try to give small but meaningful names\n",
    "5. Dont use the keywords as the names of the identifiers    "
   ]
  },
  {
   "cell_type": "code",
   "execution_count": 34,
   "id": "c142e75f",
   "metadata": {},
   "outputs": [],
   "source": [
    "a101 = 10"
   ]
  },
  {
   "cell_type": "code",
   "execution_count": null,
   "id": "f53f6e52",
   "metadata": {},
   "outputs": [],
   "source": [
    "a_101 = 10"
   ]
  },
  {
   "cell_type": "code",
   "execution_count": null,
   "id": "7d053933",
   "metadata": {},
   "outputs": [],
   "source": [
    "var1 = 20"
   ]
  },
  {
   "cell_type": "code",
   "execution_count": null,
   "id": "0ed3281d",
   "metadata": {},
   "outputs": [],
   "source": [
    "_var1 = 20"
   ]
  },
  {
   "cell_type": "code",
   "execution_count": 33,
   "id": "09732cea",
   "metadata": {},
   "outputs": [
    {
     "ename": "SyntaxError",
     "evalue": "invalid syntax (Temp/ipykernel_25940/4256868957.py, line 1)",
     "output_type": "error",
     "traceback": [
      "\u001b[1;36m  File \u001b[1;32m\"C:\\Users\\DEEPAK~1\\AppData\\Local\\Temp/ipykernel_25940/4256868957.py\"\u001b[1;36m, line \u001b[1;32m1\u001b[0m\n\u001b[1;33m    1var = 10\u001b[0m\n\u001b[1;37m     ^\u001b[0m\n\u001b[1;31mSyntaxError\u001b[0m\u001b[1;31m:\u001b[0m invalid syntax\n"
     ]
    }
   ],
   "source": [
    "1var = 10"
   ]
  },
  {
   "cell_type": "code",
   "execution_count": 31,
   "id": "74ed872f",
   "metadata": {},
   "outputs": [
    {
     "ename": "SyntaxError",
     "evalue": "invalid syntax (Temp/ipykernel_25940/1642570220.py, line 1)",
     "output_type": "error",
     "traceback": [
      "\u001b[1;36m  File \u001b[1;32m\"C:\\Users\\DEEPAK~1\\AppData\\Local\\Temp/ipykernel_25940/1642570220.py\"\u001b[1;36m, line \u001b[1;32m1\u001b[0m\n\u001b[1;33m    var.1 = 10\u001b[0m\n\u001b[1;37m       ^\u001b[0m\n\u001b[1;31mSyntaxError\u001b[0m\u001b[1;31m:\u001b[0m invalid syntax\n"
     ]
    }
   ],
   "source": [
    "var.1 = 10"
   ]
  },
  {
   "cell_type": "code",
   "execution_count": 36,
   "id": "c364a228",
   "metadata": {},
   "outputs": [],
   "source": [
    "var2=11"
   ]
  },
  {
   "cell_type": "code",
   "execution_count": 37,
   "id": "e7999b6d",
   "metadata": {},
   "outputs": [
    {
     "name": "stdout",
     "output_type": "stream",
     "text": [
      "11\n"
     ]
    }
   ],
   "source": [
    "print(var2)"
   ]
  },
  {
   "cell_type": "code",
   "execution_count": null,
   "id": "9564abf0",
   "metadata": {},
   "outputs": [],
   "source": [
    "_a = 20"
   ]
  },
  {
   "cell_type": "code",
   "execution_count": null,
   "id": "9d000c4a",
   "metadata": {},
   "outputs": [],
   "source": [
    "aaaaaaaaaaaaaaaaaaaaaaaaaaaaaaaaaaaaaaaaaaaaaaaaaaaaaaaaaaaaaaaaaaaaa = 10"
   ]
  },
  {
   "cell_type": "code",
   "execution_count": null,
   "id": "c379ad84",
   "metadata": {},
   "outputs": [],
   "source": [
    "sum([1, 2, 3, 4, 5, 4])"
   ]
  },
  {
   "cell_type": "code",
   "execution_count": null,
   "id": "3777f156",
   "metadata": {},
   "outputs": [],
   "source": [
    "sum([3,2,5,9,1])"
   ]
  },
  {
   "cell_type": "code",
   "execution_count": null,
   "id": "cf3fbf47",
   "metadata": {},
   "outputs": [],
   "source": [
    "sum = 10"
   ]
  },
  {
   "cell_type": "code",
   "execution_count": null,
   "id": "c858bed0",
   "metadata": {},
   "outputs": [],
   "source": [
    "sum([1, 2, 3, 4, 5, 4])"
   ]
  },
  {
   "cell_type": "code",
   "execution_count": null,
   "id": "cf2da14d",
   "metadata": {},
   "outputs": [],
   "source": [
    "sum"
   ]
  },
  {
   "cell_type": "code",
   "execution_count": null,
   "id": "8e2ad6df",
   "metadata": {},
   "outputs": [],
   "source": [
    "del sum"
   ]
  },
  {
   "cell_type": "markdown",
   "id": "8cb21f84",
   "metadata": {},
   "source": [
    "sum"
   ]
  },
  {
   "cell_type": "code",
   "execution_count": null,
   "id": "31ceef17",
   "metadata": {},
   "outputs": [],
   "source": [
    "sum"
   ]
  },
  {
   "cell_type": "code",
   "execution_count": null,
   "id": "d37022ac",
   "metadata": {},
   "outputs": [],
   "source": [
    "del sum"
   ]
  },
  {
   "cell_type": "code",
   "execution_count": null,
   "id": "cc5974e2",
   "metadata": {},
   "outputs": [],
   "source": [
    "sum"
   ]
  },
  {
   "cell_type": "markdown",
   "id": "798721d8",
   "metadata": {},
   "source": [
    "#### data types"
   ]
  },
  {
   "cell_type": "raw",
   "id": "e1d35562",
   "metadata": {},
   "source": [
    "tinyint, smallint, int, bigint, long\n",
    "float, double, numeric\n",
    "char, str, varchar, text, nchar, nvarchar\n",
    "bool, boolean, bit\n",
    "date, datetime, time\n",
    "....."
   ]
  },
  {
   "cell_type": "raw",
   "id": "af082c52",
   "metadata": {},
   "source": [
    "Basic python supports only 4 datatypes:\n",
    "\n",
    "1. str\n",
    "2. float\n",
    "3. int\n",
    "4. bool\n",
    "\n",
    "str()\n",
    "float()\n",
    "int()\n",
    "bool()\n",
    "\n",
    "Non standard numerics - Numbers which are stored as char/str"
   ]
  },
  {
   "cell_type": "code",
   "execution_count": null,
   "id": "4d9a850b",
   "metadata": {},
   "outputs": [],
   "source": [
    "var_1 = 10\n",
    "type(var_1)"
   ]
  },
  {
   "cell_type": "code",
   "execution_count": null,
   "id": "f495902c",
   "metadata": {},
   "outputs": [],
   "source": [
    "var_1= 10"
   ]
  },
  {
   "cell_type": "code",
   "execution_count": 38,
   "id": "7fceb8d0",
   "metadata": {},
   "outputs": [
    {
     "data": {
      "text/plain": [
       "float"
      ]
     },
     "execution_count": 38,
     "metadata": {},
     "output_type": "execute_result"
    }
   ],
   "source": [
    "var_2= 29.9\n",
    "type(var_2)"
   ]
  },
  {
   "cell_type": "code",
   "execution_count": 39,
   "id": "8444e197",
   "metadata": {},
   "outputs": [
    {
     "data": {
      "text/plain": [
       "str"
      ]
     },
     "execution_count": 39,
     "metadata": {},
     "output_type": "execute_result"
    }
   ],
   "source": [
    "var3='check'\n",
    "type(var3)"
   ]
  },
  {
   "cell_type": "code",
   "execution_count": 40,
   "id": "ae88518c",
   "metadata": {},
   "outputs": [
    {
     "data": {
      "text/plain": [
       "bool"
      ]
     },
     "execution_count": 40,
     "metadata": {},
     "output_type": "execute_result"
    }
   ],
   "source": [
    "var4=True\n",
    "type(var4)"
   ]
  },
  {
   "cell_type": "code",
   "execution_count": 41,
   "id": "9e324d8c",
   "metadata": {},
   "outputs": [
    {
     "data": {
      "text/plain": [
       "29.9"
      ]
     },
     "execution_count": 41,
     "metadata": {},
     "output_type": "execute_result"
    }
   ],
   "source": [
    "int(var_2)\n",
    "var_2"
   ]
  },
  {
   "cell_type": "code",
   "execution_count": 42,
   "id": "c8394543",
   "metadata": {},
   "outputs": [],
   "source": [
    "var_2 = 10.0"
   ]
  },
  {
   "cell_type": "code",
   "execution_count": 44,
   "id": "7bd6adc5",
   "metadata": {},
   "outputs": [],
   "source": [
    "var_3 = '10'"
   ]
  },
  {
   "cell_type": "code",
   "execution_count": null,
   "id": "876bf6c8",
   "metadata": {},
   "outputs": [],
   "source": [
    "var_4 = True"
   ]
  },
  {
   "cell_type": "code",
   "execution_count": null,
   "id": "450d1a69",
   "metadata": {},
   "outputs": [],
   "source": [
    "var_1"
   ]
  },
  {
   "cell_type": "code",
   "execution_count": null,
   "id": "d88e73ba",
   "metadata": {},
   "outputs": [],
   "source": [
    "type(var_1)"
   ]
  },
  {
   "cell_type": "code",
   "execution_count": null,
   "id": "ec671d03",
   "metadata": {},
   "outputs": [],
   "source": [
    "var_2"
   ]
  },
  {
   "cell_type": "code",
   "execution_count": null,
   "id": "6868a08e",
   "metadata": {},
   "outputs": [],
   "source": [
    "type(var_2)"
   ]
  },
  {
   "cell_type": "code",
   "execution_count": null,
   "id": "f063ca61",
   "metadata": {},
   "outputs": [],
   "source": [
    "var_3"
   ]
  },
  {
   "cell_type": "code",
   "execution_count": null,
   "id": "51e91135",
   "metadata": {},
   "outputs": [],
   "source": [
    "type(var_3)"
   ]
  },
  {
   "cell_type": "code",
   "execution_count": null,
   "id": "5080068e",
   "metadata": {},
   "outputs": [],
   "source": [
    "var_4"
   ]
  },
  {
   "cell_type": "code",
   "execution_count": null,
   "id": "eb14bf82",
   "metadata": {},
   "outputs": [],
   "source": [
    "type(var_4)"
   ]
  },
  {
   "cell_type": "code",
   "execution_count": null,
   "id": "80911bfd",
   "metadata": {},
   "outputs": [],
   "source": [
    "int(var_4)"
   ]
  },
  {
   "cell_type": "code",
   "execution_count": null,
   "id": "d7e9849e",
   "metadata": {},
   "outputs": [],
   "source": [
    "int(var_2)"
   ]
  },
  {
   "cell_type": "code",
   "execution_count": null,
   "id": "71f3017c",
   "metadata": {},
   "outputs": [],
   "source": [
    "int(var_3)"
   ]
  },
  {
   "cell_type": "code",
   "execution_count": 45,
   "id": "1b04b2e6",
   "metadata": {},
   "outputs": [
    {
     "data": {
      "text/plain": [
       "10.0"
      ]
     },
     "execution_count": 45,
     "metadata": {},
     "output_type": "execute_result"
    }
   ],
   "source": [
    "float(var_3)"
   ]
  },
  {
   "cell_type": "code",
   "execution_count": null,
   "id": "bd73a0ba",
   "metadata": {},
   "outputs": [],
   "source": [
    "a = 10.9"
   ]
  },
  {
   "cell_type": "code",
   "execution_count": null,
   "id": "1e17292e",
   "metadata": {},
   "outputs": [],
   "source": [
    "int(a)"
   ]
  },
  {
   "cell_type": "code",
   "execution_count": 48,
   "id": "ef58eb8f",
   "metadata": {},
   "outputs": [
    {
     "data": {
      "text/plain": [
       "str"
      ]
     },
     "execution_count": 48,
     "metadata": {},
     "output_type": "execute_result"
    }
   ],
   "source": [
    "b = '10.5'\n",
    "type(b)"
   ]
  },
  {
   "cell_type": "code",
   "execution_count": 49,
   "id": "e1e7eed6",
   "metadata": {},
   "outputs": [
    {
     "ename": "ValueError",
     "evalue": "invalid literal for int() with base 10: '10.5'",
     "output_type": "error",
     "traceback": [
      "\u001b[1;31m---------------------------------------------------------------------------\u001b[0m",
      "\u001b[1;31mValueError\u001b[0m                                Traceback (most recent call last)",
      "\u001b[1;32mC:\\Users\\DEEPAK~1\\AppData\\Local\\Temp/ipykernel_25940/3956108814.py\u001b[0m in \u001b[0;36m<module>\u001b[1;34m\u001b[0m\n\u001b[1;32m----> 1\u001b[1;33m \u001b[0mint\u001b[0m\u001b[1;33m(\u001b[0m\u001b[0mb\u001b[0m\u001b[1;33m)\u001b[0m\u001b[1;33m\u001b[0m\u001b[1;33m\u001b[0m\u001b[0m\n\u001b[0m",
      "\u001b[1;31mValueError\u001b[0m: invalid literal for int() with base 10: '10.5'"
     ]
    }
   ],
   "source": [
    "int(b)"
   ]
  },
  {
   "cell_type": "code",
   "execution_count": 50,
   "id": "b5f43177",
   "metadata": {},
   "outputs": [
    {
     "name": "stdout",
     "output_type": "stream",
     "text": [
      "10.5\n"
     ]
    }
   ],
   "source": [
    "int(float(b))\n",
    "print(b)"
   ]
  },
  {
   "cell_type": "code",
   "execution_count": null,
   "id": "04ed5f3a",
   "metadata": {},
   "outputs": [],
   "source": [
    "float(b)"
   ]
  },
  {
   "cell_type": "code",
   "execution_count": null,
   "id": "f651f35b",
   "metadata": {},
   "outputs": [],
   "source": [
    "int(b)"
   ]
  },
  {
   "cell_type": "code",
   "execution_count": 51,
   "id": "ff2d86d5",
   "metadata": {},
   "outputs": [
    {
     "data": {
      "text/plain": [
       "10"
      ]
     },
     "execution_count": 51,
     "metadata": {},
     "output_type": "execute_result"
    }
   ],
   "source": [
    "int(float(b))"
   ]
  },
  {
   "cell_type": "markdown",
   "id": "441b0fef",
   "metadata": {},
   "source": [
    "#### Operators"
   ]
  },
  {
   "cell_type": "raw",
   "id": "598ab68f",
   "metadata": {},
   "source": [
    "symbols to perform calculations\n",
    "\n",
    "assignment: =\n",
    "arithmatic / mathematical: + - * / % // **\n",
    "arithmatic + assignment: += -= *= /=\n",
    "conditional / comparision / relational: boolean\n",
    "    single valued: > >= < <= == != <>\n",
    "    multi valued / membership: in\n",
    "logical / bool:\n",
    "    and or not\n",
    "    bitwise: & | ~ \n",
    "    (will discuss in class 4 or 5)\n",
    "    \n",
    "    and: will give True when all the conditions/values are True\n",
    "    or: will give value as True if any one of the value / conditions is True\n",
    "    \n",
    "Sequence of operations:\n",
    "B --> O --> D M --> A S --> conditional --> not --> and --> or"
   ]
  },
  {
   "cell_type": "code",
   "execution_count": null,
   "id": "0e70f7ba",
   "metadata": {},
   "outputs": [],
   "source": [
    "# Q1: What is the output of following expression\n",
    "\n",
    "5 + 4 * 9 % (3 + 1) / 6 - 1"
   ]
  },
  {
   "cell_type": "code",
   "execution_count": null,
   "id": "67fb76dc",
   "metadata": {},
   "outputs": [],
   "source": [
    "5 + 4 * 9 % 4 / 6 - 1"
   ]
  },
  {
   "cell_type": "code",
   "execution_count": null,
   "id": "37dca3e1",
   "metadata": {},
   "outputs": [],
   "source": [
    "5 + 36 % 4 / 6 - 1"
   ]
  },
  {
   "cell_type": "code",
   "execution_count": null,
   "id": "89382e0d",
   "metadata": {},
   "outputs": [],
   "source": [
    "5 + 0 / 6 - 1"
   ]
  },
  {
   "cell_type": "code",
   "execution_count": null,
   "id": "0d012643",
   "metadata": {},
   "outputs": [],
   "source": [
    "5 + 0.0 - 1"
   ]
  },
  {
   "cell_type": "code",
   "execution_count": null,
   "id": "af2eb880",
   "metadata": {},
   "outputs": [],
   "source": [
    "5.0 - 1"
   ]
  },
  {
   "cell_type": "code",
   "execution_count": null,
   "id": "4bff8532",
   "metadata": {},
   "outputs": [],
   "source": [
    "4.0"
   ]
  },
  {
   "cell_type": "code",
   "execution_count": null,
   "id": "293a6328",
   "metadata": {},
   "outputs": [],
   "source": [
    "3 * 4 / 5"
   ]
  },
  {
   "cell_type": "code",
   "execution_count": null,
   "id": "fa241dbc",
   "metadata": {},
   "outputs": [],
   "source": [
    "3 == 3"
   ]
  },
  {
   "cell_type": "code",
   "execution_count": null,
   "id": "80925c26",
   "metadata": {},
   "outputs": [],
   "source": [
    "5==5"
   ]
  },
  {
   "cell_type": "code",
   "execution_count": null,
   "id": "673d5f06",
   "metadata": {},
   "outputs": [],
   "source": [
    "4>2"
   ]
  },
  {
   "cell_type": "code",
   "execution_count": null,
   "id": "8dcd22f9",
   "metadata": {},
   "outputs": [],
   "source": [
    "3 > 5"
   ]
  },
  {
   "cell_type": "code",
   "execution_count": null,
   "id": "1f8b8f05",
   "metadata": {},
   "outputs": [],
   "source": [
    "30 < 50"
   ]
  },
  {
   "cell_type": "code",
   "execution_count": null,
   "id": "65bb599b",
   "metadata": {},
   "outputs": [],
   "source": [
    "3 == 3 or 3 > 5"
   ]
  },
  {
   "cell_type": "code",
   "execution_count": null,
   "id": "ddf7ebb8",
   "metadata": {},
   "outputs": [],
   "source": [
    "5==5 or 3>4"
   ]
  },
  {
   "cell_type": "code",
   "execution_count": null,
   "id": "ac08131a",
   "metadata": {},
   "outputs": [],
   "source": [
    "5==5 and 3>4"
   ]
  },
  {
   "cell_type": "code",
   "execution_count": null,
   "id": "46131678",
   "metadata": {},
   "outputs": [],
   "source": [
    "3 == 3 and 3 > 5"
   ]
  },
  {
   "cell_type": "code",
   "execution_count": null,
   "id": "e7d7b4f3",
   "metadata": {},
   "outputs": [],
   "source": [
    "5/2"
   ]
  },
  {
   "cell_type": "code",
   "execution_count": 52,
   "id": "90c42cd5",
   "metadata": {},
   "outputs": [
    {
     "data": {
      "text/plain": [
       "6.0"
      ]
     },
     "execution_count": 52,
     "metadata": {},
     "output_type": "execute_result"
    }
   ],
   "source": [
    "float(int(18/3))"
   ]
  },
  {
   "cell_type": "code",
   "execution_count": 53,
   "id": "10856b7c",
   "metadata": {},
   "outputs": [
    {
     "data": {
      "text/plain": [
       "5"
      ]
     },
     "execution_count": 53,
     "metadata": {},
     "output_type": "execute_result"
    }
   ],
   "source": [
    "17/3\n",
    "17//3"
   ]
  },
  {
   "cell_type": "code",
   "execution_count": null,
   "id": "1109b943",
   "metadata": {},
   "outputs": [],
   "source": [
    "5//2"
   ]
  },
  {
   "cell_type": "code",
   "execution_count": null,
   "id": "fb2b6cf6",
   "metadata": {},
   "outputs": [],
   "source": [
    "int(5/2)"
   ]
  },
  {
   "cell_type": "code",
   "execution_count": 54,
   "id": "877b5d4f",
   "metadata": {},
   "outputs": [
    {
     "data": {
      "text/plain": [
       "1"
      ]
     },
     "execution_count": 54,
     "metadata": {},
     "output_type": "execute_result"
    }
   ],
   "source": [
    "5%2"
   ]
  },
  {
   "cell_type": "code",
   "execution_count": 55,
   "id": "f3cb5bc0",
   "metadata": {},
   "outputs": [
    {
     "data": {
      "text/plain": [
       "2"
      ]
     },
     "execution_count": 55,
     "metadata": {},
     "output_type": "execute_result"
    }
   ],
   "source": [
    "17%3"
   ]
  },
  {
   "cell_type": "code",
   "execution_count": null,
   "id": "a5212397",
   "metadata": {},
   "outputs": [],
   "source": [
    "3**2"
   ]
  },
  {
   "cell_type": "code",
   "execution_count": null,
   "id": "001722c8",
   "metadata": {},
   "outputs": [],
   "source": []
  },
  {
   "cell_type": "code",
   "execution_count": null,
   "id": "6fb10272",
   "metadata": {},
   "outputs": [],
   "source": [
    "2 ** 3"
   ]
  },
  {
   "cell_type": "markdown",
   "id": "b862daba",
   "metadata": {},
   "source": [
    "#### syntax rules"
   ]
  },
  {
   "cell_type": "raw",
   "id": "4a103a36",
   "metadata": {},
   "source": [
    "<#include ....>\n",
    "void main() {\n",
    "int a, b, c;\n",
    "a = 20;\n",
    "b = 10;\n",
    "c = a + b;\n",
    "if c > 0 {\n",
    "printf('positive');\n",
    "}\n",
    "else {\n",
    "printf('negative');\n",
    "}  \n",
    "}"
   ]
  },
  {
   "cell_type": "raw",
   "id": "af68cc4f",
   "metadata": {},
   "source": [
    "<#include ....>\n",
    "void main() {\n",
    "    \n",
    "    int a, b, c;\n",
    "    a = 20; \n",
    "    b = 10;\n",
    "    c = a + b;\n",
    "    \n",
    "    if c > 0 {\n",
    "        printf('positive');\n",
    "    }\n",
    "    else {\n",
    "        printf('negative');\n",
    "    }  \n",
    "}"
   ]
  },
  {
   "cell_type": "raw",
   "id": "2abc589a",
   "metadata": {},
   "source": [
    "<#include ....>\n",
    "void main():\n",
    "    a = 20\n",
    "    b = 10\n",
    "    c = a + b\n",
    "    if c > 0:\n",
    "        print('positive')\n",
    "    else:\n",
    "        print('negative')\n",
    "        print('nnnnnnnnnnn')\n",
    "        \n",
    "var = 10"
   ]
  },
  {
   "cell_type": "markdown",
   "id": "6b88b388",
   "metadata": {},
   "source": [
    "### control flow statements\n",
    "\n",
    "1. Conditional statements\n",
    "    - if elif else block\n",
    "    - ternary if\n",
    "\n",
    "    <br/>\n",
    "2. Loops\n",
    "\n",
    "    - condtional loops\n",
    "    - iterative loops\n",
    "    \n",
    "   **iterable: is an object which can contain multiple values"
   ]
  },
  {
   "cell_type": "code",
   "execution_count": 11,
   "id": "d2161495",
   "metadata": {},
   "outputs": [
    {
     "ename": "SyntaxError",
     "evalue": "invalid syntax (Temp/ipykernel_25940/196365551.py, line 1)",
     "output_type": "error",
     "traceback": [
      "\u001b[1;36m  File \u001b[1;32m\"C:\\Users\\DEEPAK~1\\AppData\\Local\\Temp/ipykernel_25940/196365551.py\"\u001b[1;36m, line \u001b[1;32m1\u001b[0m\n\u001b[1;33m    control flow statements\u001b[0m\n\u001b[1;37m            ^\u001b[0m\n\u001b[1;31mSyntaxError\u001b[0m\u001b[1;31m:\u001b[0m invalid syntax\n"
     ]
    }
   ],
   "source": [
    "control flow statements\n",
    "1 condoitional statement\n",
    "    * if elif else block\n",
    "    * ternary if\n",
    "    \n",
    "2 Loops\n",
    "    * conditional loops\n",
    "    * interactive loops\n",
    "    "
   ]
  },
  {
   "cell_type": "markdown",
   "id": "1d65385b",
   "metadata": {},
   "source": [
    "#### if elif else block\n",
    "\n"
   ]
  },
  {
   "cell_type": "raw",
   "id": "8e3c1f84",
   "metadata": {},
   "source": [
    "Complete syntax:\n",
    "    \n",
    "if condition/s:\n",
    "    line1...\n",
    "    line2...\n",
    "    \n",
    "elif condition/s:\n",
    "    line1...\n",
    "    \n",
    "...\n",
    "\n",
    "else:\n",
    "    linen"
   ]
  },
  {
   "cell_type": "raw",
   "id": "f206346f",
   "metadata": {},
   "source": [
    "syntax:\n",
    "    \n",
    "if condition/s:\n",
    "    line1...\n",
    "    line2...\n",
    "    \n",
    "****************************************************   \n",
    "if condition/s:\n",
    "    line1...\n",
    "    line2...\n",
    "    \n",
    "elif condition/s:\n",
    "    line1...\n",
    "    \n",
    "...\n",
    "\n",
    "****************************************************   \n",
    "if condition/s:\n",
    "    line1...\n",
    "    line2...\n",
    "\n",
    "else:\n",
    "    linen\n"
   ]
  },
  {
   "cell_type": "code",
   "execution_count": null,
   "id": "1c689ffd",
   "metadata": {},
   "outputs": [],
   "source": [
    "num = 10\n",
    "\n",
    "print('positive')\n",
    "print('negative')"
   ]
  },
  {
   "cell_type": "code",
   "execution_count": null,
   "id": "9b22340b",
   "metadata": {},
   "outputs": [],
   "source": [
    "# print if the number is positive or negative\n",
    "num = 0\n",
    "if num > 0:\n",
    "    print('positive')\n",
    "else:\n",
    "    print('negative')"
   ]
  },
  {
   "cell_type": "code",
   "execution_count": 62,
   "id": "5c19bd49",
   "metadata": {},
   "outputs": [
    {
     "name": "stdout",
     "output_type": "stream",
     "text": [
      "56.6\n",
      "good score\n",
      "inter your marks\n"
     ]
    }
   ],
   "source": [
    "num = int(float(input().strip()))  #input() to take value from user \n",
    "                                   #strip() to remove spacing from the input( trim in excel)\n",
    "if num > 50:\n",
    "    print('good score')\n",
    "elif num == 50:\n",
    "    print('need to improve')\n",
    "else:\n",
    "    print ('poor perfromance')\n",
    "    \n",
    "print ('inter your marks')\n",
    "    "
   ]
  },
  {
   "cell_type": "code",
   "execution_count": 58,
   "id": "31cb6e05",
   "metadata": {},
   "outputs": [
    {
     "name": "stdout",
     "output_type": "stream",
     "text": [
      "+ve\n",
      "enter new value to check\n"
     ]
    }
   ],
   "source": [
    "num= 9\n",
    "if num<83:\n",
    "    print('+ve')\n",
    "else:\n",
    "    print('-ve')\n",
    "    \n",
    "print('enter new value to check')"
   ]
  },
  {
   "cell_type": "code",
   "execution_count": null,
   "id": "f51bde0b",
   "metadata": {},
   "outputs": [],
   "source": [
    "if num > 0:\n",
    "    print('positive')"
   ]
  },
  {
   "cell_type": "code",
   "execution_count": null,
   "id": "35630c27",
   "metadata": {},
   "outputs": [],
   "source": [
    "# print if the number is positive or zero or negative.\n",
    "num = 1\n",
    "if num > 0:\n",
    "    print('positive')\n",
    "elif num == 0:\n",
    "    print('zero')\n",
    "else:\n",
    "    print('negative')"
   ]
  },
  {
   "cell_type": "code",
   "execution_count": null,
   "id": "b6724b27",
   "metadata": {},
   "outputs": [],
   "source": [
    "score= 49\n",
    "if score > 50:\n",
    "    print('good score')\n",
    "elif score == 50:\n",
    "    print('average score')\n",
    "else:\n",
    "    print('poor score')"
   ]
  },
  {
   "cell_type": "code",
   "execution_count": null,
   "id": "829b1fa2",
   "metadata": {},
   "outputs": [],
   "source": []
  },
  {
   "cell_type": "code",
   "execution_count": 12,
   "id": "cfc6c623",
   "metadata": {},
   "outputs": [
    {
     "name": "stdout",
     "output_type": "stream",
     "text": [
      "zero\n"
     ]
    }
   ],
   "source": [
    "num = 0\n",
    "if num > 0:\n",
    "    print('positive')\n",
    "    print('This is line 2')\n",
    "elif num == 0:\n",
    "    print('zero')\n",
    "else:\n",
    "    print('negative')\n",
    "    print('This is line n - 1')\n",
    "    \n",
    "    print('This is line n')"
   ]
  },
  {
   "cell_type": "markdown",
   "id": "016d0748",
   "metadata": {},
   "source": [
    "#### ternary if"
   ]
  },
  {
   "cell_type": "raw",
   "id": "99a81916",
   "metadata": {},
   "source": [
    "Excel:\n",
    "if( condition/s, True_value, False_value )\n",
    "\n",
    "Python:\n",
    "Ternary if: single line if operation\n",
    "    \n",
    "Syntax:\n",
    "True_value if condition/s else False_value"
   ]
  },
  {
   "cell_type": "code",
   "execution_count": 13,
   "id": "2e733ffc",
   "metadata": {},
   "outputs": [
    {
     "name": "stdout",
     "output_type": "stream",
     "text": [
      "negative\n"
     ]
    }
   ],
   "source": [
    "# print if the number is positive or negative\n",
    "num = -10\n",
    "print( 'positive' if num > 0 else 'negative' )"
   ]
  },
  {
   "cell_type": "code",
   "execution_count": 14,
   "id": "41aecbbd",
   "metadata": {},
   "outputs": [
    {
     "name": "stdout",
     "output_type": "stream",
     "text": [
      "good\n"
     ]
    }
   ],
   "source": [
    "# print if score good or bad\n",
    "score =60\n",
    "print('good' if score >50 else 'bad')"
   ]
  },
  {
   "cell_type": "code",
   "execution_count": 87,
   "id": "8e3761b9",
   "metadata": {},
   "outputs": [
    {
     "name": "stdout",
     "output_type": "stream",
     "text": [
      "54\n",
      "Weird\n"
     ]
    }
   ],
   "source": [
    "#ternary if (ternary if:single line if statement) syntax: true value if condition/s else False_value\n",
    "num = int(input().strip())\n",
    "print( 'Weird' if num % 2 == 0 and (num in range(2,6) or num > 20) else 'Not Weire')"
   ]
  },
  {
   "cell_type": "code",
   "execution_count": 82,
   "id": "1b997943",
   "metadata": {},
   "outputs": [
    {
     "name": "stdout",
     "output_type": "stream",
     "text": [
      "Weird\n"
     ]
    }
   ],
   "source": [
    "num = 34\n",
    "print('Weird' if num%2==0 and (num in range(2,6) or num > 20) else 'Not Weird')"
   ]
  },
  {
   "cell_type": "code",
   "execution_count": 79,
   "id": "60c3cdbe",
   "metadata": {},
   "outputs": [
    {
     "name": "stdout",
     "output_type": "stream",
     "text": [
      "zero\n"
     ]
    }
   ],
   "source": [
    "# print if the number is positive or zero or negative.\n",
    "num = 0\n",
    "print( 'positive' if num > 0 else 'zero' if num == 0 else 'negative' )"
   ]
  },
  {
   "cell_type": "code",
   "execution_count": 16,
   "id": "f3e78f45",
   "metadata": {},
   "outputs": [
    {
     "name": "stdout",
     "output_type": "stream",
     "text": [
      "good\n"
     ]
    }
   ],
   "source": [
    "score=56\n",
    "print('good' if score >50 else 'average' if score ==50 else 'bad')"
   ]
  },
  {
   "cell_type": "code",
   "execution_count": 73,
   "id": "13082be5",
   "metadata": {},
   "outputs": [
    {
     "name": "stdout",
     "output_type": "stream",
     "text": [
      "zero\n"
     ]
    }
   ],
   "source": [
    "num = 0\n",
    "print('positive' if num > 0 else 'zero' if num == 0 else 'negative')"
   ]
  },
  {
   "cell_type": "code",
   "execution_count": 71,
   "id": "59c0fbda",
   "metadata": {},
   "outputs": [
    {
     "name": "stdout",
     "output_type": "stream",
     "text": [
      "zero\n"
     ]
    }
   ],
   "source": [
    "num = 0\n",
    "if num > 0:\n",
    "    var_value = 'positive'\n",
    "elif num == 0:\n",
    "    var_value = 'zero'\n",
    "else:\n",
    "    var_value = 'negative'\n",
    "    \n",
    "print(var_value)\n",
    "    "
   ]
  },
  {
   "cell_type": "markdown",
   "id": "b13255e7",
   "metadata": {},
   "source": [
    "#### range function\n",
    "\n",
    "to generate the range of **integer numbers** within a given range"
   ]
  },
  {
   "cell_type": "raw",
   "id": "d3023f5c",
   "metadata": {},
   "source": [
    "range( start, end, step )\n",
    "range( start, end )  # step = 1\n",
    "range( end ) # step = 1, start = 0\n",
    "\n",
    "** range will generate the numbers starting from start till end - 1 in case step is positive\n",
    "** range will generate the numbers starting from start till end + 1 in case step is negative"
   ]
  },
  {
   "cell_type": "code",
   "execution_count": 19,
   "id": "206087ca",
   "metadata": {},
   "outputs": [
    {
     "data": {
      "text/plain": [
       "range(1, 10)"
      ]
     },
     "execution_count": 19,
     "metadata": {},
     "output_type": "execute_result"
    }
   ],
   "source": [
    "range(1, 10, 1) # (1, 2, 3, 4, 5, 6, 7, 8, 9)"
   ]
  },
  {
   "cell_type": "code",
   "execution_count": 20,
   "id": "db0657b6",
   "metadata": {},
   "outputs": [
    {
     "data": {
      "text/plain": [
       "range(1, 10, 2)"
      ]
     },
     "execution_count": 20,
     "metadata": {},
     "output_type": "execute_result"
    }
   ],
   "source": [
    "range(1, 10, 2) # (1, 3, 5, 7, 9)"
   ]
  },
  {
   "cell_type": "code",
   "execution_count": 21,
   "id": "cb797069",
   "metadata": {},
   "outputs": [
    {
     "data": {
      "text/plain": [
       "range(1, 10)"
      ]
     },
     "execution_count": 21,
     "metadata": {},
     "output_type": "execute_result"
    }
   ],
   "source": [
    "range(1, 10)  # (1, 2, 3, 4, 5, 6, 7, 8, 9)"
   ]
  },
  {
   "cell_type": "code",
   "execution_count": 22,
   "id": "caa1448f",
   "metadata": {},
   "outputs": [
    {
     "data": {
      "text/plain": [
       "range(0, 6)"
      ]
     },
     "execution_count": 22,
     "metadata": {},
     "output_type": "execute_result"
    }
   ],
   "source": [
    "range(6) # (0, 1, 2, 3, 4, 5)"
   ]
  },
  {
   "cell_type": "code",
   "execution_count": 23,
   "id": "91aeeea6",
   "metadata": {},
   "outputs": [
    {
     "data": {
      "text/plain": [
       "range(10, 5, -1)"
      ]
     },
     "execution_count": 23,
     "metadata": {},
     "output_type": "execute_result"
    }
   ],
   "source": [
    "range( 10, 5, -1 ) # (10, 9, 8, 7, 6)"
   ]
  },
  {
   "cell_type": "code",
   "execution_count": 24,
   "id": "3af0b12d",
   "metadata": {},
   "outputs": [
    {
     "data": {
      "text/plain": [
       "range(1, 6, -1)"
      ]
     },
     "execution_count": 24,
     "metadata": {},
     "output_type": "execute_result"
    }
   ],
   "source": [
    "range(1, 6, -1) # No NUMBERS in output"
   ]
  },
  {
   "cell_type": "code",
   "execution_count": 25,
   "id": "d31eaecd",
   "metadata": {},
   "outputs": [
    {
     "data": {
      "text/plain": [
       "range(-1, -3, -1)"
      ]
     },
     "execution_count": 25,
     "metadata": {},
     "output_type": "execute_result"
    }
   ],
   "source": [
    "range( -1, -3, -1 ) # (-1, -2)"
   ]
  },
  {
   "cell_type": "code",
   "execution_count": 26,
   "id": "085d0d74",
   "metadata": {},
   "outputs": [
    {
     "name": "stdout",
     "output_type": "stream",
     "text": [
      "[2, 3, 5, 7, 5, 8, 9]\n"
     ]
    }
   ],
   "source": [
    "ist=[2,3,5,7,5,8,9]\n",
    "print(ist)"
   ]
  },
  {
   "cell_type": "code",
   "execution_count": 27,
   "id": "323ad3aa",
   "metadata": {},
   "outputs": [
    {
     "data": {
      "text/plain": [
       "range(2, 7)"
      ]
     },
     "execution_count": 27,
     "metadata": {},
     "output_type": "execute_result"
    }
   ],
   "source": [
    "range(2,7,1)"
   ]
  },
  {
   "cell_type": "code",
   "execution_count": null,
   "id": "275b8290",
   "metadata": {},
   "outputs": [],
   "source": []
  }
 ],
 "metadata": {
  "kernelspec": {
   "display_name": "Python 3 (ipykernel)",
   "language": "python",
   "name": "python3"
  },
  "language_info": {
   "codemirror_mode": {
    "name": "ipython",
    "version": 3
   },
   "file_extension": ".py",
   "mimetype": "text/x-python",
   "name": "python",
   "nbconvert_exporter": "python",
   "pygments_lexer": "ipython3",
   "version": "3.9.7"
  }
 },
 "nbformat": 4,
 "nbformat_minor": 5
}
