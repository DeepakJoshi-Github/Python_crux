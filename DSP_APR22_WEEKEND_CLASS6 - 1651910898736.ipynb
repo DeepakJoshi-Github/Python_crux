{
 "cells": [
  {
   "cell_type": "code",
   "execution_count": 1,
   "id": "23235247",
   "metadata": {},
   "outputs": [],
   "source": [
    "l1 = [10, 20, 30, 40]"
   ]
  },
  {
   "cell_type": "code",
   "execution_count": 2,
   "id": "fba820bf",
   "metadata": {},
   "outputs": [],
   "source": [
    "l1[1:3] = [1, 2]"
   ]
  },
  {
   "cell_type": "code",
   "execution_count": 3,
   "id": "5e2a4b15",
   "metadata": {},
   "outputs": [
    {
     "data": {
      "text/plain": [
       "[10, 1, 2, 40]"
      ]
     },
     "execution_count": 3,
     "metadata": {},
     "output_type": "execute_result"
    }
   ],
   "source": [
    "l1"
   ]
  },
  {
   "cell_type": "markdown",
   "id": "74e87607",
   "metadata": {},
   "source": [
    "### numpy"
   ]
  },
  {
   "cell_type": "code",
   "execution_count": 3,
   "id": "b28e47eb",
   "metadata": {},
   "outputs": [],
   "source": [
    "import numpy as np"
   ]
  },
  {
   "cell_type": "code",
   "execution_count": 5,
   "id": "a64ad894",
   "metadata": {},
   "outputs": [],
   "source": [
    "import numpy as np"
   ]
  },
  {
   "cell_type": "raw",
   "id": "8450bb1b",
   "metadata": {},
   "source": [
    "data structures: ndarray\n",
    "nD, homogeneous, allows broadcasting and Vectorization\n",
    "\n",
    "Type conversion: \n",
    "    np.array()\n",
    "    \n",
    "Inbuild methods: \n",
    "    np.zeros(), np.ones(), np.full()\n",
    "    \n",
    "    np.arange(), np.linspace(), np.random.random(), np.random.randint()\n",
    "    **these methods will create always 1D ndarray\n",
    "    \n",
    "    .transpose(), .reshape(), .T"
   ]
  },
  {
   "cell_type": "code",
   "execution_count": 6,
   "id": "1c8da3e9",
   "metadata": {},
   "outputs": [],
   "source": [
    "l1 = [1, 2, 3, 4, 5]"
   ]
  },
  {
   "cell_type": "code",
   "execution_count": 7,
   "id": "e8946783",
   "metadata": {},
   "outputs": [
    {
     "data": {
      "text/plain": [
       "list"
      ]
     },
     "execution_count": 7,
     "metadata": {},
     "output_type": "execute_result"
    }
   ],
   "source": [
    "type(l1)"
   ]
  },
  {
   "cell_type": "code",
   "execution_count": 8,
   "id": "56ae4bef",
   "metadata": {},
   "outputs": [
    {
     "data": {
      "text/plain": [
       "array([1, 2, 3, 4, 5])"
      ]
     },
     "execution_count": 8,
     "metadata": {},
     "output_type": "execute_result"
    }
   ],
   "source": [
    "np.array(l1)"
   ]
  },
  {
   "cell_type": "code",
   "execution_count": 9,
   "id": "c345552d",
   "metadata": {},
   "outputs": [
    {
     "data": {
      "text/plain": [
       "array([[[1, 2, 3, 4, 5],\n",
       "        [1, 2, 3, 4, 5]],\n",
       "\n",
       "       [[1, 2, 3, 4, 5],\n",
       "        [1, 2, 3, 4, 5]]])"
      ]
     },
     "execution_count": 9,
     "metadata": {},
     "output_type": "execute_result"
    }
   ],
   "source": [
    "np.array( [[l1, l1], [l1, l1]] )"
   ]
  },
  {
   "cell_type": "code",
   "execution_count": 10,
   "id": "46c62655",
   "metadata": {},
   "outputs": [
    {
     "data": {
      "text/plain": [
       "array([[1, 2, 3, 4, 5],\n",
       "       [1, 2, 3, 4, 5]])"
      ]
     },
     "execution_count": 10,
     "metadata": {},
     "output_type": "execute_result"
    }
   ],
   "source": [
    "np.array([l1,l1])"
   ]
  },
  {
   "cell_type": "code",
   "execution_count": 11,
   "id": "3d1a3deb",
   "metadata": {},
   "outputs": [
    {
     "data": {
      "text/plain": [
       "array([0., 0., 0., 0., 0.])"
      ]
     },
     "execution_count": 11,
     "metadata": {},
     "output_type": "execute_result"
    }
   ],
   "source": [
    "np.zeros( 5 )"
   ]
  },
  {
   "cell_type": "code",
   "execution_count": 12,
   "id": "36e8aa7f",
   "metadata": {},
   "outputs": [
    {
     "data": {
      "text/plain": [
       "array([[0., 0., 0., 0., 0.],\n",
       "       [0., 0., 0., 0., 0.],\n",
       "       [0., 0., 0., 0., 0.]])"
      ]
     },
     "execution_count": 12,
     "metadata": {},
     "output_type": "execute_result"
    }
   ],
   "source": [
    "np.zeros( (3, 5) )"
   ]
  },
  {
   "cell_type": "code",
   "execution_count": 13,
   "id": "f1e48430",
   "metadata": {},
   "outputs": [
    {
     "data": {
      "text/plain": [
       "array([[[0., 0., 0., 0., 0.],\n",
       "        [0., 0., 0., 0., 0.],\n",
       "        [0., 0., 0., 0., 0.]],\n",
       "\n",
       "       [[0., 0., 0., 0., 0.],\n",
       "        [0., 0., 0., 0., 0.],\n",
       "        [0., 0., 0., 0., 0.]]])"
      ]
     },
     "execution_count": 13,
     "metadata": {},
     "output_type": "execute_result"
    }
   ],
   "source": [
    "np.zeros( (2, 3, 5) )"
   ]
  },
  {
   "cell_type": "code",
   "execution_count": 14,
   "id": "9acdff39",
   "metadata": {},
   "outputs": [
    {
     "data": {
      "text/plain": [
       "array([[[0., 0., 0., 0., 0.],\n",
       "        [0., 0., 0., 0., 0.],\n",
       "        [0., 0., 0., 0., 0.]],\n",
       "\n",
       "       [[0., 0., 0., 0., 0.],\n",
       "        [0., 0., 0., 0., 0.],\n",
       "        [0., 0., 0., 0., 0.]]])"
      ]
     },
     "execution_count": 14,
     "metadata": {},
     "output_type": "execute_result"
    }
   ],
   "source": [
    "np.zeros( (2, 3, 5) )"
   ]
  },
  {
   "cell_type": "code",
   "execution_count": 15,
   "id": "4f5b3da8",
   "metadata": {},
   "outputs": [
    {
     "data": {
      "text/plain": [
       "array([[1., 1., 1., 1., 1., 1., 1.],\n",
       "       [1., 1., 1., 1., 1., 1., 1.],\n",
       "       [1., 1., 1., 1., 1., 1., 1.],\n",
       "       [1., 1., 1., 1., 1., 1., 1.],\n",
       "       [1., 1., 1., 1., 1., 1., 1.]])"
      ]
     },
     "execution_count": 15,
     "metadata": {},
     "output_type": "execute_result"
    }
   ],
   "source": [
    "np.ones((5, 7))"
   ]
  },
  {
   "cell_type": "code",
   "execution_count": 16,
   "id": "747061b4",
   "metadata": {},
   "outputs": [
    {
     "data": {
      "text/plain": [
       "array([['Python', 'Python', 'Python'],\n",
       "       ['Python', 'Python', 'Python'],\n",
       "       ['Python', 'Python', 'Python'],\n",
       "       ['Python', 'Python', 'Python'],\n",
       "       ['Python', 'Python', 'Python']], dtype='<U6')"
      ]
     },
     "execution_count": 16,
     "metadata": {},
     "output_type": "execute_result"
    }
   ],
   "source": [
    "np.full( (5, 3), 'Python' )"
   ]
  },
  {
   "cell_type": "code",
   "execution_count": 17,
   "id": "f22a90f1",
   "metadata": {},
   "outputs": [
    {
     "data": {
      "text/plain": [
       "array([['check', 'check', 'check', 'check'],\n",
       "       ['check', 'check', 'check', 'check'],\n",
       "       ['check', 'check', 'check', 'check']], dtype='<U5')"
      ]
     },
     "execution_count": 17,
     "metadata": {},
     "output_type": "execute_result"
    }
   ],
   "source": [
    "np.full((3,4),'check')\n"
   ]
  },
  {
   "cell_type": "code",
   "execution_count": 18,
   "id": "5c71695b",
   "metadata": {},
   "outputs": [
    {
     "data": {
      "text/plain": [
       "array([['practice', 'practice', 'practice', 'practice'],\n",
       "       ['practice', 'practice', 'practice', 'practice']], dtype='<U8')"
      ]
     },
     "execution_count": 18,
     "metadata": {},
     "output_type": "execute_result"
    }
   ],
   "source": [
    "np.full((2,4),'practice')"
   ]
  },
  {
   "cell_type": "code",
   "execution_count": 19,
   "id": "b76f0758",
   "metadata": {},
   "outputs": [
    {
     "data": {
      "text/plain": [
       "array([['check', 'check'],\n",
       "       ['check', 'check'],\n",
       "       ['check', 'check']], dtype='<U5')"
      ]
     },
     "execution_count": 19,
     "metadata": {},
     "output_type": "execute_result"
    }
   ],
   "source": [
    "np.full((3,2),'check')"
   ]
  },
  {
   "cell_type": "code",
   "execution_count": 20,
   "id": "55b63efa",
   "metadata": {},
   "outputs": [
    {
     "data": {
      "text/plain": [
       "array([ 1,  2,  3,  4,  5,  6,  7,  8,  9, 10])"
      ]
     },
     "execution_count": 20,
     "metadata": {},
     "output_type": "execute_result"
    }
   ],
   "source": [
    "np.array( range(1, 11, 1) )"
   ]
  },
  {
   "cell_type": "code",
   "execution_count": 21,
   "id": "a46aeb70",
   "metadata": {},
   "outputs": [
    {
     "data": {
      "text/plain": [
       "array([ 5, 10, 15, 20, 25, 30, 35, 40, 45, 50])"
      ]
     },
     "execution_count": 21,
     "metadata": {},
     "output_type": "execute_result"
    }
   ],
   "source": [
    "np.array(range(5,51,5))"
   ]
  },
  {
   "cell_type": "code",
   "execution_count": 22,
   "id": "e2377985",
   "metadata": {},
   "outputs": [
    {
     "data": {
      "text/plain": [
       "array([ 5,  7,  9, 11, 13, 15, 17, 19, 21, 23, 25, 27, 29, 31, 33, 35, 37,\n",
       "       39, 41, 43, 45, 47, 49])"
      ]
     },
     "execution_count": 22,
     "metadata": {},
     "output_type": "execute_result"
    }
   ],
   "source": [
    "np.arange(5,51,2) # in arange we have to give (start, end , increment)"
   ]
  },
  {
   "cell_type": "code",
   "execution_count": 23,
   "id": "73855275",
   "metadata": {},
   "outputs": [
    {
     "data": {
      "text/plain": [
       "array([0.  , 0.01, 0.02, 0.03, 0.04, 0.05, 0.06, 0.07, 0.08, 0.09, 0.1 ,\n",
       "       0.11, 0.12, 0.13, 0.14, 0.15, 0.16, 0.17, 0.18, 0.19, 0.2 , 0.21,\n",
       "       0.22, 0.23, 0.24, 0.25, 0.26, 0.27, 0.28, 0.29, 0.3 , 0.31, 0.32,\n",
       "       0.33, 0.34, 0.35, 0.36, 0.37, 0.38, 0.39, 0.4 , 0.41, 0.42, 0.43,\n",
       "       0.44, 0.45, 0.46, 0.47, 0.48, 0.49, 0.5 , 0.51, 0.52, 0.53, 0.54,\n",
       "       0.55, 0.56, 0.57, 0.58, 0.59, 0.6 , 0.61, 0.62, 0.63, 0.64, 0.65,\n",
       "       0.66, 0.67, 0.68, 0.69, 0.7 , 0.71, 0.72, 0.73, 0.74, 0.75, 0.76,\n",
       "       0.77, 0.78, 0.79, 0.8 , 0.81, 0.82, 0.83, 0.84, 0.85, 0.86, 0.87,\n",
       "       0.88, 0.89, 0.9 , 0.91, 0.92, 0.93, 0.94, 0.95, 0.96, 0.97, 0.98,\n",
       "       0.99, 1.  ])"
      ]
     },
     "execution_count": 23,
     "metadata": {},
     "output_type": "execute_result"
    }
   ],
   "source": [
    "np.arange(0, 1.01, 0.01)"
   ]
  },
  {
   "cell_type": "code",
   "execution_count": 24,
   "id": "08f88f27",
   "metadata": {},
   "outputs": [
    {
     "data": {
      "text/plain": [
       "array([ 1.        ,  1.47368421,  1.94736842,  2.42105263,  2.89473684,\n",
       "        3.36842105,  3.84210526,  4.31578947,  4.78947368,  5.26315789,\n",
       "        5.73684211,  6.21052632,  6.68421053,  7.15789474,  7.63157895,\n",
       "        8.10526316,  8.57894737,  9.05263158,  9.52631579, 10.        ])"
      ]
     },
     "execution_count": 24,
     "metadata": {},
     "output_type": "execute_result"
    }
   ],
   "source": [
    "np.linspace( 1, 10, 20 )"
   ]
  },
  {
   "cell_type": "code",
   "execution_count": 25,
   "id": "fc070d4c",
   "metadata": {},
   "outputs": [
    {
     "data": {
      "text/plain": [
       "array([ 5.   ,  6.875,  8.75 , 10.625, 12.5  , 14.375, 16.25 , 18.125,\n",
       "       20.   , 21.875, 23.75 , 25.625, 27.5  , 29.375, 31.25 , 33.125,\n",
       "       35.   , 36.875, 38.75 , 40.625, 42.5  , 44.375, 46.25 , 48.125,\n",
       "       50.   ])"
      ]
     },
     "execution_count": 25,
     "metadata": {},
     "output_type": "execute_result"
    }
   ],
   "source": [
    "np.linspace(5,50,25) # in linspace we can give no elements we want to have in array."
   ]
  },
  {
   "cell_type": "code",
   "execution_count": 26,
   "id": "5ed9a674",
   "metadata": {},
   "outputs": [
    {
     "data": {
      "text/plain": [
       "30"
      ]
     },
     "execution_count": 26,
     "metadata": {},
     "output_type": "execute_result"
    }
   ],
   "source": [
    "len(np.linspace(2,60,30))"
   ]
  },
  {
   "cell_type": "code",
   "execution_count": 27,
   "id": "a2e6e5a4",
   "metadata": {},
   "outputs": [
    {
     "data": {
      "text/plain": [
       "numpy.ndarray"
      ]
     },
     "execution_count": 27,
     "metadata": {},
     "output_type": "execute_result"
    }
   ],
   "source": [
    "type(np.linspace(2,60,30))"
   ]
  },
  {
   "cell_type": "code",
   "execution_count": 28,
   "id": "b6c6c547",
   "metadata": {},
   "outputs": [
    {
     "data": {
      "text/plain": [
       "array([0.02100492, 0.31825326, 0.44814093, 0.5253199 , 0.43013518,\n",
       "       0.48298595, 0.72112035, 0.05937447, 0.08297247, 0.55932888,\n",
       "       0.97204321, 0.74213949, 0.29523829, 0.54972979, 0.22729275])"
      ]
     },
     "execution_count": 28,
     "metadata": {},
     "output_type": "execute_result"
    }
   ],
   "source": [
    "np.random.random(15) # np.random.random only take one argument which define the no of elements in array.\n",
    "# elements of array lies between 0 and one only."
   ]
  },
  {
   "cell_type": "code",
   "execution_count": 29,
   "id": "8f2d6e64",
   "metadata": {},
   "outputs": [
    {
     "data": {
      "text/plain": [
       "array([0.46691001, 0.71843087, 0.6512736 , 0.29442993, 0.89274026,\n",
       "       0.09056019, 0.98310786, 0.83714154, 0.48250466, 0.04869478,\n",
       "       0.12863305, 0.57660298, 0.76733313, 0.46488245, 0.43411121,\n",
       "       0.97934848, 0.68444749, 0.04777719, 0.28211735, 0.78199321,\n",
       "       0.3726037 , 0.51281688, 0.06025372, 0.80837019, 0.93041524,\n",
       "       0.36629932, 0.99166439, 0.85311396, 0.35847156, 0.51951312,\n",
       "       0.94873977, 0.60977039, 0.40394927, 0.89827471, 0.26259635,\n",
       "       0.10649397, 0.01981443, 0.2028538 , 0.92588769, 0.62056775,\n",
       "       0.38074435, 0.08154244, 0.35476963, 0.67769574, 0.90626139,\n",
       "       0.25150371, 0.33599232, 0.21070749, 0.62787287, 0.96369675,\n",
       "       0.42382983, 0.30890708, 0.0648755 , 0.62672018, 0.77811766,\n",
       "       0.41246754, 0.53846597, 0.00793794, 0.0964627 , 0.67184661,\n",
       "       0.7163213 , 0.54046275, 0.17156514, 0.75200406, 0.43487592,\n",
       "       0.9572843 , 0.80829334, 0.00951968, 0.23508243, 0.40167339,\n",
       "       0.74723929, 0.81785597, 0.59748641, 0.05899284, 0.54363668,\n",
       "       0.04434707, 0.18008317, 0.80827233, 0.44860348, 0.77205302,\n",
       "       0.830277  , 0.55966402, 0.34213695, 0.76704071, 0.59987109,\n",
       "       0.50134768, 0.76145855, 0.03196239, 0.90335113, 0.54056094,\n",
       "       0.89568613, 0.60388418, 0.65908988, 0.21414428, 0.26519384,\n",
       "       0.53034811, 0.86886419, 0.53878518, 0.04573131, 0.04774737])"
      ]
     },
     "execution_count": 29,
     "metadata": {},
     "output_type": "execute_result"
    }
   ],
   "source": [
    "np.random.random( 100 )"
   ]
  },
  {
   "cell_type": "code",
   "execution_count": 30,
   "id": "5d8ce862",
   "metadata": {},
   "outputs": [
    {
     "data": {
      "text/plain": [
       "array([33, 15, 36, 54, 15, 58, 18, 56, 51, 65, 21, 36, 35, 64, 33])"
      ]
     },
     "execution_count": 30,
     "metadata": {},
     "output_type": "execute_result"
    }
   ],
   "source": [
    "# get 15 two digit random numbers  # np.random.randint take three arguments ( floor value, celling value, no of elements in array)\n",
    "np.random.randint( 10, 100, 15 )"
   ]
  },
  {
   "cell_type": "code",
   "execution_count": 31,
   "id": "e51f3af6",
   "metadata": {},
   "outputs": [
    {
     "data": {
      "text/plain": [
       "array([28, 91, 97, 19, 50, 32, 80, 88, 93, 13, 83, 51, 55, 11, 54, 70, 64,\n",
       "       28, 78, 11])"
      ]
     },
     "execution_count": 31,
     "metadata": {},
     "output_type": "execute_result"
    }
   ],
   "source": [
    "#grt 20 two digit random numbers\n",
    "np.random.randint(10,99,20)"
   ]
  },
  {
   "cell_type": "code",
   "execution_count": 4,
   "id": "30b0f023",
   "metadata": {},
   "outputs": [],
   "source": [
    "# get 20 three digit random numbers in the shape 4, 5\n",
    "a1 = np.random.randint(100, 1000, 20)"
   ]
  },
  {
   "cell_type": "code",
   "execution_count": 33,
   "id": "78d1664f",
   "metadata": {},
   "outputs": [
    {
     "data": {
      "text/plain": [
       "array([262, 974, 149, 959, 997, 260, 648, 436, 716, 385, 873, 634, 682,\n",
       "       483, 854, 453, 653, 154, 876, 838])"
      ]
     },
     "execution_count": 33,
     "metadata": {},
     "output_type": "execute_result"
    }
   ],
   "source": [
    "a1"
   ]
  },
  {
   "cell_type": "code",
   "execution_count": 34,
   "id": "66662f00",
   "metadata": {},
   "outputs": [],
   "source": [
    "# get 10 foure digit random numbers.\n",
    "G=np.random.randint(1000,10000,10)"
   ]
  },
  {
   "cell_type": "code",
   "execution_count": 35,
   "id": "c5b6a211",
   "metadata": {},
   "outputs": [
    {
     "data": {
      "text/plain": [
       "array([1703, 9369, 1894, 5512, 2325, 5908, 6886, 5218, 1407, 4095])"
      ]
     },
     "execution_count": 35,
     "metadata": {},
     "output_type": "execute_result"
    }
   ],
   "source": [
    "G"
   ]
  },
  {
   "cell_type": "code",
   "execution_count": 36,
   "id": "06fa8fa1",
   "metadata": {},
   "outputs": [
    {
     "data": {
      "text/plain": [
       "1"
      ]
     },
     "execution_count": 36,
     "metadata": {},
     "output_type": "execute_result"
    }
   ],
   "source": [
    "G.ndim   # .ndim gives the dimension of given array."
   ]
  },
  {
   "cell_type": "code",
   "execution_count": 37,
   "id": "c92db267",
   "metadata": {},
   "outputs": [
    {
     "data": {
      "text/plain": [
       "numpy.ndarray"
      ]
     },
     "execution_count": 37,
     "metadata": {},
     "output_type": "execute_result"
    }
   ],
   "source": [
    "type(G)"
   ]
  },
  {
   "cell_type": "code",
   "execution_count": 38,
   "id": "43af703a",
   "metadata": {},
   "outputs": [
    {
     "data": {
      "text/plain": [
       "(10,)"
      ]
     },
     "execution_count": 38,
     "metadata": {},
     "output_type": "execute_result"
    }
   ],
   "source": [
    "G.shape"
   ]
  },
  {
   "cell_type": "code",
   "execution_count": 39,
   "id": "c20290fc",
   "metadata": {},
   "outputs": [],
   "source": [
    "# .ndim gives the dimension of the given array"
   ]
  },
  {
   "cell_type": "code",
   "execution_count": 40,
   "id": "f691b29d",
   "metadata": {},
   "outputs": [
    {
     "data": {
      "text/plain": [
       "numpy.ndarray"
      ]
     },
     "execution_count": 40,
     "metadata": {},
     "output_type": "execute_result"
    }
   ],
   "source": [
    "type(a1)"
   ]
  },
  {
   "cell_type": "code",
   "execution_count": 41,
   "id": "84ebbc18",
   "metadata": {},
   "outputs": [
    {
     "data": {
      "text/plain": [
       "1"
      ]
     },
     "execution_count": 41,
     "metadata": {},
     "output_type": "execute_result"
    }
   ],
   "source": [
    "a1.ndim"
   ]
  },
  {
   "cell_type": "code",
   "execution_count": 42,
   "id": "54429329",
   "metadata": {},
   "outputs": [
    {
     "data": {
      "text/plain": [
       "(20,)"
      ]
     },
     "execution_count": 42,
     "metadata": {},
     "output_type": "execute_result"
    }
   ],
   "source": [
    "a1.shape"
   ]
  },
  {
   "cell_type": "code",
   "execution_count": 43,
   "id": "cdd75167",
   "metadata": {},
   "outputs": [
    {
     "data": {
      "text/plain": [
       "array([262, 974, 149, 959, 997, 260, 648, 436, 716, 385, 873, 634, 682,\n",
       "       483, 854, 453, 653, 154, 876, 838])"
      ]
     },
     "execution_count": 43,
     "metadata": {},
     "output_type": "execute_result"
    }
   ],
   "source": [
    "a1"
   ]
  },
  {
   "cell_type": "code",
   "execution_count": 44,
   "id": "6b96764a",
   "metadata": {},
   "outputs": [
    {
     "data": {
      "text/plain": [
       "20"
      ]
     },
     "execution_count": 44,
     "metadata": {},
     "output_type": "execute_result"
    }
   ],
   "source": [
    "a1.size"
   ]
  },
  {
   "cell_type": "code",
   "execution_count": 45,
   "id": "4da7cd71",
   "metadata": {},
   "outputs": [
    {
     "data": {
      "text/plain": [
       "array([[262, 974, 149, 959, 997],\n",
       "       [260, 648, 436, 716, 385],\n",
       "       [873, 634, 682, 483, 854],\n",
       "       [453, 653, 154, 876, 838]])"
      ]
     },
     "execution_count": 45,
     "metadata": {},
     "output_type": "execute_result"
    }
   ],
   "source": [
    "a1.reshape((4, 5)) #redefine the shape of array."
   ]
  },
  {
   "cell_type": "code",
   "execution_count": 46,
   "id": "fb8ddafd",
   "metadata": {},
   "outputs": [
    {
     "data": {
      "text/plain": [
       "array([[1703, 9369, 1894, 5512, 2325],\n",
       "       [5908, 6886, 5218, 1407, 4095]])"
      ]
     },
     "execution_count": 46,
     "metadata": {},
     "output_type": "execute_result"
    }
   ],
   "source": [
    "G.reshape(2,5)"
   ]
  },
  {
   "cell_type": "code",
   "execution_count": 6,
   "id": "c8dc9bcf",
   "metadata": {},
   "outputs": [
    {
     "ename": "ValueError",
     "evalue": "cannot reshape array of size 20 into shape (3,4)",
     "output_type": "error",
     "traceback": [
      "\u001b[1;31m---------------------------------------------------------------------------\u001b[0m",
      "\u001b[1;31mValueError\u001b[0m                                Traceback (most recent call last)",
      "\u001b[1;32mC:\\Users\\DEEPAK~1\\AppData\\Local\\Temp/ipykernel_11968/4232452016.py\u001b[0m in \u001b[0;36m<module>\u001b[1;34m\u001b[0m\n\u001b[1;32m----> 1\u001b[1;33m \u001b[0ma1\u001b[0m\u001b[1;33m.\u001b[0m\u001b[0mreshape\u001b[0m\u001b[1;33m(\u001b[0m\u001b[1;33m(\u001b[0m\u001b[1;36m3\u001b[0m\u001b[1;33m,\u001b[0m \u001b[1;36m4\u001b[0m\u001b[1;33m)\u001b[0m\u001b[1;33m)\u001b[0m\u001b[1;33m\u001b[0m\u001b[1;33m\u001b[0m\u001b[0m\n\u001b[0m",
      "\u001b[1;31mValueError\u001b[0m: cannot reshape array of size 20 into shape (3,4)"
     ]
    }
   ],
   "source": [
    "a1.reshape((5, 4))"
   ]
  },
  {
   "cell_type": "code",
   "execution_count": 7,
   "id": "999e0b02",
   "metadata": {},
   "outputs": [],
   "source": [
    "a2 = a1.reshape((4, 5))"
   ]
  },
  {
   "cell_type": "code",
   "execution_count": 8,
   "id": "3eed9462",
   "metadata": {},
   "outputs": [
    {
     "data": {
      "text/plain": [
       "2"
      ]
     },
     "execution_count": 8,
     "metadata": {},
     "output_type": "execute_result"
    }
   ],
   "source": [
    "a2.ndim"
   ]
  },
  {
   "cell_type": "code",
   "execution_count": 9,
   "id": "52bd6223",
   "metadata": {},
   "outputs": [
    {
     "data": {
      "text/plain": [
       "(4, 5)"
      ]
     },
     "execution_count": 9,
     "metadata": {},
     "output_type": "execute_result"
    }
   ],
   "source": [
    "a2.shape"
   ]
  },
  {
   "cell_type": "code",
   "execution_count": 10,
   "id": "4d8109a0",
   "metadata": {},
   "outputs": [
    {
     "data": {
      "text/plain": [
       "20"
      ]
     },
     "execution_count": 10,
     "metadata": {},
     "output_type": "execute_result"
    }
   ],
   "source": [
    "a2.size"
   ]
  },
  {
   "cell_type": "code",
   "execution_count": 11,
   "id": "d6714033",
   "metadata": {},
   "outputs": [
    {
     "data": {
      "text/plain": [
       "array([[216, 602, 334, 299, 661],\n",
       "       [625, 597, 180, 906, 965],\n",
       "       [678, 855, 307, 178, 626],\n",
       "       [169, 693, 596, 839, 803]])"
      ]
     },
     "execution_count": 11,
     "metadata": {},
     "output_type": "execute_result"
    }
   ],
   "source": [
    "a2"
   ]
  },
  {
   "cell_type": "code",
   "execution_count": 12,
   "id": "25d53a84",
   "metadata": {},
   "outputs": [
    {
     "data": {
      "text/plain": [
       "array([[[216, 602, 334, 299, 661],\n",
       "        [625, 597, 180, 906, 965]],\n",
       "\n",
       "       [[678, 855, 307, 178, 626],\n",
       "        [169, 693, 596, 839, 803]]])"
      ]
     },
     "execution_count": 12,
     "metadata": {},
     "output_type": "execute_result"
    }
   ],
   "source": [
    "a2.reshape((2, 2, 5))"
   ]
  },
  {
   "cell_type": "code",
   "execution_count": 13,
   "id": "f7a3f213",
   "metadata": {},
   "outputs": [
    {
     "data": {
      "text/plain": [
       "array([216, 602, 334, 299, 661, 625, 597, 180, 906, 965, 678, 855, 307,\n",
       "       178, 626, 169, 693, 596, 839, 803])"
      ]
     },
     "execution_count": 13,
     "metadata": {},
     "output_type": "execute_result"
    }
   ],
   "source": [
    "a2.reshape((20))"
   ]
  },
  {
   "cell_type": "code",
   "execution_count": null,
   "id": "ca0f62a5",
   "metadata": {},
   "outputs": [],
   "source": [
    "a2"
   ]
  },
  {
   "cell_type": "code",
   "execution_count": null,
   "id": "8c51dcf1",
   "metadata": {},
   "outputs": [],
   "source": [
    "a2.shape"
   ]
  },
  {
   "cell_type": "code",
   "execution_count": null,
   "id": "f3e1d474",
   "metadata": {},
   "outputs": [],
   "source": [
    "a2.T"
   ]
  },
  {
   "cell_type": "code",
   "execution_count": null,
   "id": "ab38f581",
   "metadata": {},
   "outputs": [],
   "source": [
    "a2.transpose()"
   ]
  },
  {
   "cell_type": "code",
   "execution_count": null,
   "id": "88e1dc93",
   "metadata": {},
   "outputs": [],
   "source": [
    "type(a2)"
   ]
  },
  {
   "cell_type": "markdown",
   "id": "c5c27f3a",
   "metadata": {},
   "source": [
    "##### access the data the from ndarray"
   ]
  },
  {
   "cell_type": "code",
   "execution_count": 14,
   "id": "a5b49f92",
   "metadata": {},
   "outputs": [
    {
     "data": {
      "text/plain": [
       "array([216, 602, 334, 299, 661, 625, 597, 180, 906, 965, 678, 855, 307,\n",
       "       178, 626, 169, 693, 596, 839, 803])"
      ]
     },
     "execution_count": 14,
     "metadata": {},
     "output_type": "execute_result"
    }
   ],
   "source": [
    "a1"
   ]
  },
  {
   "cell_type": "code",
   "execution_count": 15,
   "id": "07522c42",
   "metadata": {},
   "outputs": [
    {
     "data": {
      "text/plain": [
       "216"
      ]
     },
     "execution_count": 15,
     "metadata": {},
     "output_type": "execute_result"
    }
   ],
   "source": [
    "a1[0]"
   ]
  },
  {
   "cell_type": "code",
   "execution_count": 16,
   "id": "d7794b17",
   "metadata": {},
   "outputs": [
    {
     "data": {
      "text/plain": [
       "803"
      ]
     },
     "execution_count": 16,
     "metadata": {},
     "output_type": "execute_result"
    }
   ],
   "source": [
    "a1[-1]"
   ]
  },
  {
   "cell_type": "code",
   "execution_count": 17,
   "id": "912f31ee",
   "metadata": {},
   "outputs": [
    {
     "data": {
      "text/plain": [
       "array([216, 602, 334])"
      ]
     },
     "execution_count": 17,
     "metadata": {},
     "output_type": "execute_result"
    }
   ],
   "source": [
    "a1[:3]"
   ]
  },
  {
   "cell_type": "code",
   "execution_count": 18,
   "id": "0c34f0f1",
   "metadata": {},
   "outputs": [
    {
     "data": {
      "text/plain": [
       "array([299, 661, 625, 597])"
      ]
     },
     "execution_count": 18,
     "metadata": {},
     "output_type": "execute_result"
    }
   ],
   "source": [
    "a1[3:7]"
   ]
  },
  {
   "cell_type": "code",
   "execution_count": 19,
   "id": "d138b101",
   "metadata": {},
   "outputs": [
    {
     "data": {
      "text/plain": [
       "array([216, 334, 661, 597, 906, 678, 307, 626, 693, 839])"
      ]
     },
     "execution_count": 19,
     "metadata": {},
     "output_type": "execute_result"
    }
   ],
   "source": [
    "a1[::2]"
   ]
  },
  {
   "cell_type": "code",
   "execution_count": 20,
   "id": "1a431826",
   "metadata": {},
   "outputs": [
    {
     "data": {
      "text/plain": [
       "array([602, 299, 625, 180, 965, 855, 178, 169, 596, 803])"
      ]
     },
     "execution_count": 20,
     "metadata": {},
     "output_type": "execute_result"
    }
   ],
   "source": [
    "a1[1::2]"
   ]
  },
  {
   "cell_type": "code",
   "execution_count": 21,
   "id": "1f9d31a1",
   "metadata": {},
   "outputs": [
    {
     "data": {
      "text/plain": [
       "array([[216, 602, 334, 299, 661],\n",
       "       [625, 597, 180, 906, 965],\n",
       "       [678, 855, 307, 178, 626],\n",
       "       [169, 693, 596, 839, 803]])"
      ]
     },
     "execution_count": 21,
     "metadata": {},
     "output_type": "execute_result"
    }
   ],
   "source": [
    "a2"
   ]
  },
  {
   "cell_type": "code",
   "execution_count": 22,
   "id": "23d60bc8",
   "metadata": {},
   "outputs": [
    {
     "data": {
      "text/plain": [
       "965"
      ]
     },
     "execution_count": 22,
     "metadata": {},
     "output_type": "execute_result"
    }
   ],
   "source": [
    "a2[1, 4]"
   ]
  },
  {
   "cell_type": "code",
   "execution_count": 23,
   "id": "966e3ba7",
   "metadata": {},
   "outputs": [
    {
     "data": {
      "text/plain": [
       "array([[216, 602, 334, 299, 661],\n",
       "       [625, 597, 180, 906, 965],\n",
       "       [678, 855, 307, 178, 626],\n",
       "       [169, 693, 596, 839, 803]])"
      ]
     },
     "execution_count": 23,
     "metadata": {},
     "output_type": "execute_result"
    }
   ],
   "source": [
    "a2[::,::]"
   ]
  },
  {
   "cell_type": "code",
   "execution_count": 24,
   "id": "f1c703e5",
   "metadata": {},
   "outputs": [
    {
     "data": {
      "text/plain": [
       "array([216, 602, 334, 299, 661])"
      ]
     },
     "execution_count": 24,
     "metadata": {},
     "output_type": "execute_result"
    }
   ],
   "source": [
    "a2[0,::]"
   ]
  },
  {
   "cell_type": "code",
   "execution_count": 25,
   "id": "678d600e",
   "metadata": {},
   "outputs": [
    {
     "data": {
      "text/plain": [
       "array([216, 602, 334, 299, 661])"
      ]
     },
     "execution_count": 25,
     "metadata": {},
     "output_type": "execute_result"
    }
   ],
   "source": [
    "a2[0]"
   ]
  },
  {
   "cell_type": "code",
   "execution_count": 26,
   "id": "cc874f45",
   "metadata": {},
   "outputs": [
    {
     "data": {
      "text/plain": [
       "array([169, 693, 596, 839, 803])"
      ]
     },
     "execution_count": 26,
     "metadata": {},
     "output_type": "execute_result"
    }
   ],
   "source": [
    "a2[-1]"
   ]
  },
  {
   "cell_type": "code",
   "execution_count": 27,
   "id": "d0684df8",
   "metadata": {},
   "outputs": [
    {
     "data": {
      "text/plain": [
       "array([[216, 602, 334, 299, 661],\n",
       "       [625, 597, 180, 906, 965]])"
      ]
     },
     "execution_count": 27,
     "metadata": {},
     "output_type": "execute_result"
    }
   ],
   "source": [
    "a2[:2,]"
   ]
  },
  {
   "cell_type": "code",
   "execution_count": 28,
   "id": "8cbd7476",
   "metadata": {},
   "outputs": [
    {
     "data": {
      "text/plain": [
       "array([[216, 602, 334, 299, 661],\n",
       "       [625, 597, 180, 906, 965],\n",
       "       [678, 855, 307, 178, 626],\n",
       "       [169, 693, 596, 839, 803]])"
      ]
     },
     "execution_count": 28,
     "metadata": {},
     "output_type": "execute_result"
    }
   ],
   "source": [
    "a2"
   ]
  },
  {
   "cell_type": "code",
   "execution_count": 30,
   "id": "cacffdf2",
   "metadata": {},
   "outputs": [
    {
     "ename": "SyntaxError",
     "evalue": "invalid syntax (Temp/ipykernel_11968/2797449576.py, line 1)",
     "output_type": "error",
     "traceback": [
      "\u001b[1;36m  File \u001b[1;32m\"C:\\Users\\DEEPAK~1\\AppData\\Local\\Temp/ipykernel_11968/2797449576.py\"\u001b[1;36m, line \u001b[1;32m1\u001b[0m\n\u001b[1;33m    a2[, 0]\u001b[0m\n\u001b[1;37m       ^\u001b[0m\n\u001b[1;31mSyntaxError\u001b[0m\u001b[1;31m:\u001b[0m invalid syntax\n"
     ]
    }
   ],
   "source": [
    "a2[, 0]"
   ]
  },
  {
   "cell_type": "code",
   "execution_count": 31,
   "id": "c8d56f6c",
   "metadata": {},
   "outputs": [
    {
     "data": {
      "text/plain": [
       "array([216, 625, 678, 169])"
      ]
     },
     "execution_count": 31,
     "metadata": {},
     "output_type": "execute_result"
    }
   ],
   "source": [
    "a2[:, 0]"
   ]
  },
  {
   "cell_type": "code",
   "execution_count": 32,
   "id": "0a2dae3f",
   "metadata": {},
   "outputs": [
    {
     "data": {
      "text/plain": [
       "array([661, 965, 626, 803])"
      ]
     },
     "execution_count": 32,
     "metadata": {},
     "output_type": "execute_result"
    }
   ],
   "source": [
    "a2[:, -1]"
   ]
  },
  {
   "cell_type": "code",
   "execution_count": 33,
   "id": "c4c43bc5",
   "metadata": {},
   "outputs": [
    {
     "data": {
      "text/plain": [
       "array([[216, 602, 334],\n",
       "       [625, 597, 180]])"
      ]
     },
     "execution_count": 33,
     "metadata": {},
     "output_type": "execute_result"
    }
   ],
   "source": [
    "a2[:2, :3]"
   ]
  },
  {
   "cell_type": "code",
   "execution_count": 34,
   "id": "277847b5",
   "metadata": {},
   "outputs": [
    {
     "data": {
      "text/plain": [
       "array([[216, 602, 334, 299, 661],\n",
       "       [625, 597, 180, 906, 965],\n",
       "       [678, 855, 307, 178, 626],\n",
       "       [169, 693, 596, 839, 803]])"
      ]
     },
     "execution_count": 34,
     "metadata": {},
     "output_type": "execute_result"
    }
   ],
   "source": [
    "a2"
   ]
  },
  {
   "cell_type": "code",
   "execution_count": 35,
   "id": "ab2b2cd5",
   "metadata": {},
   "outputs": [
    {
     "data": {
      "text/plain": [
       "array([307, 178])"
      ]
     },
     "execution_count": 35,
     "metadata": {},
     "output_type": "execute_result"
    }
   ],
   "source": [
    "a2[2, 2:4]"
   ]
  },
  {
   "cell_type": "code",
   "execution_count": 36,
   "id": "d4ec854b",
   "metadata": {},
   "outputs": [
    {
     "data": {
      "text/plain": [
       "array([[334, 299, 661],\n",
       "       [180, 906, 965],\n",
       "       [307, 178, 626]])"
      ]
     },
     "execution_count": 36,
     "metadata": {},
     "output_type": "execute_result"
    }
   ],
   "source": [
    "a2[:3, 2:]"
   ]
  },
  {
   "cell_type": "code",
   "execution_count": 37,
   "id": "2c927326",
   "metadata": {},
   "outputs": [
    {
     "data": {
      "text/plain": [
       "array([[625, 597, 180],\n",
       "       [678, 855, 307]])"
      ]
     },
     "execution_count": 37,
     "metadata": {},
     "output_type": "execute_result"
    }
   ],
   "source": [
    "a2[1:3, :3]"
   ]
  },
  {
   "cell_type": "code",
   "execution_count": 38,
   "id": "deb53d08",
   "metadata": {},
   "outputs": [
    {
     "data": {
      "text/plain": [
       "180"
      ]
     },
     "execution_count": 38,
     "metadata": {},
     "output_type": "execute_result"
    }
   ],
   "source": [
    "a2[1, 2]"
   ]
  },
  {
   "cell_type": "code",
   "execution_count": 39,
   "id": "20d2db77",
   "metadata": {},
   "outputs": [
    {
     "data": {
      "text/plain": [
       "array([216, 602, 334, 299, 661, 625, 597, 180, 906, 965, 678, 855, 307,\n",
       "       178, 626, 169, 693, 596, 839, 803])"
      ]
     },
     "execution_count": 39,
     "metadata": {},
     "output_type": "execute_result"
    }
   ],
   "source": [
    "a1"
   ]
  },
  {
   "cell_type": "code",
   "execution_count": null,
   "id": "fb6fcd8a",
   "metadata": {},
   "outputs": [],
   "source": [
    "a1[1]"
   ]
  },
  {
   "cell_type": "code",
   "execution_count": 40,
   "id": "6dedb38b",
   "metadata": {},
   "outputs": [
    {
     "data": {
      "text/plain": [
       "array([602])"
      ]
     },
     "execution_count": 40,
     "metadata": {},
     "output_type": "execute_result"
    }
   ],
   "source": [
    "a1[1:2]"
   ]
  },
  {
   "cell_type": "code",
   "execution_count": 41,
   "id": "d05f9a2b",
   "metadata": {},
   "outputs": [
    {
     "data": {
      "text/plain": [
       "array([[216, 602, 334, 299, 661],\n",
       "       [625, 597, 180, 906, 965],\n",
       "       [678, 855, 307, 178, 626],\n",
       "       [169, 693, 596, 839, 803]])"
      ]
     },
     "execution_count": 41,
     "metadata": {},
     "output_type": "execute_result"
    }
   ],
   "source": [
    "a2"
   ]
  },
  {
   "cell_type": "code",
   "execution_count": 42,
   "id": "9a5240a3",
   "metadata": {},
   "outputs": [
    {
     "data": {
      "text/plain": [
       "180"
      ]
     },
     "execution_count": 42,
     "metadata": {},
     "output_type": "execute_result"
    }
   ],
   "source": [
    "a2[1, 2]"
   ]
  },
  {
   "cell_type": "code",
   "execution_count": 43,
   "id": "39e88d11",
   "metadata": {},
   "outputs": [
    {
     "data": {
      "text/plain": [
       "array([[180]])"
      ]
     },
     "execution_count": 43,
     "metadata": {},
     "output_type": "execute_result"
    }
   ],
   "source": [
    "a2[1:2, 2:3]"
   ]
  },
  {
   "cell_type": "code",
   "execution_count": 44,
   "id": "ce540dcf",
   "metadata": {},
   "outputs": [
    {
     "data": {
      "text/plain": [
       "array([180])"
      ]
     },
     "execution_count": 44,
     "metadata": {},
     "output_type": "execute_result"
    }
   ],
   "source": [
    "a2[1, 2:3]"
   ]
  },
  {
   "cell_type": "code",
   "execution_count": 45,
   "id": "49852b62",
   "metadata": {},
   "outputs": [
    {
     "data": {
      "text/plain": [
       "array([180])"
      ]
     },
     "execution_count": 45,
     "metadata": {},
     "output_type": "execute_result"
    }
   ],
   "source": [
    "a2[1:2, 2]"
   ]
  },
  {
   "cell_type": "code",
   "execution_count": 46,
   "id": "93b3137e",
   "metadata": {},
   "outputs": [
    {
     "data": {
      "text/plain": [
       "array([[216, 602, 334, 299, 661],\n",
       "       [625, 597, 180, 906, 965],\n",
       "       [678, 855, 307, 178, 626],\n",
       "       [169, 693, 596, 839, 803]])"
      ]
     },
     "execution_count": 46,
     "metadata": {},
     "output_type": "execute_result"
    }
   ],
   "source": [
    "a2"
   ]
  },
  {
   "cell_type": "code",
   "execution_count": 47,
   "id": "11b42953",
   "metadata": {},
   "outputs": [],
   "source": [
    "a2[2, 2] = 0"
   ]
  },
  {
   "cell_type": "code",
   "execution_count": 48,
   "id": "5a858276",
   "metadata": {},
   "outputs": [
    {
     "data": {
      "text/plain": [
       "array([[216, 602, 334, 299, 661],\n",
       "       [625, 597, 180, 906, 965],\n",
       "       [678, 855,   0, 178, 626],\n",
       "       [169, 693, 596, 839, 803]])"
      ]
     },
     "execution_count": 48,
     "metadata": {},
     "output_type": "execute_result"
    }
   ],
   "source": [
    "a2"
   ]
  },
  {
   "cell_type": "code",
   "execution_count": null,
   "id": "f33e34c4",
   "metadata": {},
   "outputs": [],
   "source": [
    "a2[2:, 3:] = -1"
   ]
  },
  {
   "cell_type": "code",
   "execution_count": 49,
   "id": "ce1e9380",
   "metadata": {},
   "outputs": [
    {
     "data": {
      "text/plain": [
       "array([[216, 602, 334, 299, 661],\n",
       "       [625, 597, 180, 906, 965],\n",
       "       [678, 855,   0, 178, 626],\n",
       "       [169, 693, 596, 839, 803]])"
      ]
     },
     "execution_count": 49,
     "metadata": {},
     "output_type": "execute_result"
    }
   ],
   "source": [
    "a2"
   ]
  },
  {
   "cell_type": "code",
   "execution_count": 50,
   "id": "67c6e813",
   "metadata": {},
   "outputs": [],
   "source": [
    "a2[0, 3:] = [-1, -2]"
   ]
  },
  {
   "cell_type": "code",
   "execution_count": 51,
   "id": "7b520f9b",
   "metadata": {},
   "outputs": [
    {
     "data": {
      "text/plain": [
       "array([[216, 602, 334,  -1,  -2],\n",
       "       [625, 597, 180, 906, 965],\n",
       "       [678, 855,   0, 178, 626],\n",
       "       [169, 693, 596, 839, 803]])"
      ]
     },
     "execution_count": 51,
     "metadata": {},
     "output_type": "execute_result"
    }
   ],
   "source": [
    "a2"
   ]
  },
  {
   "cell_type": "code",
   "execution_count": null,
   "id": "52268950",
   "metadata": {},
   "outputs": [],
   "source": [
    "a2 + 10"
   ]
  },
  {
   "cell_type": "code",
   "execution_count": null,
   "id": "47e4e2fe",
   "metadata": {},
   "outputs": [],
   "source": [
    "a2 / 10"
   ]
  },
  {
   "cell_type": "code",
   "execution_count": null,
   "id": "f2f72a7b",
   "metadata": {},
   "outputs": [],
   "source": [
    "a2 "
   ]
  },
  {
   "cell_type": "code",
   "execution_count": null,
   "id": "be5d0724",
   "metadata": {},
   "outputs": [],
   "source": [
    "a2 % 2 == 0"
   ]
  },
  {
   "cell_type": "code",
   "execution_count": null,
   "id": "47772d37",
   "metadata": {},
   "outputs": [],
   "source": [
    "a2[ a2 % 2 != 0 ]"
   ]
  },
  {
   "cell_type": "code",
   "execution_count": 53,
   "id": "581e142f",
   "metadata": {},
   "outputs": [],
   "source": [
    "# get the 20 random 2 digit numbers in 2D ndarray of shape 4, 5     #################\n",
    "a3 = np.random.randint(10, 100, 20).reshape((4, 5))"
   ]
  },
  {
   "cell_type": "code",
   "execution_count": 55,
   "id": "d313cefa",
   "metadata": {},
   "outputs": [
    {
     "data": {
      "text/plain": [
       "array([[26, 98, 52, 41, 39],\n",
       "       [22, 45, 50, 51, 88],\n",
       "       [69, 91, 38, 69, 69],\n",
       "       [90, 49, 66, 70, 55]])"
      ]
     },
     "execution_count": 55,
     "metadata": {},
     "output_type": "execute_result"
    }
   ],
   "source": [
    "a3"
   ]
  },
  {
   "cell_type": "code",
   "execution_count": 56,
   "id": "3e55c6f6",
   "metadata": {},
   "outputs": [
    {
     "data": {
      "text/plain": [
       "array([216, 602, 334,  -1,  -2, 625, 597, 180, 906, 965, 678, 855,   0,\n",
       "       178, 626, 169, 693, 596, 839, 803])"
      ]
     },
     "execution_count": 56,
     "metadata": {},
     "output_type": "execute_result"
    }
   ],
   "source": [
    "a1"
   ]
  },
  {
   "cell_type": "code",
   "execution_count": null,
   "id": "86147c80",
   "metadata": {},
   "outputs": [],
   "source": [
    "# get the numbers GE 500 from a1\n",
    "a1[ a1 >= 500 ]"
   ]
  },
  {
   "cell_type": "code",
   "execution_count": null,
   "id": "caa881fc",
   "metadata": {},
   "outputs": [],
   "source": []
  },
  {
   "cell_type": "code",
   "execution_count": null,
   "id": "7d8986a5",
   "metadata": {},
   "outputs": [],
   "source": [
    "# get the negative numbers from a1\n",
    "a1[a1 < 0]"
   ]
  },
  {
   "cell_type": "code",
   "execution_count": null,
   "id": "27fef58e",
   "metadata": {},
   "outputs": [],
   "source": [
    "a3"
   ]
  },
  {
   "cell_type": "code",
   "execution_count": 57,
   "id": "36c0e99f",
   "metadata": {},
   "outputs": [
    {
     "data": {
      "text/plain": [
       "array([98, 52, 50, 51, 88, 69, 91, 69, 69, 90, 66, 70, 55])"
      ]
     },
     "execution_count": 57,
     "metadata": {},
     "output_type": "execute_result"
    }
   ],
   "source": [
    "# get the numbers GE 50 from a3\n",
    "a3[ a3 >= 50 ]"
   ]
  },
  {
   "cell_type": "code",
   "execution_count": 59,
   "id": "536ca045",
   "metadata": {},
   "outputs": [
    {
     "data": {
      "text/plain": [
       "array([26, 98, 52, 41, 39, 22, 45, 50, 51, 88, 69, 91, 38, 69, 69, 90, 49,\n",
       "       66, 70, 55])"
      ]
     },
     "execution_count": 59,
     "metadata": {},
     "output_type": "execute_result"
    }
   ],
   "source": [
    "#get the no GE 100 from a3.\n",
    "a3[a3 >= 10]"
   ]
  },
  {
   "cell_type": "code",
   "execution_count": 65,
   "id": "0ecec6d3",
   "metadata": {},
   "outputs": [
    {
     "data": {
      "text/plain": [
       "array([52, 50, 51, 69, 69, 69, 66, 70, 55])"
      ]
     },
     "execution_count": 65,
     "metadata": {},
     "output_type": "execute_result"
    }
   ],
   "source": [
    "#get the number between 50 and 100 from a3.   # & (and) pipe (or)\n",
    "a3[ (a3 >= 50) & (a3 <= 75)]"
   ]
  },
  {
   "cell_type": "code",
   "execution_count": 62,
   "id": "7c401c06",
   "metadata": {},
   "outputs": [
    {
     "data": {
      "text/plain": [
       "array([26, 52, 41, 39, 22, 45, 50, 51, 69, 38, 69, 69, 49, 66, 70, 55])"
      ]
     },
     "execution_count": 62,
     "metadata": {},
     "output_type": "execute_result"
    }
   ],
   "source": [
    "# get the numbers LE 80 from a3\n",
    "a3[a3 <= 80]"
   ]
  },
  {
   "cell_type": "code",
   "execution_count": 63,
   "id": "4de93c83",
   "metadata": {},
   "outputs": [
    {
     "ename": "ValueError",
     "evalue": "The truth value of an array with more than one element is ambiguous. Use a.any() or a.all()",
     "output_type": "error",
     "traceback": [
      "\u001b[1;31m---------------------------------------------------------------------------\u001b[0m",
      "\u001b[1;31mValueError\u001b[0m                                Traceback (most recent call last)",
      "\u001b[1;32mC:\\Users\\DEEPAK~1\\AppData\\Local\\Temp/ipykernel_11968/1803230087.py\u001b[0m in \u001b[0;36m<module>\u001b[1;34m\u001b[0m\n\u001b[0;32m      1\u001b[0m \u001b[1;31m# get the numbers from a3 between 50 and 80\u001b[0m\u001b[1;33m\u001b[0m\u001b[1;33m\u001b[0m\u001b[0m\n\u001b[1;32m----> 2\u001b[1;33m \u001b[0ma3\u001b[0m\u001b[1;33m[\u001b[0m \u001b[0ma3\u001b[0m \u001b[1;33m>=\u001b[0m \u001b[1;36m50\u001b[0m \u001b[1;32mand\u001b[0m \u001b[0ma3\u001b[0m \u001b[1;33m<=\u001b[0m \u001b[1;36m80\u001b[0m \u001b[1;33m]\u001b[0m\u001b[1;33m\u001b[0m\u001b[1;33m\u001b[0m\u001b[0m\n\u001b[0m",
      "\u001b[1;31mValueError\u001b[0m: The truth value of an array with more than one element is ambiguous. Use a.any() or a.all()"
     ]
    }
   ],
   "source": [
    "# get the numbers from a3 between 50 and 80\n",
    "a3[ a3 >= 50 and a3 <= 80 ]"
   ]
  },
  {
   "cell_type": "code",
   "execution_count": null,
   "id": "2f8c906b",
   "metadata": {},
   "outputs": [],
   "source": [
    "a3 >= 50"
   ]
  },
  {
   "cell_type": "code",
   "execution_count": null,
   "id": "8ba83575",
   "metadata": {},
   "outputs": [],
   "source": [
    "a3 <= 80"
   ]
  },
  {
   "cell_type": "code",
   "execution_count": null,
   "id": "f7bc559f",
   "metadata": {},
   "outputs": [],
   "source": [
    "(a3 >= 50) & (a3 <= 80)"
   ]
  },
  {
   "cell_type": "code",
   "execution_count": null,
   "id": "bd74df1d",
   "metadata": {},
   "outputs": [],
   "source": [
    "a3[ (a3 >= 50) & (a3 <= 80) ]"
   ]
  },
  {
   "cell_type": "code",
   "execution_count": null,
   "id": "aed0a433",
   "metadata": {},
   "outputs": [],
   "source": [
    "a3"
   ]
  },
  {
   "cell_type": "code",
   "execution_count": null,
   "id": "79c04acc",
   "metadata": {},
   "outputs": [],
   "source": [
    "# get the data which is LE 20 or GE 90\n",
    "a3[ (a3 <= 20) | (a3 >= 90) ]"
   ]
  },
  {
   "cell_type": "code",
   "execution_count": null,
   "id": "f8278d46",
   "metadata": {},
   "outputs": [],
   "source": [
    "(a3 <= 20) "
   ]
  },
  {
   "cell_type": "code",
   "execution_count": null,
   "id": "f6b2a769",
   "metadata": {},
   "outputs": [],
   "source": []
  },
  {
   "cell_type": "code",
   "execution_count": null,
   "id": "18048183",
   "metadata": {},
   "outputs": [],
   "source": []
  },
  {
   "cell_type": "code",
   "execution_count": null,
   "id": "6d87bf0d",
   "metadata": {},
   "outputs": [],
   "source": []
  }
 ],
 "metadata": {
  "kernelspec": {
   "display_name": "Python 3 (ipykernel)",
   "language": "python",
   "name": "python3"
  },
  "language_info": {
   "codemirror_mode": {
    "name": "ipython",
    "version": 3
   },
   "file_extension": ".py",
   "mimetype": "text/x-python",
   "name": "python",
   "nbconvert_exporter": "python",
   "pygments_lexer": "ipython3",
   "version": "3.9.7"
  }
 },
 "nbformat": 4,
 "nbformat_minor": 5
}
