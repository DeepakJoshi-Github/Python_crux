{
 "cells": [
  {
   "cell_type": "markdown",
   "id": "7884b85c",
   "metadata": {},
   "source": [
    "## To use python in the system:"
   ]
  },
  {
   "cell_type": "raw",
   "id": "110b18fb",
   "metadata": {},
   "source": [
    "Anaconda\t\tMiniconda\t\t( Bundled tools with the following:)\n",
    "\t\t\t\t\n",
    "Python\t3.9\t\t\t\n",
    "GUI - Graphical Uer Interface\t\t\t\t\n",
    "\tCMD/Terminals\t\t\t\n",
    "\t\tAnaconda Prompt\t\t\n",
    "\tIDEs - Integrated Development Environment\t\t\t\n",
    "\t\tpyCharm, Spyder\t\t\n",
    "\tTools\t\t\t\n",
    "\t\tJupyter Notebook (Reporting Tool)\t\t\n",
    "Packages / Lib\t\t\t\t\n",
    "\tnumpy, pandas, matplotlib, seaborn, scipy, scikitlearn, datetime…\t\t\t\n",
    "\t\t\t\t\n",
    "www.anaconda.com\t\t\t\t\n"
   ]
  },
  {
   "cell_type": "markdown",
   "id": "8eee98f8",
   "metadata": {},
   "source": [
    "## Jupyter Cells"
   ]
  },
  {
   "cell_type": "raw",
   "id": "60833086",
   "metadata": {},
   "source": [
    "Cells:\n",
    "    \n",
    "Every cell in jupyter notebook has:\n",
    "    \n",
    "2 states:\n",
    "    Select : Esc\n",
    "    Edit\n",
    "    \n",
    "    ** Most of the shortcuts wil work in select state\n",
    "    \n",
    "        Add new cells Above : ESC + A\n",
    "        Add new cells Below : ESC + B\n",
    "\n",
    "        Delete existing cell : ESC + DD\n",
    "\n",
    "        Cut : ESC + X\n",
    "        copy : ESC + C\n",
    "        paste : ESC + V\n",
    "            \n",
    "        Cell Executions (Edit State): \n",
    "            CNTR + ENTER: Will execute the cell and you will be in the same cell after the execution\n",
    "            SHIFT + ENTER: Will execute the cell and you will be in the next available cell of jupyter notebook. If next cell is not available, will create a new cell and will take you to the next cell\n",
    "    \n",
    "3 modes\n",
    "    RawNBConvert: no formatting is allowed, we can write plain text\n",
    "        ESC + R\n",
    "        \n",
    "    Markdown: stylized text.\n",
    "                html, symbols\n",
    "        ESC + M\n",
    "        \n",
    "    Code: syntactically correct python codes  \n",
    "        ESC + Y\n",
    "    \n",
    "\n",
    "Markup: HTML tags for styling\n",
    "Markdown: Symbols for styling"
   ]
  },
  {
   "cell_type": "markdown",
   "id": "c11ecad0",
   "metadata": {},
   "source": [
    "## using the headers"
   ]
  },
  {
   "cell_type": "markdown",
   "id": "1b48b07e",
   "metadata": {},
   "source": [
    "# heading 1\n",
    "## heading 2\n",
    "### heading 3\n",
    "#### heading 4\n",
    "##### heading 5\n",
    "###### heading 6\n",
    "\n",
    "<h1> heading 1 </h1>\n",
    "<h2> heading 2 </h2>\n",
    "<h3> heading 3 </h3>\n",
    "<h4> heading 4 </h4>\n",
    "<h5> heading 5 </h5>\n",
    "<h6> heading 6 </h6>"
   ]
  },
  {
   "cell_type": "markdown",
   "id": "74448864",
   "metadata": {},
   "source": [
    "## python"
   ]
  },
  {
   "cell_type": "raw",
   "id": "bf164114",
   "metadata": {},
   "source": [
    "Multi purpose Language\n",
    "    web programming\n",
    "    scripting\n",
    "    data science / data analysis\n",
    "\n",
    "Open Source and Free\n",
    "\n",
    "High level \n",
    "\n",
    "Interpreted language\n",
    "\n",
    "Easy to learn\n",
    "\n",
    "Case sensitive\n",
    "    **majority of the keywords in basic python are in small case\n",
    "\n",
    "    \n",
    "Dynamically Typed / Loosely typed\n",
    "\n",
    "OOP: Encapsulation, inheritance, polymorphism, Abstraction etc\n",
    "    \n",
    "\n",
    "In python, to write the text we would use\n",
    "    1. single quotes\n",
    "    2. double quotes\n",
    "    3. 3 single quotes (multi line strings)\n",
    "    4. 3 double quotes (multi line strings)\n",
    "    \n",
    "Comments:\n",
    "    python supports only SINGLE LINE comments\n",
    "    pound symbol #\n",
    "    \n",
    "    ** # symbol in markdown mode is for header\n",
    "    ** # symbol in code mode is for comments"
   ]
  },
  {
   "cell_type": "code",
   "execution_count": 11,
   "id": "6007e18b",
   "metadata": {},
   "outputs": [
    {
     "data": {
      "text/plain": [
       "'python \\n    class 1'"
      ]
     },
     "execution_count": 11,
     "metadata": {},
     "output_type": "execute_result"
    }
   ],
   "source": [
    "\"\"\"python \n",
    "    class 1\"\"\""
   ]
  },
  {
   "cell_type": "code",
   "execution_count": null,
   "id": "87fc1d5b",
   "metadata": {},
   "outputs": [],
   "source": []
  }
 ],
 "metadata": {
  "kernelspec": {
   "display_name": "Python 3 (ipykernel)",
   "language": "python",
   "name": "python3"
  },
  "language_info": {
   "codemirror_mode": {
    "name": "ipython",
    "version": 3
   },
   "file_extension": ".py",
   "mimetype": "text/x-python",
   "name": "python",
   "nbconvert_exporter": "python",
   "pygments_lexer": "ipython3",
   "version": "3.9.7"
  }
 },
 "nbformat": 4,
 "nbformat_minor": 5
}
