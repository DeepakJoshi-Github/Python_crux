{
 "cells": [
  {
   "cell_type": "raw",
   "id": "c9b46a45",
   "metadata": {},
   "source": [
    "In data analysis exercise we generally do the following:\n",
    "   \n",
    "Rows | Records | Observations\n",
    "Columns | Fields | Variables\n",
    "\n",
    "1. Data availability or data import\n",
    "    get data from files: read_xxxx()\n",
    "    get the data from databases: pyodbc\n",
    "\n",
    "2. Understand what needs to be done\n",
    "    EDA - Exp. Data Analysis\n",
    "    Charts\n",
    "    \n",
    "    Metadata Inspection: Information about the structure of the data\n",
    "    .dtypes, .shape, .ndim, .columns\n",
    "    .count(), type()\n",
    "    \n",
    "    .info()\n",
    "       \n",
    "    Data Inspection: How is the data available and what needs to be performed on the data for furhetr processing\n",
    "    \n",
    "    .count(), .mean(), .std(), .min(), .max(), .quantile()\n",
    "    .describe()\n",
    "    .head(), .tail()\n",
    "    \n",
    "    five point summary:\n",
    "    min | p0\n",
    "    q1 | p25\n",
    "    q2 | p50 | median\n",
    "    q3 | p75\n",
    "    max | p100\n",
    "    \n",
    "3. Data Prep | Data Cleaning | Data Wrangling | Data Munging\n",
    "    \n",
    "    Structure Changes:\n",
    "    -------------------------\n",
    "    \n",
    "    Subsetting\n",
    "        [] - will be confusing\n",
    "        .loc[:, ] - to get the data using UDI\n",
    "        .iloc[:, ] - to get the data using DI\n",
    "        .column_name - can get only one variable, and that too if variable name follows the INC rules\n",
    "    \n",
    "    Reorder the variables\n",
    "        .loc[:, ], .iloc[:, ], []\n",
    "    \n",
    "    Calculated variables\n",
    "    \n",
    "        **following will make the data changes permanently\n",
    "        [ new_variable_name ] = calculated_variable\n",
    "        .loc[ :, new_variable_name ] = calculated_variable\n",
    "        .insert()   \n",
    "        \n",
    "        **following will make the data changes temporary\n",
    "        .assign()\n",
    "        \n",
    "        .iloc[ new_variable_name ] = calculated_variable    ** THIS operation is NOT possible\n",
    "    \n",
    "    Rename\n",
    "        .rename( columns = {}, inplace = )\n",
    "        .columns = new_column_names\n",
    "       \n",
    "    drop the variables\n",
    "        .drop( columns = [], inplace = )\n",
    "    \n",
    "    Data type conversion\n",
    "        .astype()\n",
    "        \n",
    "        ** we have NOT discussed following methods, will discuss in next week\n",
    "        pd.to_numeric()\n",
    "        pd.to_datetime()\n",
    "        \n",
    "    \n",
    "    Data Changes:\n",
    "    -------------------------\n",
    "    How to update the data\n",
    "    Filters\n",
    "        Manual Filters\n",
    "            .head(), .tail()\n",
    "            [] - only using slicers\n",
    "            .iloc[]\n",
    "            .loc[]\n",
    "        \n",
    "        Conditional Filters\n",
    "            [], .loc[]\n",
    "        \n",
    "    Sorting\n",
    "        .sort_values( by = , ascending = , inplace = , ignore_index = , na_position = , kind =  )\n",
    "        .sort_index( axis = , ..... )\n",
    "        \n",
    "    Duplicates\n",
    "        .duplicated( subset = , keep = )\n",
    "        .drop_duplicates( subset = , keep = , inplace = , ignore_index = )\n",
    "    \n",
    "    Outliers\n",
    "        outlier detection\n",
    "            percentile, iqr, std \n",
    "            lc and uc\n",
    "            .quantile(), .std(), .mean()\n",
    "        \n",
    "        outlier treatment\n",
    "            .clip( lower = , upper = , inplace = )\n",
    "    \n",
    "    Missing values\n",
    "        missings %ages\n",
    "            .isna(), .isnull(), .notna(), .notnull(), .count(), .shape[0]\n",
    "        \n",
    "        missing value treatment (DataFrames)\n",
    "            drop the variable\n",
    "                .dropna( axis = 1, thresh = , how = , inplace =  )\n",
    "            \n",
    "            drop the obs\n",
    "                .dropna( axis = 0, subset = , inplace =  )\n",
    "            \n",
    "            imputation (Series)\n",
    "                mean, median, mode\n",
    "                static\n",
    "                predictive models\n",
    "                \n",
    "                .fillna( value, inplace =  )\n",
    "    \n",
    "    Groups and Bins\n",
    "    Summaries\n",
    "    Combine the datasets\n",
    "        Joins/Merge\n",
    "        Append/Union\n",
    "        Concat/Horizontal append\n",
    "    Functions\n",
    "        \n",
    "4. BI : Reports, Charts and Dashboards / Presentations\n",
    "   Formats\n",
    "   \n",
    "5. Predictive Analytics"
   ]
  },
  {
   "cell_type": "code",
   "execution_count": 1,
   "id": "227a747c",
   "metadata": {},
   "outputs": [],
   "source": [
    "import numpy as np\n",
    "import pandas as pd"
   ]
  },
  {
   "cell_type": "code",
   "execution_count": 3,
   "id": "53ca163f",
   "metadata": {},
   "outputs": [],
   "source": [
    "stores = pd.read_csv('D:/SampleData/stores_new.csv')"
   ]
  },
  {
   "cell_type": "code",
   "execution_count": 5,
   "id": "492a809e",
   "metadata": {},
   "outputs": [
    {
     "data": {
      "text/plain": [
       "StoreCode          0.00000\n",
       "StoreName          0.00000\n",
       "StoreType          0.00000\n",
       "Location           0.00000\n",
       "OperatingCost      0.00000\n",
       "Staff_Cnt          0.00000\n",
       "TotalSales         0.00000\n",
       "Total_Customers    0.00000\n",
       "AcqCostPercust     0.09375\n",
       "BasketSize         0.00000\n",
       "ProfitPercust      0.00000\n",
       "Dummy              1.00000\n",
       "OwnStore           0.00000\n",
       "OnlinePresence     0.00000\n",
       "Tenure             0.00000\n",
       "StoreSegment       0.00000\n",
       "dtype: float64"
      ]
     },
     "execution_count": 5,
     "metadata": {},
     "output_type": "execute_result"
    }
   ],
   "source": [
    "stores.isna().sum() / stores.shape[0]"
   ]
  },
  {
   "cell_type": "code",
   "execution_count": 15,
   "id": "90d4aa11",
   "metadata": {},
   "outputs": [
    {
     "data": {
      "text/html": [
       "<div>\n",
       "<style scoped>\n",
       "    .dataframe tbody tr th:only-of-type {\n",
       "        vertical-align: middle;\n",
       "    }\n",
       "\n",
       "    .dataframe tbody tr th {\n",
       "        vertical-align: top;\n",
       "    }\n",
       "\n",
       "    .dataframe thead th {\n",
       "        text-align: right;\n",
       "    }\n",
       "</style>\n",
       "<table border=\"1\" class=\"dataframe\">\n",
       "  <thead>\n",
       "    <tr style=\"text-align: right;\">\n",
       "      <th></th>\n",
       "      <th>StoreCode</th>\n",
       "      <th>StoreName</th>\n",
       "      <th>StoreType</th>\n",
       "      <th>Location</th>\n",
       "      <th>OperatingCost</th>\n",
       "      <th>Staff_Cnt</th>\n",
       "      <th>TotalSales</th>\n",
       "      <th>Total_Customers</th>\n",
       "      <th>AcqCostPercust</th>\n",
       "      <th>BasketSize</th>\n",
       "      <th>ProfitPercust</th>\n",
       "      <th>Dummy</th>\n",
       "      <th>OwnStore</th>\n",
       "      <th>OnlinePresence</th>\n",
       "      <th>Tenure</th>\n",
       "      <th>StoreSegment</th>\n",
       "    </tr>\n",
       "  </thead>\n",
       "  <tbody>\n",
       "    <tr>\n",
       "      <th>0</th>\n",
       "      <td>STR101</td>\n",
       "      <td>Electronics Zone</td>\n",
       "      <td>Electronincs</td>\n",
       "      <td>Delhi</td>\n",
       "      <td>21.0</td>\n",
       "      <td>60</td>\n",
       "      <td>160.0</td>\n",
       "      <td>110</td>\n",
       "      <td>3.9</td>\n",
       "      <td>2.620</td>\n",
       "      <td>16.46</td>\n",
       "      <td>NaN</td>\n",
       "      <td>0</td>\n",
       "      <td>1</td>\n",
       "      <td>4</td>\n",
       "      <td>4</td>\n",
       "    </tr>\n",
       "    <tr>\n",
       "      <th>1</th>\n",
       "      <td>STR102</td>\n",
       "      <td>Apparel Zone</td>\n",
       "      <td>Apparel</td>\n",
       "      <td>Delhi</td>\n",
       "      <td>21.0</td>\n",
       "      <td>60</td>\n",
       "      <td>160.0</td>\n",
       "      <td>110</td>\n",
       "      <td>3.9</td>\n",
       "      <td>2.875</td>\n",
       "      <td>17.02</td>\n",
       "      <td>NaN</td>\n",
       "      <td>0</td>\n",
       "      <td>1</td>\n",
       "      <td>4</td>\n",
       "      <td>4</td>\n",
       "    </tr>\n",
       "  </tbody>\n",
       "</table>\n",
       "</div>"
      ],
      "text/plain": [
       "  StoreCode         StoreName     StoreType Location  OperatingCost  \\\n",
       "0    STR101  Electronics Zone  Electronincs    Delhi           21.0   \n",
       "1    STR102      Apparel Zone       Apparel    Delhi           21.0   \n",
       "\n",
       "   Staff_Cnt  TotalSales  Total_Customers  AcqCostPercust  BasketSize  \\\n",
       "0         60       160.0              110             3.9       2.620   \n",
       "1         60       160.0              110             3.9       2.875   \n",
       "\n",
       "   ProfitPercust  Dummy  OwnStore  OnlinePresence  Tenure  StoreSegment  \n",
       "0          16.46    NaN         0               1       4             4  \n",
       "1          17.02    NaN         0               1       4             4  "
      ]
     },
     "execution_count": 15,
     "metadata": {},
     "output_type": "execute_result"
    }
   ],
   "source": [
    "stores.dropna( axis = 0, subset = ['AcqCostPercust'] ).head(2)"
   ]
  },
  {
   "cell_type": "code",
   "execution_count": 16,
   "id": "fbdb1da7",
   "metadata": {},
   "outputs": [
    {
     "data": {
      "text/html": [
       "<div>\n",
       "<style scoped>\n",
       "    .dataframe tbody tr th:only-of-type {\n",
       "        vertical-align: middle;\n",
       "    }\n",
       "\n",
       "    .dataframe tbody tr th {\n",
       "        vertical-align: top;\n",
       "    }\n",
       "\n",
       "    .dataframe thead th {\n",
       "        text-align: right;\n",
       "    }\n",
       "</style>\n",
       "<table border=\"1\" class=\"dataframe\">\n",
       "  <thead>\n",
       "    <tr style=\"text-align: right;\">\n",
       "      <th></th>\n",
       "      <th>StoreCode</th>\n",
       "      <th>StoreName</th>\n",
       "      <th>StoreType</th>\n",
       "      <th>Location</th>\n",
       "      <th>OperatingCost</th>\n",
       "      <th>Staff_Cnt</th>\n",
       "      <th>TotalSales</th>\n",
       "      <th>Total_Customers</th>\n",
       "      <th>AcqCostPercust</th>\n",
       "      <th>BasketSize</th>\n",
       "      <th>ProfitPercust</th>\n",
       "      <th>Dummy</th>\n",
       "      <th>OwnStore</th>\n",
       "      <th>OnlinePresence</th>\n",
       "      <th>Tenure</th>\n",
       "      <th>StoreSegment</th>\n",
       "    </tr>\n",
       "  </thead>\n",
       "  <tbody>\n",
       "  </tbody>\n",
       "</table>\n",
       "</div>"
      ],
      "text/plain": [
       "Empty DataFrame\n",
       "Columns: [StoreCode, StoreName, StoreType, Location, OperatingCost, Staff_Cnt, TotalSales, Total_Customers, AcqCostPercust, BasketSize, ProfitPercust, Dummy, OwnStore, OnlinePresence, Tenure, StoreSegment]\n",
       "Index: []"
      ]
     },
     "execution_count": 16,
     "metadata": {},
     "output_type": "execute_result"
    }
   ],
   "source": [
    "stores[ stores.AcqCostPercust == np.NAN ]"
   ]
  },
  {
   "cell_type": "code",
   "execution_count": 20,
   "id": "4af2ecdf",
   "metadata": {},
   "outputs": [
    {
     "data": {
      "text/html": [
       "<div>\n",
       "<style scoped>\n",
       "    .dataframe tbody tr th:only-of-type {\n",
       "        vertical-align: middle;\n",
       "    }\n",
       "\n",
       "    .dataframe tbody tr th {\n",
       "        vertical-align: top;\n",
       "    }\n",
       "\n",
       "    .dataframe thead th {\n",
       "        text-align: right;\n",
       "    }\n",
       "</style>\n",
       "<table border=\"1\" class=\"dataframe\">\n",
       "  <thead>\n",
       "    <tr style=\"text-align: right;\">\n",
       "      <th></th>\n",
       "      <th>StoreCode</th>\n",
       "      <th>StoreName</th>\n",
       "      <th>StoreType</th>\n",
       "      <th>Location</th>\n",
       "      <th>OperatingCost</th>\n",
       "      <th>Staff_Cnt</th>\n",
       "      <th>TotalSales</th>\n",
       "      <th>Total_Customers</th>\n",
       "      <th>AcqCostPercust</th>\n",
       "      <th>BasketSize</th>\n",
       "      <th>ProfitPercust</th>\n",
       "      <th>Dummy</th>\n",
       "      <th>OwnStore</th>\n",
       "      <th>OnlinePresence</th>\n",
       "      <th>Tenure</th>\n",
       "      <th>StoreSegment</th>\n",
       "    </tr>\n",
       "  </thead>\n",
       "  <tbody>\n",
       "    <tr>\n",
       "      <th>11</th>\n",
       "      <td>STR112</td>\n",
       "      <td>Super Market</td>\n",
       "      <td>Super Market</td>\n",
       "      <td>Chennai</td>\n",
       "      <td>16.4</td>\n",
       "      <td>80</td>\n",
       "      <td>275.8</td>\n",
       "      <td>180</td>\n",
       "      <td>NaN</td>\n",
       "      <td>4.07</td>\n",
       "      <td>17.4</td>\n",
       "      <td>NaN</td>\n",
       "      <td>0</td>\n",
       "      <td>0</td>\n",
       "      <td>3</td>\n",
       "      <td>3</td>\n",
       "    </tr>\n",
       "    <tr>\n",
       "      <th>12</th>\n",
       "      <td>STR113</td>\n",
       "      <td>Central Store</td>\n",
       "      <td>Super Market</td>\n",
       "      <td>Chennai</td>\n",
       "      <td>17.3</td>\n",
       "      <td>80</td>\n",
       "      <td>275.8</td>\n",
       "      <td>180</td>\n",
       "      <td>NaN</td>\n",
       "      <td>3.73</td>\n",
       "      <td>17.6</td>\n",
       "      <td>NaN</td>\n",
       "      <td>0</td>\n",
       "      <td>0</td>\n",
       "      <td>3</td>\n",
       "      <td>3</td>\n",
       "    </tr>\n",
       "    <tr>\n",
       "      <th>13</th>\n",
       "      <td>STR114</td>\n",
       "      <td>Apparel Zone</td>\n",
       "      <td>Apparel</td>\n",
       "      <td>Chennai</td>\n",
       "      <td>15.2</td>\n",
       "      <td>80</td>\n",
       "      <td>275.8</td>\n",
       "      <td>180</td>\n",
       "      <td>NaN</td>\n",
       "      <td>3.78</td>\n",
       "      <td>18.0</td>\n",
       "      <td>NaN</td>\n",
       "      <td>0</td>\n",
       "      <td>0</td>\n",
       "      <td>3</td>\n",
       "      <td>3</td>\n",
       "    </tr>\n",
       "  </tbody>\n",
       "</table>\n",
       "</div>"
      ],
      "text/plain": [
       "   StoreCode      StoreName     StoreType Location  OperatingCost  Staff_Cnt  \\\n",
       "11    STR112   Super Market  Super Market  Chennai           16.4         80   \n",
       "12    STR113  Central Store  Super Market  Chennai           17.3         80   \n",
       "13    STR114   Apparel Zone       Apparel  Chennai           15.2         80   \n",
       "\n",
       "    TotalSales  Total_Customers  AcqCostPercust  BasketSize  ProfitPercust  \\\n",
       "11       275.8              180             NaN        4.07           17.4   \n",
       "12       275.8              180             NaN        3.73           17.6   \n",
       "13       275.8              180             NaN        3.78           18.0   \n",
       "\n",
       "    Dummy  OwnStore  OnlinePresence  Tenure  StoreSegment  \n",
       "11    NaN         0               0       3             3  \n",
       "12    NaN         0               0       3             3  \n",
       "13    NaN         0               0       3             3  "
      ]
     },
     "execution_count": 20,
     "metadata": {},
     "output_type": "execute_result"
    }
   ],
   "source": [
    "# get the obs where AcqCostPercust is missing\n",
    "stores[ stores.AcqCostPercust.isna() ]"
   ]
  },
  {
   "cell_type": "code",
   "execution_count": 21,
   "id": "7b87d000",
   "metadata": {},
   "outputs": [
    {
     "data": {
      "text/plain": [
       "3.651034482758621"
      ]
     },
     "execution_count": 21,
     "metadata": {},
     "output_type": "execute_result"
    }
   ],
   "source": [
    "stores.AcqCostPercust.mean()"
   ]
  },
  {
   "cell_type": "code",
   "execution_count": 23,
   "id": "dc4b900e",
   "metadata": {},
   "outputs": [
    {
     "data": {
      "text/plain": [
       "0    3.9\n",
       "1    3.9\n",
       "Name: AcqCostPercust, dtype: float64"
      ]
     },
     "execution_count": 23,
     "metadata": {},
     "output_type": "execute_result"
    }
   ],
   "source": [
    "# impute the data in the AcqCostPercust with the mean value\n",
    "stores.AcqCostPercust.fillna( stores.AcqCostPercust.mean() ).head(2)"
   ]
  },
  {
   "cell_type": "code",
   "execution_count": 26,
   "id": "2933e47f",
   "metadata": {},
   "outputs": [
    {
     "data": {
      "text/plain": [
       "nan"
      ]
     },
     "execution_count": 26,
     "metadata": {},
     "output_type": "execute_result"
    }
   ],
   "source": [
    "10 * np.NAN"
   ]
  },
  {
   "cell_type": "code",
   "execution_count": 27,
   "id": "3a8ffb7b",
   "metadata": {},
   "outputs": [],
   "source": [
    "# assign the missing value in the obs index# 12 in StoreType variable\n",
    "stores.loc[ 12, 'StoreType' ] = np.nan"
   ]
  },
  {
   "cell_type": "code",
   "execution_count": 29,
   "id": "e9733ce0",
   "metadata": {},
   "outputs": [
    {
     "name": "stderr",
     "output_type": "stream",
     "text": [
      "<ipython-input-29-b58055c2b717>:1: SettingWithCopyWarning: \n",
      "A value is trying to be set on a copy of a slice from a DataFrame\n",
      "\n",
      "See the caveats in the documentation: https://pandas.pydata.org/pandas-docs/stable/user_guide/indexing.html#returning-a-view-versus-a-copy\n",
      "  stores.StoreType[11] = np.nan\n"
     ]
    }
   ],
   "source": [
    "stores.StoreType[11] = np.nan # not recomended"
   ]
  },
  {
   "cell_type": "markdown",
   "id": "dfbe911c",
   "metadata": {},
   "source": [
    "### Categorical vs Continuous variables"
   ]
  },
  {
   "cell_type": "raw",
   "id": "8a3c30a8",
   "metadata": {},
   "source": [
    "Cardinality: No of UNIQUE values in a variable\n",
    "\n",
    "EmpID: 1001, 1002, 1003, .....\n",
    "Gender: 0, 1\n",
    "Years of exp: 0, 1, 2, 3, 4, ...\n",
    "Salary: ......\n",
    "DOB: 12 Nov 1990, 20 Jul 2002, ....\n",
    "Location: N, S, E, W\n",
    "Dept: Sales, IT, SS, Finance, ...\n",
    "Desig: 1, 2, 3, 4, 5\n",
    "Taxes: .......\n",
    "\n",
    "Categorical\n",
    "    EmpID: 1001, 1002, 1003, .....\n",
    "    Gender: 0, 1\n",
    "    Location: N, S, E, W\n",
    "    Dept: Sales, IT, SS, Finance, ...\n",
    "    Desig: 1, 2, 3, 4, 5\n",
    "    DOB: 12 Nov 1990, 20 Jul 2002, ....\n",
    "    Date and/or Time or date parts will all be categorical\n",
    "    \n",
    "    Further classified as \n",
    "    1. Nominal: Which dont have a order\n",
    "    2. Ordinal: Which have a order\n",
    "    \n",
    "Continuous\n",
    "    Years of exp: 0, 1, 2, 3, 4, ...\n",
    "    Salary: ......\n",
    "    Taxes: .......\n",
    "    \n",
    "    No of days, no of years, no of months, ...... will be continuous valriables\n",
    "    \n",
    "\n",
    "All object type variables will be categorical\n",
    "\n",
    "Numeric varibales can be mix of Continuous and Categorical"
   ]
  },
  {
   "cell_type": "markdown",
   "id": "81f64da2",
   "metadata": {},
   "source": [
    "### Groups and Bins"
   ]
  },
  {
   "cell_type": "raw",
   "id": "7f8c25a7",
   "metadata": {},
   "source": [
    "Age: 11 - 90\n",
    "\n",
    "Groups:\n",
    "Teenage: <= 19\n",
    "Young: 20 - 25\n",
    "Adult: 26 - 45\n",
    "....\n",
    "    \n",
    "\n",
    "Bins:\n",
    "11 - 20\n",
    "21 - 30\n",
    "31 - 40\n",
    "...\n",
    "81 - 90"
   ]
  },
  {
   "cell_type": "raw",
   "id": "f870eb9e",
   "metadata": {},
   "source": [
    "**To create a categorical variable from continuous variable**\n",
    "\n",
    "Bins: Equal Freq distribution tables. Applicable only on continuous variables.\n",
    "    Any chart created on top of bins is known as HISTOGRAM / DISTRIBUTION CHART\n",
    "    **should be created on one Series object\n",
    "    \n",
    "    \n",
    "Groups: Combine the multiple values into higher level either manually or logically\n",
    "    We can create groups on categorical and/or continuous variables as well\n",
    "    **should be created on one or multiple Series object\n",
    "\n",
    "pd.cut() - bins\n",
    "Bin size should be sames\n",
    "\n",
    "pd.qcut() - groups\n",
    "No of obs in each group should be same\n",
    "\n",
    "np.where() - groups"
   ]
  },
  {
   "cell_type": "code",
   "execution_count": 33,
   "id": "9b582dd7",
   "metadata": {},
   "outputs": [
    {
     "data": {
      "text/plain": [
       "0    (151.28, 191.37]\n",
       "1    (151.28, 191.37]\n",
       "Name: TotalSales, dtype: category\n",
       "Categories (10, interval[float64]): [(70.699, 111.19] < (111.19, 151.28] < (151.28, 191.37] < (191.37, 231.46] ... (311.64, 351.73] < (351.73, 391.82] < (391.82, 431.91] < (431.91, 472.0]]"
      ]
     },
     "execution_count": 33,
     "metadata": {},
     "output_type": "execute_result"
    }
   ],
   "source": [
    "# we control the # of bins\n",
    "pd.cut( stores.TotalSales, 10 ).head(2)"
   ]
  },
  {
   "cell_type": "code",
   "execution_count": 35,
   "id": "6abbc582",
   "metadata": {},
   "outputs": [
    {
     "data": {
      "text/plain": [
       "0    (150, 200]\n",
       "1    (150, 200]\n",
       "Name: TotalSales, dtype: category\n",
       "Categories (10, interval[int64]): [(0, 50] < (50, 100] < (100, 150] < (150, 200] ... (300, 350] < (350, 400] < (400, 450] < (450, 500]]"
      ]
     },
     "execution_count": 35,
     "metadata": {},
     "output_type": "execute_result"
    }
   ],
   "source": [
    "# we control the class interval / bin size\n",
    "pd.cut( stores.TotalSales, np.arange(0, 501, 50) ).head(2)"
   ]
  },
  {
   "cell_type": "code",
   "execution_count": 39,
   "id": "58e8ab9e",
   "metadata": {},
   "outputs": [
    {
     "data": {
      "text/plain": [
       "0    (120, 270]\n",
       "1    (120, 270]\n",
       "Name: TotalSales, dtype: category\n",
       "Categories (7, interval[int64]): [(0, 100] < (100, 120] < (120, 270] < (270, 300] < (300, 350] < (350, 450] < (450, 500]]"
      ]
     },
     "execution_count": 39,
     "metadata": {},
     "output_type": "execute_result"
    }
   ],
   "source": [
    "# create groups with pd.cut. Values in the list should ALWAYS be in the asc order\n",
    "pd.cut( stores.TotalSales, [0, 100, 120, 270, 300, 350, 450, 500] ).head(2)"
   ]
  },
  {
   "cell_type": "raw",
   "id": "26c4f5ab",
   "metadata": {},
   "source": [
    "To divie the data based on \n",
    "1. Median: use 2\n",
    "2. Quantile: use 4\n",
    "3. Deciles: use 10\n",
    "    \n",
    "Decile analysis: will discuss in the modelling classes"
   ]
  },
  {
   "cell_type": "code",
   "execution_count": 43,
   "id": "2342acad",
   "metadata": {},
   "outputs": [
    {
     "data": {
      "text/plain": [
       "0    (142.06, 160.0]\n",
       "1    (142.06, 160.0]\n",
       "Name: TotalSales, dtype: category\n",
       "Categories (10, interval[float64]): [(71.09899999999999, 80.61] < (80.61, 120.14] < (120.14, 142.06] < (142.06, 160.0] ... (275.8, 303.1] < (303.1, 350.8] < (350.8, 396.0] < (396.0, 472.0]]"
      ]
     },
     "execution_count": 43,
     "metadata": {},
     "output_type": "execute_result"
    }
   ],
   "source": [
    "# get equal no of obs in each group\n",
    "pd.qcut( stores.TotalSales, 10 ).head(2)"
   ]
  },
  {
   "cell_type": "code",
   "execution_count": 46,
   "id": "f403e33c",
   "metadata": {},
   "outputs": [
    {
     "data": {
      "text/plain": [
       "0      Low\n",
       "1      Low\n",
       "2      Low\n",
       "3     High\n",
       "4     High\n",
       "5      Low\n",
       "6     High\n",
       "7      Low\n",
       "8      Low\n",
       "9      Low\n",
       "10     Low\n",
       "11    High\n",
       "12    High\n",
       "13    High\n",
       "14    High\n",
       "15    High\n",
       "16    High\n",
       "17     Low\n",
       "18     Low\n",
       "19     Low\n",
       "20     Low\n",
       "21    High\n",
       "22    High\n",
       "23    High\n",
       "24    High\n",
       "25     Low\n",
       "26     Low\n",
       "27     Low\n",
       "28    High\n",
       "29     Low\n",
       "30    High\n",
       "31     Low\n",
       "dtype: object"
      ]
     },
     "execution_count": 46,
     "metadata": {},
     "output_type": "execute_result"
    }
   ],
   "source": [
    "# to create the groups: np.where()\n",
    "# syntax of if of excel: if( condition, true_value, false_value )\n",
    "\n",
    "# Create a grouped column with values as High and Low based on TotalSales (mean)\n",
    "pd.Series( np.where( stores.TotalSales >= stores.TotalSales.mean(), 'High', 'Low' ) )"
   ]
  },
  {
   "cell_type": "code",
   "execution_count": 75,
   "id": "b7d85029",
   "metadata": {},
   "outputs": [
    {
     "data": {
      "text/plain": [
       "0    DELHI\n",
       "1    DELHI\n",
       "Name: Location, dtype: object"
      ]
     },
     "execution_count": 75,
     "metadata": {},
     "output_type": "execute_result"
    }
   ],
   "source": [
    "stores.Location.str.upper().head(2)"
   ]
  },
  {
   "cell_type": "code",
   "execution_count": 74,
   "id": "390f1dea",
   "metadata": {},
   "outputs": [
    {
     "data": {
      "text/plain": [
       "array([0, 2, 9, 8, 2, 5, 0, 4, 6, 0])"
      ]
     },
     "execution_count": 74,
     "metadata": {},
     "output_type": "execute_result"
    }
   ],
   "source": [
    "np.random.randint(0, 11, 10)"
   ]
  },
  {
   "cell_type": "code",
   "execution_count": null,
   "id": "47952c96",
   "metadata": {},
   "outputs": [],
   "source": []
  }
 ],
 "metadata": {
  "kernelspec": {
   "display_name": "Python 3 (ipykernel)",
   "language": "python",
   "name": "python3"
  },
  "language_info": {
   "codemirror_mode": {
    "name": "ipython",
    "version": 3
   },
   "file_extension": ".py",
   "mimetype": "text/x-python",
   "name": "python",
   "nbconvert_exporter": "python",
   "pygments_lexer": "ipython3",
   "version": "3.9.7"
  }
 },
 "nbformat": 4,
 "nbformat_minor": 5
}
