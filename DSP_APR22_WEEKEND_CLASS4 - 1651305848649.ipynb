{
 "cells": [
  {
   "cell_type": "markdown",
   "id": "12bbcae0",
   "metadata": {},
   "source": [
    "## Last Class topics"
   ]
  },
  {
   "cell_type": "raw",
   "id": "c15635a6",
   "metadata": {},
   "source": [
    "for loop:\n",
    "    \n",
    "for var_name in iterable:\n",
    "    line_of_code\n",
    "    \n",
    "range()\n",
    "list, tuple, ...."
   ]
  },
  {
   "cell_type": "raw",
   "id": "418a596f",
   "metadata": {},
   "source": [
    "Data Structures:\n",
    "Objects that allows to store the data\n",
    "    \n",
    "Types of DS in basic python: #data structures\n",
    "tuple, list, dict, set\n",
    "\n",
    "Properties:\n",
    "1D, hetrogeneous, no broadcasting, vectorization possible\n",
    "\n",
    "tuple and list:\n",
    "create, select, update\n",
    "\n",
    "tuple: immuatble\n",
    "list: mutable object\n",
    "\n",
    "functions: \n",
    "int(), str(), float(), bool(), tuple(), list(), dict(), set()\n",
    "print(), range(), type(), len(), dir(), id()\n",
    "\n",
    "help/Documentation:\n",
    "?, shift + tab\n",
    "\n",
    "Autocomplete:\n",
    "tab"
   ]
  },
  {
   "cell_type": "code",
   "execution_count": 2,
   "id": "c84392ac",
   "metadata": {},
   "outputs": [
    {
     "name": "stdout",
     "output_type": "stream",
     "text": [
      "['__add__', '__class__', '__contains__', '__delattr__', '__delitem__', '__dir__', '__doc__', '__eq__', '__format__', '__ge__', '__getattribute__', '__getitem__', '__gt__', '__hash__', '__iadd__', '__imul__', '__init__', '__init_subclass__', '__iter__', '__le__', '__len__', '__lt__', '__mul__', '__ne__', '__new__', '__reduce__', '__reduce_ex__', '__repr__', '__reversed__', '__rmul__', '__setattr__', '__setitem__', '__sizeof__', '__str__', '__subclasshook__', 'append', 'clear', 'copy', 'count', 'extend', 'index', 'insert', 'pop', 'remove', 'reverse', 'sort']\n"
     ]
    }
   ],
   "source": [
    "print( dir(list) )"
   ]
  },
  {
   "cell_type": "code",
   "execution_count": 6,
   "id": "45874a40",
   "metadata": {},
   "outputs": [],
   "source": [
    "num = 10\n",
    "if num > 10:\n",
    "    print('something')"
   ]
  },
  {
   "cell_type": "code",
   "execution_count": 3,
   "id": "4887acd3",
   "metadata": {},
   "outputs": [
    {
     "data": {
      "text/plain": [
       "[10, 20, 30, 40, 50]"
      ]
     },
     "execution_count": 3,
     "metadata": {},
     "output_type": "execute_result"
    }
   ],
   "source": [
    "l1 = list(range(10, 51, 10))\n",
    "l1"
   ]
  },
  {
   "cell_type": "code",
   "execution_count": 1,
   "id": "c9bcde80",
   "metadata": {},
   "outputs": [
    {
     "name": "stdout",
     "output_type": "stream",
     "text": [
      "Object `l1.append` not found.\n"
     ]
    }
   ],
   "source": [
    "l1.append?"
   ]
  },
  {
   "cell_type": "code",
   "execution_count": 5,
   "id": "df5c827c",
   "metadata": {},
   "outputs": [],
   "source": [
    "l1.append(60)"
   ]
  },
  {
   "cell_type": "code",
   "execution_count": 7,
   "id": "100df0a6",
   "metadata": {},
   "outputs": [
    {
     "data": {
      "text/plain": [
       "[10, 20, 30, 40, 50, 60]"
      ]
     },
     "execution_count": 7,
     "metadata": {},
     "output_type": "execute_result"
    }
   ],
   "source": [
    "l1"
   ]
  },
  {
   "cell_type": "code",
   "execution_count": 2,
   "id": "5fef788a",
   "metadata": {},
   "outputs": [],
   "source": [
    "l2 = [1, 2, 3]"
   ]
  },
  {
   "cell_type": "code",
   "execution_count": 9,
   "id": "8b941341",
   "metadata": {},
   "outputs": [],
   "source": [
    "l1.append( l2 )"
   ]
  },
  {
   "cell_type": "code",
   "execution_count": 10,
   "id": "3bb67ccc",
   "metadata": {},
   "outputs": [
    {
     "data": {
      "text/plain": [
       "[10, 20, 30, 40, 50, 60, [1, 2, 3]]"
      ]
     },
     "execution_count": 10,
     "metadata": {},
     "output_type": "execute_result"
    }
   ],
   "source": [
    "l1"
   ]
  },
  {
   "cell_type": "code",
   "execution_count": 3,
   "id": "f58c48c4",
   "metadata": {},
   "outputs": [
    {
     "name": "stdout",
     "output_type": "stream",
     "text": [
      "Object `l1.extend` not found.\n"
     ]
    }
   ],
   "source": [
    "l1.extend?"
   ]
  },
  {
   "cell_type": "code",
   "execution_count": 4,
   "id": "e7187b73",
   "metadata": {},
   "outputs": [
    {
     "name": "stdout",
     "output_type": "stream",
     "text": [
      "Object `l1.extend` not found.\n"
     ]
    }
   ],
   "source": [
    "l1.extend?"
   ]
  },
  {
   "cell_type": "code",
   "execution_count": 13,
   "id": "da3bfa39",
   "metadata": {},
   "outputs": [
    {
     "data": {
      "text/plain": [
       "[10, 20, 30, 40, 50, 60, [1, 2, 3]]"
      ]
     },
     "execution_count": 13,
     "metadata": {},
     "output_type": "execute_result"
    }
   ],
   "source": [
    "l1"
   ]
  },
  {
   "cell_type": "code",
   "execution_count": 14,
   "id": "2e39d0d3",
   "metadata": {},
   "outputs": [
    {
     "data": {
      "text/plain": [
       "[1, 2, 3]"
      ]
     },
     "execution_count": 14,
     "metadata": {},
     "output_type": "execute_result"
    }
   ],
   "source": [
    "l2"
   ]
  },
  {
   "cell_type": "code",
   "execution_count": 15,
   "id": "b43e32ca",
   "metadata": {},
   "outputs": [],
   "source": [
    "l1.extend( l2 )"
   ]
  },
  {
   "cell_type": "code",
   "execution_count": 16,
   "id": "0003b8cf",
   "metadata": {},
   "outputs": [
    {
     "data": {
      "text/plain": [
       "[10, 20, 30, 40, 50, 60, [1, 2, 3], 1, 2, 3]"
      ]
     },
     "execution_count": 16,
     "metadata": {},
     "output_type": "execute_result"
    }
   ],
   "source": [
    "l1"
   ]
  },
  {
   "cell_type": "code",
   "execution_count": 17,
   "id": "0087fcdc",
   "metadata": {},
   "outputs": [],
   "source": [
    "l1.insert?"
   ]
  },
  {
   "cell_type": "code",
   "execution_count": 18,
   "id": "8961d0fe",
   "metadata": {},
   "outputs": [],
   "source": [
    "l1.insert( 0, -1 )"
   ]
  },
  {
   "cell_type": "code",
   "execution_count": 19,
   "id": "8ae7845e",
   "metadata": {},
   "outputs": [
    {
     "data": {
      "text/plain": [
       "[-1, 10, 20, 30, 40, 50, 60, [1, 2, 3], 1, 2, 3]"
      ]
     },
     "execution_count": 19,
     "metadata": {},
     "output_type": "execute_result"
    }
   ],
   "source": [
    "l1"
   ]
  },
  {
   "cell_type": "code",
   "execution_count": 20,
   "id": "c7e0623e",
   "metadata": {},
   "outputs": [],
   "source": [
    "l1.insert(4, -10)"
   ]
  },
  {
   "cell_type": "code",
   "execution_count": 21,
   "id": "fbee4bd4",
   "metadata": {},
   "outputs": [
    {
     "data": {
      "text/plain": [
       "[-1, 10, 20, 30, -10, 40, 50, 60, [1, 2, 3], 1, 2, 3]"
      ]
     },
     "execution_count": 21,
     "metadata": {},
     "output_type": "execute_result"
    }
   ],
   "source": [
    "l1"
   ]
  },
  {
   "cell_type": "code",
   "execution_count": 22,
   "id": "e939a1a9",
   "metadata": {},
   "outputs": [
    {
     "data": {
      "text/plain": [
       "[1, 2, 3]"
      ]
     },
     "execution_count": 22,
     "metadata": {},
     "output_type": "execute_result"
    }
   ],
   "source": [
    "l2"
   ]
  },
  {
   "cell_type": "code",
   "execution_count": 23,
   "id": "e95b862d",
   "metadata": {},
   "outputs": [],
   "source": [
    "l2.extend( (10, 20, 30, 40) )"
   ]
  },
  {
   "cell_type": "code",
   "execution_count": 24,
   "id": "cafcdcf8",
   "metadata": {},
   "outputs": [
    {
     "data": {
      "text/plain": [
       "[1, 2, 3, 10, 20, 30, 40]"
      ]
     },
     "execution_count": 24,
     "metadata": {},
     "output_type": "execute_result"
    }
   ],
   "source": [
    "l2"
   ]
  },
  {
   "cell_type": "code",
   "execution_count": null,
   "id": "2f640912",
   "metadata": {},
   "outputs": [],
   "source": [
    "l2.append((10, 20, 30, 40))"
   ]
  },
  {
   "cell_type": "code",
   "execution_count": 26,
   "id": "1bc9b906",
   "metadata": {},
   "outputs": [
    {
     "data": {
      "text/plain": [
       "[1, 2, 3, 10, 20, 30, 40, (10, 20, 30, 40)]"
      ]
     },
     "execution_count": 26,
     "metadata": {},
     "output_type": "execute_result"
    }
   ],
   "source": [
    "l2"
   ]
  },
  {
   "cell_type": "code",
   "execution_count": 27,
   "id": "bf05c0d7",
   "metadata": {},
   "outputs": [
    {
     "data": {
      "text/plain": [
       "8"
      ]
     },
     "execution_count": 27,
     "metadata": {},
     "output_type": "execute_result"
    }
   ],
   "source": [
    "len(l2)"
   ]
  },
  {
   "cell_type": "code",
   "execution_count": null,
   "id": "cab9cd58",
   "metadata": {},
   "outputs": [],
   "source": [
    "t1 = (1, 2, 3, 4)"
   ]
  },
  {
   "cell_type": "code",
   "execution_count": null,
   "id": "c3fa9c37",
   "metadata": {},
   "outputs": [],
   "source": [
    "l1.append( t1 )"
   ]
  },
  {
   "cell_type": "code",
   "execution_count": 32,
   "id": "1d39df31",
   "metadata": {},
   "outputs": [
    {
     "data": {
      "text/plain": [
       "[-1,\n",
       " 10,\n",
       " 20,\n",
       " 30,\n",
       " -10,\n",
       " 40,\n",
       " 50,\n",
       " 60,\n",
       " [1, 2, 3, 10, 20, 30, 40, (10, 20, 30, 40)],\n",
       " 1,\n",
       " 2,\n",
       " 3]"
      ]
     },
     "execution_count": 32,
     "metadata": {},
     "output_type": "execute_result"
    }
   ],
   "source": [
    "l1"
   ]
  },
  {
   "cell_type": "code",
   "execution_count": 6,
   "id": "67e28f1d",
   "metadata": {},
   "outputs": [
    {
     "ename": "NameError",
     "evalue": "name 'l1' is not defined",
     "output_type": "error",
     "traceback": [
      "\u001b[1;31m---------------------------------------------------------------------------\u001b[0m",
      "\u001b[1;31mNameError\u001b[0m                                 Traceback (most recent call last)",
      "\u001b[1;32mC:\\Users\\DEEPAK~1\\AppData\\Local\\Temp/ipykernel_15160/3995646210.py\u001b[0m in \u001b[0;36m<module>\u001b[1;34m\u001b[0m\n\u001b[1;32m----> 1\u001b[1;33m \u001b[0mprint\u001b[0m\u001b[1;33m(\u001b[0m\u001b[0ml1\u001b[0m\u001b[1;33m)\u001b[0m\u001b[1;33m\u001b[0m\u001b[1;33m\u001b[0m\u001b[0m\n\u001b[0m",
      "\u001b[1;31mNameError\u001b[0m: name 'l1' is not defined"
     ]
    }
   ],
   "source": [
    "print(l1)"
   ]
  },
  {
   "cell_type": "code",
   "execution_count": 31,
   "id": "c89a8ad1",
   "metadata": {},
   "outputs": [
    {
     "name": "stdout",
     "output_type": "stream",
     "text": [
      "[-1, 10, 20, 30, -10, 40, 50, 60, [1, 2, 3, 10, 20, 30, 40, (10, 20, 30, 40)], 1, 2, 3]\n"
     ]
    }
   ],
   "source": [
    "print( l1 )"
   ]
  },
  {
   "cell_type": "code",
   "execution_count": 1,
   "id": "2e9673e4",
   "metadata": {},
   "outputs": [
    {
     "name": "stdout",
     "output_type": "stream",
     "text": [
      "Object `l1.remove` not found.\n"
     ]
    }
   ],
   "source": [
    "l1.remove?"
   ]
  },
  {
   "cell_type": "code",
   "execution_count": 4,
   "id": "54960aa3",
   "metadata": {},
   "outputs": [
    {
     "name": "stdout",
     "output_type": "stream",
     "text": [
      "Object `l1.pop` not found.\n"
     ]
    }
   ],
   "source": [
    "l1.pop?"
   ]
  },
  {
   "cell_type": "code",
   "execution_count": 36,
   "id": "437b52a0",
   "metadata": {},
   "outputs": [
    {
     "data": {
      "text/plain": [
       "[1, 2, 3, 10, 20, 30, 40, (10, 20, 30, 40)]"
      ]
     },
     "execution_count": 36,
     "metadata": {},
     "output_type": "execute_result"
    }
   ],
   "source": [
    "l1.pop( 8 )"
   ]
  },
  {
   "cell_type": "code",
   "execution_count": 37,
   "id": "98568c3b",
   "metadata": {},
   "outputs": [
    {
     "data": {
      "text/plain": [
       "[-1, 10, 20, 30, -10, 40, 50, 60, 1, 2, 3]"
      ]
     },
     "execution_count": 37,
     "metadata": {},
     "output_type": "execute_result"
    }
   ],
   "source": [
    "l1"
   ]
  },
  {
   "cell_type": "code",
   "execution_count": 38,
   "id": "dfb7d760",
   "metadata": {},
   "outputs": [
    {
     "data": {
      "text/plain": [
       "3"
      ]
     },
     "execution_count": 38,
     "metadata": {},
     "output_type": "execute_result"
    }
   ],
   "source": [
    "l1.pop(-1)"
   ]
  },
  {
   "cell_type": "code",
   "execution_count": 39,
   "id": "ac43fb91",
   "metadata": {},
   "outputs": [
    {
     "data": {
      "text/plain": [
       "[-1, 10, 20, 30, -10, 40, 50, 60, 1, 2]"
      ]
     },
     "execution_count": 39,
     "metadata": {},
     "output_type": "execute_result"
    }
   ],
   "source": [
    "l1"
   ]
  },
  {
   "cell_type": "code",
   "execution_count": 40,
   "id": "d7db6c98",
   "metadata": {},
   "outputs": [
    {
     "data": {
      "text/plain": [
       "[1, 2, 3, 10, 20, 30, 40, (10, 20, 30, 40)]"
      ]
     },
     "execution_count": 40,
     "metadata": {},
     "output_type": "execute_result"
    }
   ],
   "source": [
    "l2"
   ]
  },
  {
   "cell_type": "code",
   "execution_count": 41,
   "id": "fac71532",
   "metadata": {},
   "outputs": [],
   "source": [
    "l3 = [1, 2, 3, 2, 1, 3, 4, 4, 5, 5, 5, 6]"
   ]
  },
  {
   "cell_type": "code",
   "execution_count": 42,
   "id": "6a383227",
   "metadata": {},
   "outputs": [
    {
     "data": {
      "text/plain": [
       "[1, 2, 3, 2, 1, 3, 4, 4, 5, 5, 5, 6]"
      ]
     },
     "execution_count": 42,
     "metadata": {},
     "output_type": "execute_result"
    }
   ],
   "source": [
    "l3"
   ]
  },
  {
   "cell_type": "code",
   "execution_count": 43,
   "id": "b258e586",
   "metadata": {},
   "outputs": [],
   "source": [
    "l3.remove(3)"
   ]
  },
  {
   "cell_type": "code",
   "execution_count": 44,
   "id": "d9ea3218",
   "metadata": {},
   "outputs": [
    {
     "data": {
      "text/plain": [
       "[1, 2, 2, 1, 3, 4, 4, 5, 5, 5, 6]"
      ]
     },
     "execution_count": 44,
     "metadata": {},
     "output_type": "execute_result"
    }
   ],
   "source": [
    "l3"
   ]
  },
  {
   "cell_type": "code",
   "execution_count": 46,
   "id": "7d8e853f",
   "metadata": {},
   "outputs": [],
   "source": [
    "l3.clear()"
   ]
  },
  {
   "cell_type": "code",
   "execution_count": 47,
   "id": "d05ff16c",
   "metadata": {},
   "outputs": [
    {
     "data": {
      "text/plain": [
       "[]"
      ]
     },
     "execution_count": 47,
     "metadata": {},
     "output_type": "execute_result"
    }
   ],
   "source": [
    "l3"
   ]
  },
  {
   "cell_type": "code",
   "execution_count": 50,
   "id": "cf5c6914",
   "metadata": {},
   "outputs": [],
   "source": [
    "l3 = [1, 2, 3, 2, 1, 3, 4, 4, 5, 5, 5, 6]"
   ]
  },
  {
   "cell_type": "code",
   "execution_count": 51,
   "id": "263a529b",
   "metadata": {},
   "outputs": [],
   "source": [
    "l3.reverse()"
   ]
  },
  {
   "cell_type": "code",
   "execution_count": 52,
   "id": "02a82872",
   "metadata": {},
   "outputs": [
    {
     "data": {
      "text/plain": [
       "[6, 5, 5, 5, 4, 4, 3, 1, 2, 3, 2, 1]"
      ]
     },
     "execution_count": 52,
     "metadata": {},
     "output_type": "execute_result"
    }
   ],
   "source": [
    "l3"
   ]
  },
  {
   "cell_type": "code",
   "execution_count": 53,
   "id": "21ee7abe",
   "metadata": {},
   "outputs": [
    {
     "data": {
      "text/plain": [
       "[1, 2, 3, 2, 1, 3, 4, 4, 5, 5, 5, 6]"
      ]
     },
     "execution_count": 53,
     "metadata": {},
     "output_type": "execute_result"
    }
   ],
   "source": [
    "l3[::-1]"
   ]
  },
  {
   "cell_type": "code",
   "execution_count": 54,
   "id": "47c92b2a",
   "metadata": {},
   "outputs": [
    {
     "data": {
      "text/plain": [
       "[6, 5, 5, 5, 4, 4, 3, 1, 2, 3, 2, 1]"
      ]
     },
     "execution_count": 54,
     "metadata": {},
     "output_type": "execute_result"
    }
   ],
   "source": [
    "l3"
   ]
  },
  {
   "cell_type": "code",
   "execution_count": 55,
   "id": "dd4d27c9",
   "metadata": {},
   "outputs": [],
   "source": [
    "l3.sort()"
   ]
  },
  {
   "cell_type": "code",
   "execution_count": 56,
   "id": "d02a12d9",
   "metadata": {},
   "outputs": [
    {
     "data": {
      "text/plain": [
       "[1, 1, 2, 2, 3, 3, 4, 4, 5, 5, 5, 6]"
      ]
     },
     "execution_count": 56,
     "metadata": {},
     "output_type": "execute_result"
    }
   ],
   "source": [
    "l3"
   ]
  },
  {
   "cell_type": "code",
   "execution_count": 57,
   "id": "d25d8acd",
   "metadata": {},
   "outputs": [],
   "source": [
    "l3.sort(reverse=True)"
   ]
  },
  {
   "cell_type": "code",
   "execution_count": 58,
   "id": "d6ea52d4",
   "metadata": {},
   "outputs": [
    {
     "data": {
      "text/plain": [
       "[6, 5, 5, 5, 4, 4, 3, 3, 2, 2, 1, 1]"
      ]
     },
     "execution_count": 58,
     "metadata": {},
     "output_type": "execute_result"
    }
   ],
   "source": [
    "l3"
   ]
  },
  {
   "cell_type": "code",
   "execution_count": 59,
   "id": "b4239ad9",
   "metadata": {},
   "outputs": [],
   "source": [
    "l4 = [10, 20, 30, 40, 50]"
   ]
  },
  {
   "cell_type": "code",
   "execution_count": 60,
   "id": "818b1874",
   "metadata": {},
   "outputs": [
    {
     "data": {
      "text/plain": [
       "[10, 20, 30, 40, 50]"
      ]
     },
     "execution_count": 60,
     "metadata": {},
     "output_type": "execute_result"
    }
   ],
   "source": [
    "l4"
   ]
  },
  {
   "cell_type": "code",
   "execution_count": 61,
   "id": "a2e3e001",
   "metadata": {},
   "outputs": [
    {
     "data": {
      "text/plain": [
       "1945105883328"
      ]
     },
     "execution_count": 61,
     "metadata": {},
     "output_type": "execute_result"
    }
   ],
   "source": [
    "id(l4)"
   ]
  },
  {
   "cell_type": "code",
   "execution_count": 62,
   "id": "c921f1e2",
   "metadata": {},
   "outputs": [],
   "source": [
    "l5 = l4"
   ]
  },
  {
   "cell_type": "code",
   "execution_count": 63,
   "id": "5df98926",
   "metadata": {},
   "outputs": [
    {
     "data": {
      "text/plain": [
       "[10, 20, 30, 40, 50]"
      ]
     },
     "execution_count": 63,
     "metadata": {},
     "output_type": "execute_result"
    }
   ],
   "source": [
    "l5"
   ]
  },
  {
   "cell_type": "code",
   "execution_count": 64,
   "id": "a8ad3c99",
   "metadata": {},
   "outputs": [],
   "source": [
    "l5[2] = -1"
   ]
  },
  {
   "cell_type": "code",
   "execution_count": 65,
   "id": "a1faa0e6",
   "metadata": {},
   "outputs": [
    {
     "data": {
      "text/plain": [
       "[10, 20, -1, 40, 50]"
      ]
     },
     "execution_count": 65,
     "metadata": {},
     "output_type": "execute_result"
    }
   ],
   "source": [
    "l5"
   ]
  },
  {
   "cell_type": "code",
   "execution_count": 66,
   "id": "ded1dcc1",
   "metadata": {},
   "outputs": [
    {
     "data": {
      "text/plain": [
       "[10, 20, -1, 40, 50]"
      ]
     },
     "execution_count": 66,
     "metadata": {},
     "output_type": "execute_result"
    }
   ],
   "source": [
    "l4"
   ]
  },
  {
   "cell_type": "code",
   "execution_count": 67,
   "id": "c1853aa4",
   "metadata": {},
   "outputs": [
    {
     "data": {
      "text/plain": [
       "1945105883328"
      ]
     },
     "execution_count": 67,
     "metadata": {},
     "output_type": "execute_result"
    }
   ],
   "source": [
    "id(l5)"
   ]
  },
  {
   "cell_type": "code",
   "execution_count": null,
   "id": "9a0c48fc",
   "metadata": {},
   "outputs": [],
   "source": [
    "pass a reference\n",
    "pass a value"
   ]
  },
  {
   "cell_type": "code",
   "execution_count": 68,
   "id": "d063d884",
   "metadata": {},
   "outputs": [],
   "source": [
    "l6 = l4.copy()"
   ]
  },
  {
   "cell_type": "code",
   "execution_count": 69,
   "id": "053590ad",
   "metadata": {},
   "outputs": [
    {
     "data": {
      "text/plain": [
       "[10, 20, -1, 40, 50]"
      ]
     },
     "execution_count": 69,
     "metadata": {},
     "output_type": "execute_result"
    }
   ],
   "source": [
    "l6"
   ]
  },
  {
   "cell_type": "code",
   "execution_count": 70,
   "id": "7d2553e2",
   "metadata": {},
   "outputs": [
    {
     "data": {
      "text/plain": [
       "1945090042560"
      ]
     },
     "execution_count": 70,
     "metadata": {},
     "output_type": "execute_result"
    }
   ],
   "source": [
    "id(l6)"
   ]
  },
  {
   "cell_type": "code",
   "execution_count": null,
   "id": "cad83818",
   "metadata": {},
   "outputs": [],
   "source": [
    "l4, l5, l6"
   ]
  },
  {
   "cell_type": "markdown",
   "id": "95261b28",
   "metadata": {},
   "source": [
    "##### mathematical operations"
   ]
  },
  {
   "cell_type": "code",
   "execution_count": 72,
   "id": "2ad28978",
   "metadata": {},
   "outputs": [
    {
     "data": {
      "text/plain": [
       "[10, 20, -1, 40, 50]"
      ]
     },
     "execution_count": 72,
     "metadata": {},
     "output_type": "execute_result"
    }
   ],
   "source": [
    "l6"
   ]
  },
  {
   "cell_type": "code",
   "execution_count": 73,
   "id": "a95f5921",
   "metadata": {},
   "outputs": [
    {
     "ename": "TypeError",
     "evalue": "can only concatenate list (not \"int\") to list",
     "output_type": "error",
     "traceback": [
      "\u001b[1;31m---------------------------------------------------------------------------\u001b[0m",
      "\u001b[1;31mTypeError\u001b[0m                                 Traceback (most recent call last)",
      "\u001b[1;32m<ipython-input-73-d5501daf6084>\u001b[0m in \u001b[0;36m<module>\u001b[1;34m\u001b[0m\n\u001b[1;32m----> 1\u001b[1;33m \u001b[0ml6\u001b[0m \u001b[1;33m+\u001b[0m \u001b[1;36m10\u001b[0m\u001b[1;33m\u001b[0m\u001b[1;33m\u001b[0m\u001b[0m\n\u001b[0m",
      "\u001b[1;31mTypeError\u001b[0m: can only concatenate list (not \"int\") to list"
     ]
    }
   ],
   "source": [
    "l6 + 10    # not possible bcoz broadcasting is not possible"
   ]
  },
  {
   "cell_type": "code",
   "execution_count": 92,
   "id": "f5a5aa50",
   "metadata": {},
   "outputs": [],
   "source": [
    "l7 = list(range(10, 51, 10))"
   ]
  },
  {
   "cell_type": "code",
   "execution_count": 93,
   "id": "d3c2a800",
   "metadata": {},
   "outputs": [
    {
     "data": {
      "text/plain": [
       "[10, 20, 30, 40, 50]"
      ]
     },
     "execution_count": 93,
     "metadata": {},
     "output_type": "execute_result"
    }
   ],
   "source": [
    "l7"
   ]
  },
  {
   "cell_type": "code",
   "execution_count": null,
   "id": "47ca179c",
   "metadata": {},
   "outputs": [],
   "source": [
    "# Q1: print all the values of list l7"
   ]
  },
  {
   "cell_type": "code",
   "execution_count": 82,
   "id": "19fbef49",
   "metadata": {},
   "outputs": [
    {
     "name": "stdout",
     "output_type": "stream",
     "text": [
      "10\n",
      "20\n",
      "30\n",
      "40\n",
      "50\n"
     ]
    }
   ],
   "source": [
    "# iterating on the values of iterable\n",
    "for i in l7:     #[10, 20, 30, 40, 50]\n",
    "    print( i )"
   ]
  },
  {
   "cell_type": "code",
   "execution_count": 80,
   "id": "7cce0754",
   "metadata": {},
   "outputs": [
    {
     "name": "stdout",
     "output_type": "stream",
     "text": [
      "10\n",
      "20\n",
      "30\n",
      "40\n",
      "50\n"
     ]
    }
   ],
   "source": [
    "# print( l7[0] )\n",
    "# print( l7[1] )\n",
    "# ...\n",
    "# print( l7[4] )\n",
    "\n",
    "# iterating on the position of the values of iterable\n",
    "for i in range( len(l7) ):\n",
    "    print( l7[i] )"
   ]
  },
  {
   "cell_type": "code",
   "execution_count": null,
   "id": "e780e0c6",
   "metadata": {},
   "outputs": [],
   "source": [
    "# Q2: print all the values of list l7 after adding 100 to each item"
   ]
  },
  {
   "cell_type": "code",
   "execution_count": 84,
   "id": "6c74cba5",
   "metadata": {},
   "outputs": [
    {
     "name": "stdout",
     "output_type": "stream",
     "text": [
      "110\n",
      "120\n",
      "130\n",
      "140\n",
      "150\n"
     ]
    }
   ],
   "source": [
    "for var in l7:\n",
    "    print( var + 100 )"
   ]
  },
  {
   "cell_type": "code",
   "execution_count": 85,
   "id": "d311411e",
   "metadata": {},
   "outputs": [
    {
     "name": "stdout",
     "output_type": "stream",
     "text": [
      "110\n",
      "120\n",
      "130\n",
      "140\n",
      "150\n"
     ]
    }
   ],
   "source": [
    "for var in range(len(l7)):\n",
    "    print( l7[var] + 100 )"
   ]
  },
  {
   "cell_type": "code",
   "execution_count": null,
   "id": "682a3cb3",
   "metadata": {},
   "outputs": [],
   "source": [
    "#Q3: update the data in the list l7 after adding 100 to each item"
   ]
  },
  {
   "cell_type": "code",
   "execution_count": 86,
   "id": "e8fb58da",
   "metadata": {},
   "outputs": [
    {
     "data": {
      "text/plain": [
       "[10, 20, 30, 40, 50]"
      ]
     },
     "execution_count": 86,
     "metadata": {},
     "output_type": "execute_result"
    }
   ],
   "source": [
    "l7"
   ]
  },
  {
   "cell_type": "code",
   "execution_count": 95,
   "id": "3103ff95",
   "metadata": {},
   "outputs": [
    {
     "data": {
      "text/plain": [
       "[210, 220, 230, 240, 250]"
      ]
     },
     "execution_count": 95,
     "metadata": {},
     "output_type": "execute_result"
    }
   ],
   "source": [
    "for var in range(len(l7)):\n",
    "    l7[var] = l7[var] + 100    # l7[var] += 100\n",
    "l7"
   ]
  },
  {
   "cell_type": "code",
   "execution_count": 90,
   "id": "ed22c9cb",
   "metadata": {},
   "outputs": [],
   "source": [
    "#Q4: create a new list l8 after adding 100 to each item of l7"
   ]
  },
  {
   "cell_type": "code",
   "execution_count": 102,
   "id": "69f57991",
   "metadata": {},
   "outputs": [],
   "source": [
    "l7 = [10, 20, 30, 40, 50]"
   ]
  },
  {
   "cell_type": "code",
   "execution_count": 103,
   "id": "0975408b",
   "metadata": {},
   "outputs": [],
   "source": [
    "l8 = []\n",
    "for var in range(len(l7)):\n",
    "    l8.append( l7[var] + 100 )"
   ]
  },
  {
   "cell_type": "code",
   "execution_count": 104,
   "id": "d46ed700",
   "metadata": {},
   "outputs": [
    {
     "data": {
      "text/plain": [
       "[10, 20, 30, 40, 50]"
      ]
     },
     "execution_count": 104,
     "metadata": {},
     "output_type": "execute_result"
    }
   ],
   "source": [
    "l7"
   ]
  },
  {
   "cell_type": "code",
   "execution_count": 105,
   "id": "2629a2d0",
   "metadata": {},
   "outputs": [
    {
     "data": {
      "text/plain": [
       "[110, 120, 130, 140, 150]"
      ]
     },
     "execution_count": 105,
     "metadata": {},
     "output_type": "execute_result"
    }
   ],
   "source": [
    "l8"
   ]
  },
  {
   "cell_type": "code",
   "execution_count": 106,
   "id": "99240e6f",
   "metadata": {},
   "outputs": [],
   "source": [
    "l9 = []\n",
    "for var in l7:\n",
    "    l9.append( var )"
   ]
  },
  {
   "cell_type": "code",
   "execution_count": 107,
   "id": "7b469da6",
   "metadata": {},
   "outputs": [
    {
     "data": {
      "text/plain": [
       "[10, 20, 30, 40, 50]"
      ]
     },
     "execution_count": 107,
     "metadata": {},
     "output_type": "execute_result"
    }
   ],
   "source": [
    "l7"
   ]
  },
  {
   "cell_type": "code",
   "execution_count": 108,
   "id": "6aee3a92",
   "metadata": {},
   "outputs": [
    {
     "data": {
      "text/plain": [
       "[10, 20, 30, 40, 50]"
      ]
     },
     "execution_count": 108,
     "metadata": {},
     "output_type": "execute_result"
    }
   ],
   "source": [
    "l9"
   ]
  },
  {
   "cell_type": "code",
   "execution_count": 110,
   "id": "f7ef1afe",
   "metadata": {},
   "outputs": [],
   "source": [
    "#Q5: create a new list l11 with the odd data from l10\n",
    "l10 = [1, 2, 3, 4, 5, 4, 3, 2, 1, 2, 3, 5, 1]"
   ]
  },
  {
   "cell_type": "code",
   "execution_count": 111,
   "id": "9e35fe9a",
   "metadata": {},
   "outputs": [
    {
     "name": "stdout",
     "output_type": "stream",
     "text": [
      "[1, 2, 3, 4, 5, 4, 3, 2, 1, 2, 3, 5, 1]\n",
      "[1, 3, 5, 3, 1, 3, 5, 1]\n"
     ]
    }
   ],
   "source": [
    "# indexing / condition checking\n",
    "l11 = []\n",
    "for var in l10:\n",
    "    if var % 2 != 0:\n",
    "        l11.append( var )\n",
    "        \n",
    "print(l10)\n",
    "print(l11)"
   ]
  },
  {
   "cell_type": "code",
   "execution_count": null,
   "id": "b5aecc11",
   "metadata": {},
   "outputs": [],
   "source": [
    "#Q6: create a new list l12 with even numbers from l10 after adding 100 to all the even numbers"
   ]
  },
  {
   "cell_type": "code",
   "execution_count": 112,
   "id": "4a2a970a",
   "metadata": {},
   "outputs": [
    {
     "name": "stdout",
     "output_type": "stream",
     "text": [
      "[1, 2, 3, 4, 5, 4, 3, 2, 1, 2, 3, 5, 1]\n",
      "[102, 104, 104, 102, 102]\n"
     ]
    }
   ],
   "source": [
    "# indexing and mathematical operations\n",
    "l12 = []\n",
    "for var in l10:\n",
    "    if var % 2 == 0:\n",
    "        l12.append( var + 100 )\n",
    "        \n",
    "print(l10)\n",
    "print(l12)"
   ]
  },
  {
   "cell_type": "markdown",
   "id": "4e190991",
   "metadata": {},
   "source": [
    "#### list comprehensions"
   ]
  },
  {
   "cell_type": "markdown",
   "id": "3df2eefc",
   "metadata": {},
   "source": [
    "single line for loop"
   ]
  },
  {
   "cell_type": "raw",
   "id": "593447b4",
   "metadata": {},
   "source": [
    "syntax:\n",
    "    \n",
    "[    var            for var in iterable    if      condition/s on var ]\n",
    "  mathematical                                         indexing\n",
    "   operations"
   ]
  },
  {
   "cell_type": "code",
   "execution_count": 113,
   "id": "895a9c11",
   "metadata": {},
   "outputs": [
    {
     "data": {
      "text/plain": [
       "[1, 2, 3, 4, 5, 4, 3, 2, 1, 2, 3, 5, 1]"
      ]
     },
     "execution_count": 113,
     "metadata": {},
     "output_type": "execute_result"
    }
   ],
   "source": [
    "l10"
   ]
  },
  {
   "cell_type": "code",
   "execution_count": 114,
   "id": "30208f4b",
   "metadata": {},
   "outputs": [
    {
     "data": {
      "text/plain": [
       "[1, 2, 3, 4, 5, 4, 3, 2, 1, 2, 3, 5, 1]"
      ]
     },
     "execution_count": 114,
     "metadata": {},
     "output_type": "execute_result"
    }
   ],
   "source": [
    "[ var for var in l10 ]"
   ]
  },
  {
   "cell_type": "code",
   "execution_count": 116,
   "id": "b291f3f5",
   "metadata": {},
   "outputs": [],
   "source": [
    "l13 = [ var + 100 for var in l10 ]"
   ]
  },
  {
   "cell_type": "code",
   "execution_count": 117,
   "id": "39af981c",
   "metadata": {},
   "outputs": [
    {
     "data": {
      "text/plain": [
       "[101, 102, 103, 104, 105, 104, 103, 102, 101, 102, 103, 105, 101]"
      ]
     },
     "execution_count": 117,
     "metadata": {},
     "output_type": "execute_result"
    }
   ],
   "source": [
    "l13"
   ]
  },
  {
   "cell_type": "code",
   "execution_count": 118,
   "id": "d3f05729",
   "metadata": {},
   "outputs": [
    {
     "data": {
      "text/plain": [
       "[1, 3, 5, 3, 1, 3, 5, 1]"
      ]
     },
     "execution_count": 118,
     "metadata": {},
     "output_type": "execute_result"
    }
   ],
   "source": [
    "[ var for var in l10 if var % 2 != 0 ]"
   ]
  },
  {
   "cell_type": "code",
   "execution_count": 119,
   "id": "6f659758",
   "metadata": {},
   "outputs": [
    {
     "data": {
      "text/plain": [
       "[102, 104, 104, 102, 102]"
      ]
     },
     "execution_count": 119,
     "metadata": {},
     "output_type": "execute_result"
    }
   ],
   "source": [
    "[ var + 100 for var in l10 if var % 2 == 0 ]"
   ]
  },
  {
   "cell_type": "code",
   "execution_count": null,
   "id": "b8ef16c2",
   "metadata": {},
   "outputs": [],
   "source": [
    "# get the numbers LT 4 from l10. add 100 to odd numbers and 200 to even numbers"
   ]
  },
  {
   "cell_type": "code",
   "execution_count": 120,
   "id": "b25ef410",
   "metadata": {},
   "outputs": [
    {
     "data": {
      "text/plain": [
       "[1, 2, 3, 4, 5, 4, 3, 2, 1, 2, 3, 5, 1]"
      ]
     },
     "execution_count": 120,
     "metadata": {},
     "output_type": "execute_result"
    }
   ],
   "source": [
    "l10"
   ]
  },
  {
   "cell_type": "code",
   "execution_count": 123,
   "id": "b91c0e59",
   "metadata": {},
   "outputs": [
    {
     "name": "stdout",
     "output_type": "stream",
     "text": [
      "[101, 202, 103, 103, 202, 101, 202, 103, 101]\n"
     ]
    }
   ],
   "source": [
    "l15 = []\n",
    "for var in l10:\n",
    "    if var < 4:\n",
    "        if var % 2 != 0:\n",
    "            l15.append( var + 100 )\n",
    "        else:\n",
    "            l15.append( var + 200 )\n",
    "            \n",
    "print(l15)"
   ]
  },
  {
   "cell_type": "code",
   "execution_count": 125,
   "id": "8cb9d595",
   "metadata": {},
   "outputs": [
    {
     "data": {
      "text/plain": [
       "[11, 12, 13, 13, 12, 11, 12, 13, 11]"
      ]
     },
     "execution_count": 125,
     "metadata": {},
     "output_type": "execute_result"
    }
   ],
   "source": [
    "[var for var in l10 if var < 4 ]"
   ]
  },
  {
   "cell_type": "code",
   "execution_count": null,
   "id": "ff16c745",
   "metadata": {},
   "outputs": [],
   "source": [
    "var = 1\n",
    "var + 100 if var % 2 != 0 else var + 200"
   ]
  },
  {
   "cell_type": "code",
   "execution_count": 122,
   "id": "34cbcd49",
   "metadata": {},
   "outputs": [
    {
     "data": {
      "text/plain": [
       "[101, 202, 103, 103, 202, 101, 202, 103, 101]"
      ]
     },
     "execution_count": 122,
     "metadata": {},
     "output_type": "execute_result"
    }
   ],
   "source": [
    "[ var + 100 if var % 2 != 0 else var + 200 for var in l10 if var < 4 ]"
   ]
  },
  {
   "cell_type": "raw",
   "id": "c0e17290",
   "metadata": {},
   "source": [
    "data structures:\n",
    "attributes\n",
    "methods\n",
    "\n",
    "how we can perform the mathematical operations and/or indexing?\n",
    "broadcasting is not possible\n",
    "loops to get the things done\n",
    "list comprehensions"
   ]
  },
  {
   "cell_type": "markdown",
   "id": "c25a4c4b",
   "metadata": {},
   "source": [
    "### dict"
   ]
  },
  {
   "cell_type": "code",
   "execution_count": null,
   "id": "2f34c512",
   "metadata": {},
   "outputs": [],
   "source": [
    "l1 = [ val1, val2, val3, .... ]"
   ]
  },
  {
   "cell_type": "code",
   "execution_count": 135,
   "id": "7d0939f1",
   "metadata": {},
   "outputs": [],
   "source": [
    "l1 = [10, 20, 30, 40]\n",
    "t1 = (100, 200, 300)"
   ]
  },
  {
   "cell_type": "raw",
   "id": "0473c850",
   "metadata": {},
   "source": [
    "properties of dict:\n",
    "1. key value pairs\n",
    "2. keys can only be of IMMUTABLE type, values can be anything\n",
    "        **as a good practice, use keys as simple types (int, str) only\n",
    "3. keys should NOT be duplicated, otherwise in python we can have duplicate keys while dict creation\n",
    "\n",
    "d1 = { key1:val1, key2:val2, ...... }"
   ]
  },
  {
   "cell_type": "code",
   "execution_count": 126,
   "id": "72ab3228",
   "metadata": {},
   "outputs": [],
   "source": [
    "d1 = {}"
   ]
  },
  {
   "cell_type": "code",
   "execution_count": 127,
   "id": "09c3c373",
   "metadata": {},
   "outputs": [
    {
     "data": {
      "text/plain": [
       "dict"
      ]
     },
     "execution_count": 127,
     "metadata": {},
     "output_type": "execute_result"
    }
   ],
   "source": [
    "type(d1)"
   ]
  },
  {
   "cell_type": "code",
   "execution_count": 128,
   "id": "b1f56233",
   "metadata": {},
   "outputs": [
    {
     "data": {
      "text/plain": [
       "0"
      ]
     },
     "execution_count": 128,
     "metadata": {},
     "output_type": "execute_result"
    }
   ],
   "source": [
    "len(d1)"
   ]
  },
  {
   "cell_type": "code",
   "execution_count": 129,
   "id": "34147e22",
   "metadata": {},
   "outputs": [],
   "source": [
    "d2 = { 1:10, 2:20, 3:30, 4:40, 5:50 }"
   ]
  },
  {
   "cell_type": "code",
   "execution_count": 130,
   "id": "4ed5712d",
   "metadata": {},
   "outputs": [
    {
     "data": {
      "text/plain": [
       "{1: 10, 2: 20, 3: 30, 4: 40, 5: 50}"
      ]
     },
     "execution_count": 130,
     "metadata": {},
     "output_type": "execute_result"
    }
   ],
   "source": [
    "d2"
   ]
  },
  {
   "cell_type": "code",
   "execution_count": 131,
   "id": "6a52dc36",
   "metadata": {},
   "outputs": [
    {
     "name": "stdout",
     "output_type": "stream",
     "text": [
      "{1: 10, 2: 20, 3: 30, 4: 40, 5: 50}\n"
     ]
    }
   ],
   "source": [
    "print(d2)"
   ]
  },
  {
   "cell_type": "code",
   "execution_count": 138,
   "id": "c6e41656",
   "metadata": {},
   "outputs": [],
   "source": [
    "d3 = { 1:10, 2:10.5, 3:'Python', 4:l1, 5:d2, 6: t1 }"
   ]
  },
  {
   "cell_type": "code",
   "execution_count": 139,
   "id": "f237e919",
   "metadata": {},
   "outputs": [
    {
     "data": {
      "text/plain": [
       "{1: 10,\n",
       " 2: 10.5,\n",
       " 3: 'Python',\n",
       " 4: [10, 20, 30, 40],\n",
       " 5: {1: 10, 2: 20, 3: 30, 4: 40, 5: 50},\n",
       " 6: (100, 200, 300)}"
      ]
     },
     "execution_count": 139,
     "metadata": {},
     "output_type": "execute_result"
    }
   ],
   "source": [
    "d3"
   ]
  },
  {
   "cell_type": "code",
   "execution_count": 140,
   "id": "f906fc17",
   "metadata": {},
   "outputs": [],
   "source": [
    "d4 = { 1:10, 1.5: 20, 'Name': 'John', t1: l1 }"
   ]
  },
  {
   "cell_type": "code",
   "execution_count": 141,
   "id": "fbb209fa",
   "metadata": {},
   "outputs": [
    {
     "data": {
      "text/plain": [
       "{1: 10, 1.5: 20, 'Name': 'John', (100, 200, 300): [10, 20, 30, 40]}"
      ]
     },
     "execution_count": 141,
     "metadata": {},
     "output_type": "execute_result"
    }
   ],
   "source": [
    "d4"
   ]
  },
  {
   "cell_type": "code",
   "execution_count": 142,
   "id": "4751216f",
   "metadata": {},
   "outputs": [
    {
     "ename": "TypeError",
     "evalue": "unhashable type: 'list'",
     "output_type": "error",
     "traceback": [
      "\u001b[1;31m---------------------------------------------------------------------------\u001b[0m",
      "\u001b[1;31mTypeError\u001b[0m                                 Traceback (most recent call last)",
      "\u001b[1;32m<ipython-input-142-26a359357bbf>\u001b[0m in \u001b[0;36m<module>\u001b[1;34m\u001b[0m\n\u001b[1;32m----> 1\u001b[1;33m \u001b[0md5\u001b[0m \u001b[1;33m=\u001b[0m \u001b[1;33m{\u001b[0m \u001b[1;36m1\u001b[0m\u001b[1;33m:\u001b[0m\u001b[1;36m10\u001b[0m\u001b[1;33m,\u001b[0m \u001b[1;36m1.5\u001b[0m\u001b[1;33m:\u001b[0m \u001b[1;36m20\u001b[0m\u001b[1;33m,\u001b[0m \u001b[1;34m'Name'\u001b[0m\u001b[1;33m:\u001b[0m \u001b[1;34m'John'\u001b[0m\u001b[1;33m,\u001b[0m \u001b[0mt1\u001b[0m\u001b[1;33m:\u001b[0m \u001b[0ml1\u001b[0m\u001b[1;33m,\u001b[0m \u001b[0ml2\u001b[0m\u001b[1;33m:\u001b[0m \u001b[0mt1\u001b[0m \u001b[1;33m}\u001b[0m\u001b[1;33m\u001b[0m\u001b[1;33m\u001b[0m\u001b[0m\n\u001b[0m",
      "\u001b[1;31mTypeError\u001b[0m: unhashable type: 'list'"
     ]
    }
   ],
   "source": [
    "d5 = { 1:10, 1.5: 20, 'Name': 'John', t1: l1, l2: t1 }"
   ]
  },
  {
   "cell_type": "code",
   "execution_count": 143,
   "id": "0545b5ac",
   "metadata": {},
   "outputs": [],
   "source": [
    "d6 = { 1:10, 2:20, 1:30, 4:40 }"
   ]
  },
  {
   "cell_type": "code",
   "execution_count": 144,
   "id": "7c14ed37",
   "metadata": {},
   "outputs": [
    {
     "data": {
      "text/plain": [
       "{1: 30, 2: 20, 4: 40}"
      ]
     },
     "execution_count": 144,
     "metadata": {},
     "output_type": "execute_result"
    }
   ],
   "source": [
    "d6"
   ]
  },
  {
   "cell_type": "code",
   "execution_count": 145,
   "id": "8db6e097",
   "metadata": {},
   "outputs": [
    {
     "data": {
      "text/plain": [
       "{1: 10, 2: 20, 3: 30, 4: 40, 5: 50}"
      ]
     },
     "execution_count": 145,
     "metadata": {},
     "output_type": "execute_result"
    }
   ],
   "source": [
    "d2"
   ]
  },
  {
   "cell_type": "code",
   "execution_count": 148,
   "id": "9dc12273",
   "metadata": {},
   "outputs": [
    {
     "data": {
      "text/plain": [
       "50"
      ]
     },
     "execution_count": 148,
     "metadata": {},
     "output_type": "execute_result"
    }
   ],
   "source": [
    "d2[5]"
   ]
  },
  {
   "cell_type": "code",
   "execution_count": 149,
   "id": "43f8940d",
   "metadata": {},
   "outputs": [
    {
     "data": {
      "text/plain": [
       "{1: 10,\n",
       " 2: 10.5,\n",
       " 3: 'Python',\n",
       " 4: [10, 20, 30, 40],\n",
       " 5: {1: 10, 2: 20, 3: 30, 4: 40, 5: 50},\n",
       " 6: (100, 200, 300)}"
      ]
     },
     "execution_count": 149,
     "metadata": {},
     "output_type": "execute_result"
    }
   ],
   "source": [
    "d3"
   ]
  },
  {
   "cell_type": "code",
   "execution_count": 150,
   "id": "f8554a72",
   "metadata": {},
   "outputs": [
    {
     "data": {
      "text/plain": [
       "{1: 10, 2: 20, 3: 30, 4: 40, 5: 50}"
      ]
     },
     "execution_count": 150,
     "metadata": {},
     "output_type": "execute_result"
    }
   ],
   "source": [
    "d3[5]"
   ]
  },
  {
   "cell_type": "code",
   "execution_count": 151,
   "id": "b714cebe",
   "metadata": {},
   "outputs": [
    {
     "data": {
      "text/plain": [
       "{1: 10, 1.5: 20, 'Name': 'John', (100, 200, 300): [10, 20, 30, 40]}"
      ]
     },
     "execution_count": 151,
     "metadata": {},
     "output_type": "execute_result"
    }
   ],
   "source": [
    "d4"
   ]
  },
  {
   "cell_type": "code",
   "execution_count": 152,
   "id": "a6861cc0",
   "metadata": {},
   "outputs": [
    {
     "data": {
      "text/plain": [
       "'John'"
      ]
     },
     "execution_count": 152,
     "metadata": {},
     "output_type": "execute_result"
    }
   ],
   "source": [
    "d4['Name']"
   ]
  },
  {
   "cell_type": "code",
   "execution_count": 154,
   "id": "c8905ec0",
   "metadata": {},
   "outputs": [
    {
     "data": {
      "text/plain": [
       "[10, 20, 30, 40]"
      ]
     },
     "execution_count": 154,
     "metadata": {},
     "output_type": "execute_result"
    }
   ],
   "source": [
    "d4[(100, 200, 300)]"
   ]
  },
  {
   "cell_type": "code",
   "execution_count": 155,
   "id": "c68cfcdd",
   "metadata": {},
   "outputs": [
    {
     "data": {
      "text/plain": [
       "{1: 10, 2: 20, 3: 30, 4: 40, 5: 50}"
      ]
     },
     "execution_count": 155,
     "metadata": {},
     "output_type": "execute_result"
    }
   ],
   "source": [
    "d2"
   ]
  },
  {
   "cell_type": "code",
   "execution_count": 157,
   "id": "f8b22053",
   "metadata": {},
   "outputs": [],
   "source": [
    "d2[3] = -1"
   ]
  },
  {
   "cell_type": "code",
   "execution_count": 158,
   "id": "3d562577",
   "metadata": {},
   "outputs": [
    {
     "data": {
      "text/plain": [
       "{1: 10, 2: 20, 3: -1, 4: 40, 5: 50}"
      ]
     },
     "execution_count": 158,
     "metadata": {},
     "output_type": "execute_result"
    }
   ],
   "source": [
    "d2"
   ]
  },
  {
   "cell_type": "code",
   "execution_count": 159,
   "id": "eb1569e1",
   "metadata": {},
   "outputs": [
    {
     "name": "stdout",
     "output_type": "stream",
     "text": [
      "['__class__', '__contains__', '__delattr__', '__delitem__', '__dir__', '__doc__', '__eq__', '__format__', '__ge__', '__getattribute__', '__getitem__', '__gt__', '__hash__', '__init__', '__init_subclass__', '__iter__', '__le__', '__len__', '__lt__', '__ne__', '__new__', '__reduce__', '__reduce_ex__', '__repr__', '__reversed__', '__setattr__', '__setitem__', '__sizeof__', '__str__', '__subclasshook__', 'clear', 'copy', 'fromkeys', 'get', 'items', 'keys', 'pop', 'popitem', 'setdefault', 'update', 'values']\n"
     ]
    }
   ],
   "source": [
    "print(dir(d2))"
   ]
  },
  {
   "cell_type": "code",
   "execution_count": 160,
   "id": "8a132f3f",
   "metadata": {},
   "outputs": [
    {
     "data": {
      "text/plain": [
       "dict_values([10, 20, -1, 40, 50])"
      ]
     },
     "execution_count": 160,
     "metadata": {},
     "output_type": "execute_result"
    }
   ],
   "source": [
    "d2.values()"
   ]
  },
  {
   "cell_type": "code",
   "execution_count": 161,
   "id": "2bad1d13",
   "metadata": {},
   "outputs": [
    {
     "data": {
      "text/plain": [
       "dict_keys([1, 2, 3, 4, 5])"
      ]
     },
     "execution_count": 161,
     "metadata": {},
     "output_type": "execute_result"
    }
   ],
   "source": [
    "d2.keys()"
   ]
  },
  {
   "cell_type": "code",
   "execution_count": 162,
   "id": "0d7179f5",
   "metadata": {},
   "outputs": [
    {
     "data": {
      "text/plain": [
       "dict_items([(1, 10), (2, 20), (3, -1), (4, 40), (5, 50)])"
      ]
     },
     "execution_count": 162,
     "metadata": {},
     "output_type": "execute_result"
    }
   ],
   "source": [
    "d2.items()"
   ]
  },
  {
   "cell_type": "code",
   "execution_count": 164,
   "id": "1e1342d8",
   "metadata": {},
   "outputs": [
    {
     "name": "stdout",
     "output_type": "stream",
     "text": [
      "(1, 10)\n",
      "(2, 20)\n",
      "(3, -1)\n",
      "(4, 40)\n",
      "(5, 50)\n"
     ]
    }
   ],
   "source": [
    "for var in d2.items():\n",
    "    print(var)"
   ]
  },
  {
   "cell_type": "code",
   "execution_count": 165,
   "id": "b74ee354",
   "metadata": {},
   "outputs": [
    {
     "data": {
      "text/plain": [
       "{1: 10, 2: 20, 3: -1, 4: 40, 5: 50}"
      ]
     },
     "execution_count": 165,
     "metadata": {},
     "output_type": "execute_result"
    }
   ],
   "source": [
    "d2"
   ]
  },
  {
   "cell_type": "code",
   "execution_count": 166,
   "id": "37dbdd07",
   "metadata": {},
   "outputs": [
    {
     "ename": "TypeError",
     "evalue": "unhashable type: 'slice'",
     "output_type": "error",
     "traceback": [
      "\u001b[1;31m---------------------------------------------------------------------------\u001b[0m",
      "\u001b[1;31mTypeError\u001b[0m                                 Traceback (most recent call last)",
      "\u001b[1;32m<ipython-input-166-bb119f2941a7>\u001b[0m in \u001b[0;36m<module>\u001b[1;34m\u001b[0m\n\u001b[1;32m----> 1\u001b[1;33m \u001b[0md2\u001b[0m\u001b[1;33m[\u001b[0m\u001b[1;36m2\u001b[0m\u001b[1;33m:\u001b[0m\u001b[1;36m3\u001b[0m\u001b[1;33m]\u001b[0m\u001b[1;33m\u001b[0m\u001b[1;33m\u001b[0m\u001b[0m\n\u001b[0m",
      "\u001b[1;31mTypeError\u001b[0m: unhashable type: 'slice'"
     ]
    }
   ],
   "source": [
    "d2[2:3]"
   ]
  },
  {
   "cell_type": "code",
   "execution_count": 170,
   "id": "56e8f461",
   "metadata": {},
   "outputs": [
    {
     "name": "stdout",
     "output_type": "stream",
     "text": [
      "10\n",
      "20\n",
      "-1\n",
      "40\n",
      "50\n"
     ]
    }
   ],
   "source": [
    "for var in d2.keys():\n",
    "    print(d2[var])"
   ]
  },
  {
   "cell_type": "code",
   "execution_count": 171,
   "id": "3b4cc2b1",
   "metadata": {},
   "outputs": [],
   "source": [
    "d6 = { 'EmpID': [1001, 1002, 1003],\n",
    "         'Name': ['John', 'Jeff', 'Andrina'],\n",
    "             'Gender': ['M', 'M', 'F'],\n",
    "                 'Age': [30, 35, 28]}"
   ]
  },
  {
   "cell_type": "code",
   "execution_count": 172,
   "id": "dad041da",
   "metadata": {},
   "outputs": [
    {
     "data": {
      "text/plain": [
       "{'EmpID': [1001, 1002, 1003],\n",
       " 'Name': ['John', 'Jeff', 'Andrina'],\n",
       " 'Gender': ['M', 'M', 'F'],\n",
       " 'Age': [30, 35, 28]}"
      ]
     },
     "execution_count": 172,
     "metadata": {},
     "output_type": "execute_result"
    }
   ],
   "source": [
    "d6"
   ]
  },
  {
   "cell_type": "code",
   "execution_count": 173,
   "id": "4d2f1ee3",
   "metadata": {},
   "outputs": [
    {
     "data": {
      "text/plain": [
       "{1: 10, 2: 20, 3: -1, 4: 40, 5: 50}"
      ]
     },
     "execution_count": 173,
     "metadata": {},
     "output_type": "execute_result"
    }
   ],
   "source": [
    "d2"
   ]
  },
  {
   "cell_type": "code",
   "execution_count": 175,
   "id": "9524161f",
   "metadata": {},
   "outputs": [],
   "source": [
    "d2[6] = 60"
   ]
  },
  {
   "cell_type": "code",
   "execution_count": 176,
   "id": "75f11806",
   "metadata": {},
   "outputs": [
    {
     "data": {
      "text/plain": [
       "{1: 10, 2: 20, 3: -1, 4: 40, 5: 50, 6: 60}"
      ]
     },
     "execution_count": 176,
     "metadata": {},
     "output_type": "execute_result"
    }
   ],
   "source": [
    "d2"
   ]
  },
  {
   "cell_type": "code",
   "execution_count": 180,
   "id": "e62ace2a",
   "metadata": {},
   "outputs": [],
   "source": [
    "d7 = { 1: 10, 2:10, 3:10, 4: 10}"
   ]
  },
  {
   "cell_type": "code",
   "execution_count": 181,
   "id": "f6d01419",
   "metadata": {},
   "outputs": [
    {
     "data": {
      "text/plain": [
       "{1: 10, 2: 10, 3: 10, 4: 10}"
      ]
     },
     "execution_count": 181,
     "metadata": {},
     "output_type": "execute_result"
    }
   ],
   "source": [
    "d7"
   ]
  },
  {
   "cell_type": "markdown",
   "id": "1d72045d",
   "metadata": {},
   "source": [
    "### sets"
   ]
  },
  {
   "cell_type": "code",
   "execution_count": null,
   "id": "1d465e02",
   "metadata": {},
   "outputs": [],
   "source": []
  },
  {
   "cell_type": "code",
   "execution_count": null,
   "id": "3108b11b",
   "metadata": {},
   "outputs": [],
   "source": []
  },
  {
   "cell_type": "code",
   "execution_count": null,
   "id": "e175003b",
   "metadata": {},
   "outputs": [],
   "source": []
  },
  {
   "cell_type": "code",
   "execution_count": null,
   "id": "cb17a1d6",
   "metadata": {},
   "outputs": [],
   "source": []
  },
  {
   "cell_type": "code",
   "execution_count": null,
   "id": "a7ea4726",
   "metadata": {},
   "outputs": [],
   "source": []
  },
  {
   "cell_type": "code",
   "execution_count": null,
   "id": "8fa07dc6",
   "metadata": {},
   "outputs": [],
   "source": []
  },
  {
   "cell_type": "code",
   "execution_count": null,
   "id": "e2ba7b70",
   "metadata": {},
   "outputs": [],
   "source": []
  },
  {
   "cell_type": "code",
   "execution_count": null,
   "id": "14ef2d49",
   "metadata": {},
   "outputs": [],
   "source": []
  }
 ],
 "metadata": {
  "kernelspec": {
   "display_name": "Python 3 (ipykernel)",
   "language": "python",
   "name": "python3"
  },
  "language_info": {
   "codemirror_mode": {
    "name": "ipython",
    "version": 3
   },
   "file_extension": ".py",
   "mimetype": "text/x-python",
   "name": "python",
   "nbconvert_exporter": "python",
   "pygments_lexer": "ipython3",
   "version": "3.9.7"
  }
 },
 "nbformat": 4,
 "nbformat_minor": 5
}
