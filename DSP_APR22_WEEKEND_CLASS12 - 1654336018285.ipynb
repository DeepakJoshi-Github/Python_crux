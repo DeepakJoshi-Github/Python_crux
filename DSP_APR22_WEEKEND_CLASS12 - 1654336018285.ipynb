{
 "cells": [
  {
   "cell_type": "code",
   "execution_count": 1,
   "id": "1e127bcf",
   "metadata": {},
   "outputs": [],
   "source": [
    "import numpy as np\n",
    "import pandas as pd\n",
    "import datetime"
   ]
  },
  {
   "cell_type": "code",
   "execution_count": 2,
   "id": "df83ea49",
   "metadata": {},
   "outputs": [
    {
     "ename": "FileNotFoundError",
     "evalue": "[Errno 2] No such file or directory: 'D:/SampleData/stores_new.csv'",
     "output_type": "error",
     "traceback": [
      "\u001b[1;31m---------------------------------------------------------------------------\u001b[0m",
      "\u001b[1;31mFileNotFoundError\u001b[0m                         Traceback (most recent call last)",
      "\u001b[1;32mC:\\Users\\DEEPAK~1\\AppData\\Local\\Temp/ipykernel_9508/543766160.py\u001b[0m in \u001b[0;36m<module>\u001b[1;34m\u001b[0m\n\u001b[1;32m----> 1\u001b[1;33m \u001b[0mstores\u001b[0m \u001b[1;33m=\u001b[0m \u001b[0mpd\u001b[0m\u001b[1;33m.\u001b[0m\u001b[0mread_csv\u001b[0m\u001b[1;33m(\u001b[0m\u001b[1;34m'D:/SampleData/stores_new.csv'\u001b[0m\u001b[1;33m)\u001b[0m\u001b[1;33m\u001b[0m\u001b[1;33m\u001b[0m\u001b[0m\n\u001b[0m",
      "\u001b[1;32m~\\anaconda3\\lib\\site-packages\\pandas\\util\\_decorators.py\u001b[0m in \u001b[0;36mwrapper\u001b[1;34m(*args, **kwargs)\u001b[0m\n\u001b[0;32m    309\u001b[0m                     \u001b[0mstacklevel\u001b[0m\u001b[1;33m=\u001b[0m\u001b[0mstacklevel\u001b[0m\u001b[1;33m,\u001b[0m\u001b[1;33m\u001b[0m\u001b[1;33m\u001b[0m\u001b[0m\n\u001b[0;32m    310\u001b[0m                 )\n\u001b[1;32m--> 311\u001b[1;33m             \u001b[1;32mreturn\u001b[0m \u001b[0mfunc\u001b[0m\u001b[1;33m(\u001b[0m\u001b[1;33m*\u001b[0m\u001b[0margs\u001b[0m\u001b[1;33m,\u001b[0m \u001b[1;33m**\u001b[0m\u001b[0mkwargs\u001b[0m\u001b[1;33m)\u001b[0m\u001b[1;33m\u001b[0m\u001b[1;33m\u001b[0m\u001b[0m\n\u001b[0m\u001b[0;32m    312\u001b[0m \u001b[1;33m\u001b[0m\u001b[0m\n\u001b[0;32m    313\u001b[0m         \u001b[1;32mreturn\u001b[0m \u001b[0mwrapper\u001b[0m\u001b[1;33m\u001b[0m\u001b[1;33m\u001b[0m\u001b[0m\n",
      "\u001b[1;32m~\\anaconda3\\lib\\site-packages\\pandas\\io\\parsers\\readers.py\u001b[0m in \u001b[0;36mread_csv\u001b[1;34m(filepath_or_buffer, sep, delimiter, header, names, index_col, usecols, squeeze, prefix, mangle_dupe_cols, dtype, engine, converters, true_values, false_values, skipinitialspace, skiprows, skipfooter, nrows, na_values, keep_default_na, na_filter, verbose, skip_blank_lines, parse_dates, infer_datetime_format, keep_date_col, date_parser, dayfirst, cache_dates, iterator, chunksize, compression, thousands, decimal, lineterminator, quotechar, quoting, doublequote, escapechar, comment, encoding, encoding_errors, dialect, error_bad_lines, warn_bad_lines, on_bad_lines, delim_whitespace, low_memory, memory_map, float_precision, storage_options)\u001b[0m\n\u001b[0;32m    584\u001b[0m     \u001b[0mkwds\u001b[0m\u001b[1;33m.\u001b[0m\u001b[0mupdate\u001b[0m\u001b[1;33m(\u001b[0m\u001b[0mkwds_defaults\u001b[0m\u001b[1;33m)\u001b[0m\u001b[1;33m\u001b[0m\u001b[1;33m\u001b[0m\u001b[0m\n\u001b[0;32m    585\u001b[0m \u001b[1;33m\u001b[0m\u001b[0m\n\u001b[1;32m--> 586\u001b[1;33m     \u001b[1;32mreturn\u001b[0m \u001b[0m_read\u001b[0m\u001b[1;33m(\u001b[0m\u001b[0mfilepath_or_buffer\u001b[0m\u001b[1;33m,\u001b[0m \u001b[0mkwds\u001b[0m\u001b[1;33m)\u001b[0m\u001b[1;33m\u001b[0m\u001b[1;33m\u001b[0m\u001b[0m\n\u001b[0m\u001b[0;32m    587\u001b[0m \u001b[1;33m\u001b[0m\u001b[0m\n\u001b[0;32m    588\u001b[0m \u001b[1;33m\u001b[0m\u001b[0m\n",
      "\u001b[1;32m~\\anaconda3\\lib\\site-packages\\pandas\\io\\parsers\\readers.py\u001b[0m in \u001b[0;36m_read\u001b[1;34m(filepath_or_buffer, kwds)\u001b[0m\n\u001b[0;32m    480\u001b[0m \u001b[1;33m\u001b[0m\u001b[0m\n\u001b[0;32m    481\u001b[0m     \u001b[1;31m# Create the parser.\u001b[0m\u001b[1;33m\u001b[0m\u001b[1;33m\u001b[0m\u001b[0m\n\u001b[1;32m--> 482\u001b[1;33m     \u001b[0mparser\u001b[0m \u001b[1;33m=\u001b[0m \u001b[0mTextFileReader\u001b[0m\u001b[1;33m(\u001b[0m\u001b[0mfilepath_or_buffer\u001b[0m\u001b[1;33m,\u001b[0m \u001b[1;33m**\u001b[0m\u001b[0mkwds\u001b[0m\u001b[1;33m)\u001b[0m\u001b[1;33m\u001b[0m\u001b[1;33m\u001b[0m\u001b[0m\n\u001b[0m\u001b[0;32m    483\u001b[0m \u001b[1;33m\u001b[0m\u001b[0m\n\u001b[0;32m    484\u001b[0m     \u001b[1;32mif\u001b[0m \u001b[0mchunksize\u001b[0m \u001b[1;32mor\u001b[0m \u001b[0miterator\u001b[0m\u001b[1;33m:\u001b[0m\u001b[1;33m\u001b[0m\u001b[1;33m\u001b[0m\u001b[0m\n",
      "\u001b[1;32m~\\anaconda3\\lib\\site-packages\\pandas\\io\\parsers\\readers.py\u001b[0m in \u001b[0;36m__init__\u001b[1;34m(self, f, engine, **kwds)\u001b[0m\n\u001b[0;32m    809\u001b[0m             \u001b[0mself\u001b[0m\u001b[1;33m.\u001b[0m\u001b[0moptions\u001b[0m\u001b[1;33m[\u001b[0m\u001b[1;34m\"has_index_names\"\u001b[0m\u001b[1;33m]\u001b[0m \u001b[1;33m=\u001b[0m \u001b[0mkwds\u001b[0m\u001b[1;33m[\u001b[0m\u001b[1;34m\"has_index_names\"\u001b[0m\u001b[1;33m]\u001b[0m\u001b[1;33m\u001b[0m\u001b[1;33m\u001b[0m\u001b[0m\n\u001b[0;32m    810\u001b[0m \u001b[1;33m\u001b[0m\u001b[0m\n\u001b[1;32m--> 811\u001b[1;33m         \u001b[0mself\u001b[0m\u001b[1;33m.\u001b[0m\u001b[0m_engine\u001b[0m \u001b[1;33m=\u001b[0m \u001b[0mself\u001b[0m\u001b[1;33m.\u001b[0m\u001b[0m_make_engine\u001b[0m\u001b[1;33m(\u001b[0m\u001b[0mself\u001b[0m\u001b[1;33m.\u001b[0m\u001b[0mengine\u001b[0m\u001b[1;33m)\u001b[0m\u001b[1;33m\u001b[0m\u001b[1;33m\u001b[0m\u001b[0m\n\u001b[0m\u001b[0;32m    812\u001b[0m \u001b[1;33m\u001b[0m\u001b[0m\n\u001b[0;32m    813\u001b[0m     \u001b[1;32mdef\u001b[0m \u001b[0mclose\u001b[0m\u001b[1;33m(\u001b[0m\u001b[0mself\u001b[0m\u001b[1;33m)\u001b[0m\u001b[1;33m:\u001b[0m\u001b[1;33m\u001b[0m\u001b[1;33m\u001b[0m\u001b[0m\n",
      "\u001b[1;32m~\\anaconda3\\lib\\site-packages\\pandas\\io\\parsers\\readers.py\u001b[0m in \u001b[0;36m_make_engine\u001b[1;34m(self, engine)\u001b[0m\n\u001b[0;32m   1038\u001b[0m             )\n\u001b[0;32m   1039\u001b[0m         \u001b[1;31m# error: Too many arguments for \"ParserBase\"\u001b[0m\u001b[1;33m\u001b[0m\u001b[1;33m\u001b[0m\u001b[0m\n\u001b[1;32m-> 1040\u001b[1;33m         \u001b[1;32mreturn\u001b[0m \u001b[0mmapping\u001b[0m\u001b[1;33m[\u001b[0m\u001b[0mengine\u001b[0m\u001b[1;33m]\u001b[0m\u001b[1;33m(\u001b[0m\u001b[0mself\u001b[0m\u001b[1;33m.\u001b[0m\u001b[0mf\u001b[0m\u001b[1;33m,\u001b[0m \u001b[1;33m**\u001b[0m\u001b[0mself\u001b[0m\u001b[1;33m.\u001b[0m\u001b[0moptions\u001b[0m\u001b[1;33m)\u001b[0m  \u001b[1;31m# type: ignore[call-arg]\u001b[0m\u001b[1;33m\u001b[0m\u001b[1;33m\u001b[0m\u001b[0m\n\u001b[0m\u001b[0;32m   1041\u001b[0m \u001b[1;33m\u001b[0m\u001b[0m\n\u001b[0;32m   1042\u001b[0m     \u001b[1;32mdef\u001b[0m \u001b[0m_failover_to_python\u001b[0m\u001b[1;33m(\u001b[0m\u001b[0mself\u001b[0m\u001b[1;33m)\u001b[0m\u001b[1;33m:\u001b[0m\u001b[1;33m\u001b[0m\u001b[1;33m\u001b[0m\u001b[0m\n",
      "\u001b[1;32m~\\anaconda3\\lib\\site-packages\\pandas\\io\\parsers\\c_parser_wrapper.py\u001b[0m in \u001b[0;36m__init__\u001b[1;34m(self, src, **kwds)\u001b[0m\n\u001b[0;32m     49\u001b[0m \u001b[1;33m\u001b[0m\u001b[0m\n\u001b[0;32m     50\u001b[0m         \u001b[1;31m# open handles\u001b[0m\u001b[1;33m\u001b[0m\u001b[1;33m\u001b[0m\u001b[0m\n\u001b[1;32m---> 51\u001b[1;33m         \u001b[0mself\u001b[0m\u001b[1;33m.\u001b[0m\u001b[0m_open_handles\u001b[0m\u001b[1;33m(\u001b[0m\u001b[0msrc\u001b[0m\u001b[1;33m,\u001b[0m \u001b[0mkwds\u001b[0m\u001b[1;33m)\u001b[0m\u001b[1;33m\u001b[0m\u001b[1;33m\u001b[0m\u001b[0m\n\u001b[0m\u001b[0;32m     52\u001b[0m         \u001b[1;32massert\u001b[0m \u001b[0mself\u001b[0m\u001b[1;33m.\u001b[0m\u001b[0mhandles\u001b[0m \u001b[1;32mis\u001b[0m \u001b[1;32mnot\u001b[0m \u001b[1;32mNone\u001b[0m\u001b[1;33m\u001b[0m\u001b[1;33m\u001b[0m\u001b[0m\n\u001b[0;32m     53\u001b[0m \u001b[1;33m\u001b[0m\u001b[0m\n",
      "\u001b[1;32m~\\anaconda3\\lib\\site-packages\\pandas\\io\\parsers\\base_parser.py\u001b[0m in \u001b[0;36m_open_handles\u001b[1;34m(self, src, kwds)\u001b[0m\n\u001b[0;32m    220\u001b[0m         \u001b[0mLet\u001b[0m \u001b[0mthe\u001b[0m \u001b[0mreaders\u001b[0m \u001b[0mopen\u001b[0m \u001b[0mIOHandles\u001b[0m \u001b[0mafter\u001b[0m \u001b[0mthey\u001b[0m \u001b[0mare\u001b[0m \u001b[0mdone\u001b[0m \u001b[1;32mwith\u001b[0m \u001b[0mtheir\u001b[0m \u001b[0mpotential\u001b[0m \u001b[0mraises\u001b[0m\u001b[1;33m.\u001b[0m\u001b[1;33m\u001b[0m\u001b[1;33m\u001b[0m\u001b[0m\n\u001b[0;32m    221\u001b[0m         \"\"\"\n\u001b[1;32m--> 222\u001b[1;33m         self.handles = get_handle(\n\u001b[0m\u001b[0;32m    223\u001b[0m             \u001b[0msrc\u001b[0m\u001b[1;33m,\u001b[0m\u001b[1;33m\u001b[0m\u001b[1;33m\u001b[0m\u001b[0m\n\u001b[0;32m    224\u001b[0m             \u001b[1;34m\"r\"\u001b[0m\u001b[1;33m,\u001b[0m\u001b[1;33m\u001b[0m\u001b[1;33m\u001b[0m\u001b[0m\n",
      "\u001b[1;32m~\\anaconda3\\lib\\site-packages\\pandas\\io\\common.py\u001b[0m in \u001b[0;36mget_handle\u001b[1;34m(path_or_buf, mode, encoding, compression, memory_map, is_text, errors, storage_options)\u001b[0m\n\u001b[0;32m    700\u001b[0m         \u001b[1;32mif\u001b[0m \u001b[0mioargs\u001b[0m\u001b[1;33m.\u001b[0m\u001b[0mencoding\u001b[0m \u001b[1;32mand\u001b[0m \u001b[1;34m\"b\"\u001b[0m \u001b[1;32mnot\u001b[0m \u001b[1;32min\u001b[0m \u001b[0mioargs\u001b[0m\u001b[1;33m.\u001b[0m\u001b[0mmode\u001b[0m\u001b[1;33m:\u001b[0m\u001b[1;33m\u001b[0m\u001b[1;33m\u001b[0m\u001b[0m\n\u001b[0;32m    701\u001b[0m             \u001b[1;31m# Encoding\u001b[0m\u001b[1;33m\u001b[0m\u001b[1;33m\u001b[0m\u001b[0m\n\u001b[1;32m--> 702\u001b[1;33m             handle = open(\n\u001b[0m\u001b[0;32m    703\u001b[0m                 \u001b[0mhandle\u001b[0m\u001b[1;33m,\u001b[0m\u001b[1;33m\u001b[0m\u001b[1;33m\u001b[0m\u001b[0m\n\u001b[0;32m    704\u001b[0m                 \u001b[0mioargs\u001b[0m\u001b[1;33m.\u001b[0m\u001b[0mmode\u001b[0m\u001b[1;33m,\u001b[0m\u001b[1;33m\u001b[0m\u001b[1;33m\u001b[0m\u001b[0m\n",
      "\u001b[1;31mFileNotFoundError\u001b[0m: [Errno 2] No such file or directory: 'D:/SampleData/stores_new.csv'"
     ]
    }
   ],
   "source": [
    "stores = pd.read_csv('D:/SampleData/stores_new.csv')"
   ]
  },
  {
   "cell_type": "raw",
   "id": "10d99368",
   "metadata": {},
   "source": [
    "Convert the data from str / object type to Datetime64, Timestamp, datetime.date\n",
    "    pd.to_datetime( str = , format = )\n",
    "    datetime.datetime.strptime()\n",
    "    pd.Timestamp.strptime() -- not in use anymore\n",
    "\n",
    "Format the datetime objects as strings\n",
    "    .strftime( format )\n",
    "    \n",
    "Getting the individual dateparts from date/time\n",
    "    pd.Timestamp()\n",
    "    datetime.datetime()\n",
    "\n",
    "Get the date/time from individual dateparts\n",
    "    .year\n",
    "    .month\n",
    "    .day\n",
    "    .hour\n",
    "    .minute\n",
    "    .second\n",
    "    \n",
    "Datediff\n",
    "    d1 - d2\n",
    "    \n",
    "    #of days in the output; but in python you will get timedelta object\n",
    "    timedelta( days = , hours = , minutes = , seconds = )\n",
    "    \n",
    "    d1.year - d2.year \n",
    "\n",
    "Dateadd\n",
    "    To get the past or the future date from the given date\n",
    "    \n",
    "    date + pd.DateOffset( )"
   ]
  },
  {
   "cell_type": "code",
   "execution_count": 6,
   "id": "3ac60c95",
   "metadata": {},
   "outputs": [],
   "source": [
    "sys_date1 = pd.Timestamp.now()\n",
    "sys_date2 = '04-06-2022'"
   ]
  },
  {
   "cell_type": "code",
   "execution_count": 11,
   "id": "950f1a57",
   "metadata": {},
   "outputs": [
    {
     "name": "stdout",
     "output_type": "stream",
     "text": [
      "['__add__', '__array_priority__', '__class__', '__delattr__', '__dict__', '__dir__', '__doc__', '__eq__', '__format__', '__ge__', '__getattribute__', '__gt__', '__hash__', '__init__', '__init_subclass__', '__le__', '__lt__', '__module__', '__ne__', '__new__', '__pyx_vtable__', '__radd__', '__reduce__', '__reduce_cython__', '__reduce_ex__', '__repr__', '__rsub__', '__setattr__', '__setstate__', '__setstate_cython__', '__sizeof__', '__str__', '__sub__', '__subclasshook__', '__weakref__', '_date_repr', '_repr_base', '_round', '_short_repr', '_time_repr', 'asm8', 'astimezone', 'ceil', 'combine', 'ctime', 'date', 'day', 'day_name', 'day_of_week', 'day_of_year', 'dayofweek', 'dayofyear', 'days_in_month', 'daysinmonth', 'dst', 'floor', 'fold', 'freq', 'freqstr', 'fromisocalendar', 'fromisoformat', 'fromordinal', 'fromtimestamp', 'hour', 'is_leap_year', 'is_month_end', 'is_month_start', 'is_quarter_end', 'is_quarter_start', 'is_year_end', 'is_year_start', 'isocalendar', 'isoformat', 'isoweekday', 'max', 'microsecond', 'min', 'minute', 'month', 'month_name', 'nanosecond', 'normalize', 'now', 'quarter', 'replace', 'resolution', 'round', 'second', 'strftime', 'strptime', 'time', 'timestamp', 'timetuple', 'timetz', 'to_datetime64', 'to_julian_date', 'to_numpy', 'to_period', 'to_pydatetime', 'today', 'toordinal', 'tz', 'tz_convert', 'tz_localize', 'tzinfo', 'tzname', 'utcfromtimestamp', 'utcnow', 'utcoffset', 'utctimetuple', 'value', 'week', 'weekday', 'weekofyear', 'year']\n"
     ]
    }
   ],
   "source": [
    "print(dir(sys_date1))"
   ]
  },
  {
   "cell_type": "code",
   "execution_count": 10,
   "id": "65a55c76",
   "metadata": {},
   "outputs": [
    {
     "data": {
      "text/plain": [
       "6"
      ]
     },
     "execution_count": 10,
     "metadata": {},
     "output_type": "execute_result"
    }
   ],
   "source": [
    "sys_date1.month"
   ]
  },
  {
   "cell_type": "code",
   "execution_count": 8,
   "id": "1987c1ef",
   "metadata": {},
   "outputs": [
    {
     "data": {
      "text/plain": [
       "'04-06-2022'"
      ]
     },
     "execution_count": 8,
     "metadata": {},
     "output_type": "execute_result"
    }
   ],
   "source": [
    "sys_date2"
   ]
  },
  {
   "cell_type": "code",
   "execution_count": 12,
   "id": "e169a328",
   "metadata": {},
   "outputs": [
    {
     "name": "stdout",
     "output_type": "stream",
     "text": [
      "['__add__', '__class__', '__contains__', '__delattr__', '__dir__', '__doc__', '__eq__', '__format__', '__ge__', '__getattribute__', '__getitem__', '__getnewargs__', '__gt__', '__hash__', '__init__', '__init_subclass__', '__iter__', '__le__', '__len__', '__lt__', '__mod__', '__mul__', '__ne__', '__new__', '__reduce__', '__reduce_ex__', '__repr__', '__rmod__', '__rmul__', '__setattr__', '__sizeof__', '__str__', '__subclasshook__', 'capitalize', 'casefold', 'center', 'count', 'encode', 'endswith', 'expandtabs', 'find', 'format', 'format_map', 'index', 'isalnum', 'isalpha', 'isascii', 'isdecimal', 'isdigit', 'isidentifier', 'islower', 'isnumeric', 'isprintable', 'isspace', 'istitle', 'isupper', 'join', 'ljust', 'lower', 'lstrip', 'maketrans', 'partition', 'replace', 'rfind', 'rindex', 'rjust', 'rpartition', 'rsplit', 'rstrip', 'split', 'splitlines', 'startswith', 'strip', 'swapcase', 'title', 'translate', 'upper', 'zfill']\n"
     ]
    }
   ],
   "source": [
    "print(dir(sys_date2))"
   ]
  },
  {
   "cell_type": "code",
   "execution_count": 13,
   "id": "b5b5e195",
   "metadata": {},
   "outputs": [
    {
     "data": {
      "text/plain": [
       "Timestamp('2022-06-04 00:00:00')"
      ]
     },
     "execution_count": 13,
     "metadata": {},
     "output_type": "execute_result"
    }
   ],
   "source": [
    "pd.to_datetime( sys_date2, format = '%d-%m-%Y' )"
   ]
  },
  {
   "cell_type": "code",
   "execution_count": 17,
   "id": "26d0ee02",
   "metadata": {},
   "outputs": [
    {
     "data": {
      "text/plain": [
       "datetime.datetime(2022, 6, 4, 0, 0)"
      ]
     },
     "execution_count": 17,
     "metadata": {},
     "output_type": "execute_result"
    }
   ],
   "source": [
    "datetime.datetime.strptime( sys_date2, '%d-%m-%Y' )"
   ]
  },
  {
   "cell_type": "code",
   "execution_count": 19,
   "id": "302a6a7c",
   "metadata": {},
   "outputs": [
    {
     "ename": "NotImplementedError",
     "evalue": "Timestamp.strptime() is not implemented. Use to_datetime() to parse date strings.",
     "output_type": "error",
     "traceback": [
      "\u001b[1;31m---------------------------------------------------------------------------\u001b[0m",
      "\u001b[1;31mNotImplementedError\u001b[0m                       Traceback (most recent call last)",
      "\u001b[1;32m<ipython-input-19-72ef635f1894>\u001b[0m in \u001b[0;36m<module>\u001b[1;34m\u001b[0m\n\u001b[1;32m----> 1\u001b[1;33m \u001b[0mpd\u001b[0m\u001b[1;33m.\u001b[0m\u001b[0mTimestamp\u001b[0m\u001b[1;33m.\u001b[0m\u001b[0mstrptime\u001b[0m\u001b[1;33m(\u001b[0m \u001b[0msys_date2\u001b[0m\u001b[1;33m,\u001b[0m \u001b[1;34m'%d-%m-%Y'\u001b[0m \u001b[1;33m)\u001b[0m\u001b[1;33m\u001b[0m\u001b[1;33m\u001b[0m\u001b[0m\n\u001b[0m",
      "\u001b[1;32mpandas\\_libs\\tslibs\\timestamps.pyx\u001b[0m in \u001b[0;36mpandas._libs.tslibs.timestamps.Timestamp.strptime\u001b[1;34m()\u001b[0m\n",
      "\u001b[1;31mNotImplementedError\u001b[0m: Timestamp.strptime() is not implemented. Use to_datetime() to parse date strings."
     ]
    }
   ],
   "source": [
    "pd.Timestamp.strptime( sys_date2, '%d-%m-%Y' )    \n",
    "#This is Not in use anymore, instead use pd.to_datetime()"
   ]
  },
  {
   "cell_type": "code",
   "execution_count": 22,
   "id": "cefd11b5",
   "metadata": {},
   "outputs": [
    {
     "data": {
      "text/plain": [
       "'June 04, 2022'"
      ]
     },
     "execution_count": 22,
     "metadata": {},
     "output_type": "execute_result"
    }
   ],
   "source": [
    "# show this date as mmmm dd, yyyy\n",
    "sys_date1.strftime('%B %d, %Y')"
   ]
  },
  {
   "cell_type": "code",
   "execution_count": 27,
   "id": "cb1eeff3",
   "metadata": {},
   "outputs": [
    {
     "name": "stdout",
     "output_type": "stream",
     "text": [
      "Enter your DOB (dd/mm/yy): 24/06/2005\n"
     ]
    },
    {
     "data": {
      "text/plain": [
       "'Friday - 24 Jun 05'"
      ]
     },
     "execution_count": 27,
     "metadata": {},
     "output_type": "execute_result"
    }
   ],
   "source": [
    "# get the DOB from the user at runtime and display it in weekday - dd mmm yy\n",
    "dob = input('Enter your DOB (dd/mm/yy): ')\n",
    "datetime.datetime.strptime( dob, '%d/%m/%Y' ).strftime( '%A - %d %b %y' ) "
   ]
  },
  {
   "cell_type": "code",
   "execution_count": 37,
   "id": "7ac25be9",
   "metadata": {},
   "outputs": [
    {
     "data": {
      "text/plain": [
       "Timestamp('2001-12-30 00:00:00')"
      ]
     },
     "execution_count": 37,
     "metadata": {},
     "output_type": "execute_result"
    }
   ],
   "source": [
    "pd.Timestamp( year = 2001, month = 12, day = 30,  )"
   ]
  },
  {
   "cell_type": "code",
   "execution_count": 38,
   "id": "4f9f2aa6",
   "metadata": {},
   "outputs": [
    {
     "data": {
      "text/plain": [
       "datetime.datetime(2001, 12, 30, 0, 0)"
      ]
     },
     "execution_count": 38,
     "metadata": {},
     "output_type": "execute_result"
    }
   ],
   "source": [
    "datetime.datetime( year = 2001, month = 12, day = 30 )"
   ]
  },
  {
   "cell_type": "code",
   "execution_count": 36,
   "id": "6e0022cb",
   "metadata": {},
   "outputs": [
    {
     "data": {
      "text/plain": [
       "'2022 - June'"
      ]
     },
     "execution_count": 36,
     "metadata": {},
     "output_type": "execute_result"
    }
   ],
   "source": [
    "sys_date1.strftime('%Y - %B')"
   ]
  },
  {
   "cell_type": "code",
   "execution_count": 34,
   "id": "1a2fa385",
   "metadata": {},
   "outputs": [
    {
     "data": {
      "text/plain": [
       "2022"
      ]
     },
     "execution_count": 34,
     "metadata": {},
     "output_type": "execute_result"
    }
   ],
   "source": [
    "sys_date1.year"
   ]
  },
  {
   "cell_type": "code",
   "execution_count": 39,
   "id": "8d3744fc",
   "metadata": {},
   "outputs": [
    {
     "data": {
      "text/plain": [
       "'24/06/2005'"
      ]
     },
     "execution_count": 39,
     "metadata": {},
     "output_type": "execute_result"
    }
   ],
   "source": [
    "dob"
   ]
  },
  {
   "cell_type": "code",
   "execution_count": 41,
   "id": "f9b5d979",
   "metadata": {},
   "outputs": [
    {
     "name": "stdout",
     "output_type": "stream",
     "text": [
      "Enter your DOB (dd/mm/yy): 20/06/2004\n"
     ]
    },
    {
     "data": {
      "text/plain": [
       "6558"
      ]
     },
     "execution_count": 41,
     "metadata": {},
     "output_type": "execute_result"
    }
   ],
   "source": [
    "# get the DOB from the user at runtime and display the age of the person\n",
    "dob = input('Enter your DOB (dd/mm/yy): ')"
   ]
  },
  {
   "cell_type": "code",
   "execution_count": 43,
   "id": "5df11ea2",
   "metadata": {},
   "outputs": [
    {
     "data": {
      "text/plain": [
       "17.95482546201232"
      ]
     },
     "execution_count": 43,
     "metadata": {},
     "output_type": "execute_result"
    }
   ],
   "source": [
    "(pd.Timestamp.today() - datetime.datetime.strptime( dob, '%d/%m/%Y' )).days / 365.25"
   ]
  },
  {
   "cell_type": "code",
   "execution_count": 45,
   "id": "4b352936",
   "metadata": {},
   "outputs": [
    {
     "data": {
      "text/plain": [
       "18"
      ]
     },
     "execution_count": 45,
     "metadata": {},
     "output_type": "execute_result"
    }
   ],
   "source": [
    "pd.Timestamp.today().year - datetime.datetime.strptime( dob, '%d/%m/%Y' ).year"
   ]
  },
  {
   "cell_type": "code",
   "execution_count": 50,
   "id": "3e4ad566",
   "metadata": {},
   "outputs": [
    {
     "data": {
      "text/plain": [
       "Timestamp('2022-02-03 11:16:28.906859')"
      ]
     },
     "execution_count": 50,
     "metadata": {},
     "output_type": "execute_result"
    }
   ],
   "source": [
    "# get the date which is 2 months, 3 days from current system date\n",
    "pd.Timestamp.now() + pd.DateOffset( month = 2, day = 3 )"
   ]
  },
  {
   "cell_type": "code",
   "execution_count": 51,
   "id": "5b917330",
   "metadata": {},
   "outputs": [],
   "source": [
    "s1 = pd.Series(['12594011302002', '15334010312009', '01045902282000'])"
   ]
  },
  {
   "cell_type": "code",
   "execution_count": 52,
   "id": "0aa29fd7",
   "metadata": {},
   "outputs": [
    {
     "data": {
      "text/plain": [
       "0    12594011302002\n",
       "1    15334010312009\n",
       "2    01045902282000\n",
       "dtype: object"
      ]
     },
     "execution_count": 52,
     "metadata": {},
     "output_type": "execute_result"
    }
   ],
   "source": [
    "s1"
   ]
  },
  {
   "cell_type": "code",
   "execution_count": 53,
   "id": "fb00b8ea",
   "metadata": {},
   "outputs": [
    {
     "data": {
      "text/plain": [
       "0   2002-11-30 12:59:40\n",
       "1   2009-10-31 15:33:40\n",
       "2   2000-02-28 01:04:59\n",
       "dtype: datetime64[ns]"
      ]
     },
     "execution_count": 53,
     "metadata": {},
     "output_type": "execute_result"
    }
   ],
   "source": [
    "pd.to_datetime( s1, format = '%H%M%S%m%d%Y' )"
   ]
  },
  {
   "cell_type": "code",
   "execution_count": 63,
   "id": "248cf49a",
   "metadata": {},
   "outputs": [],
   "source": [
    "s2 = pd.Series(['12594011302002am', '09334010312009pm', '01045902282000am'])"
   ]
  },
  {
   "cell_type": "code",
   "execution_count": 64,
   "id": "1c19f8b9",
   "metadata": {},
   "outputs": [
    {
     "data": {
      "text/plain": [
       "0    12594011302002am\n",
       "1    09334010312009pm\n",
       "2    01045902282000am\n",
       "dtype: object"
      ]
     },
     "execution_count": 64,
     "metadata": {},
     "output_type": "execute_result"
    }
   ],
   "source": [
    "s2"
   ]
  },
  {
   "cell_type": "code",
   "execution_count": 68,
   "id": "6d931630",
   "metadata": {},
   "outputs": [
    {
     "data": {
      "text/plain": [
       "0    Saturday\n",
       "1    Saturday\n",
       "2      Monday\n",
       "dtype: object"
      ]
     },
     "execution_count": 68,
     "metadata": {},
     "output_type": "execute_result"
    }
   ],
   "source": [
    "pd.to_datetime( s2, format = '%I%M%S%m%d%Y%p' ).dt.strftime('%A')"
   ]
  },
  {
   "cell_type": "code",
   "execution_count": 71,
   "id": "6d514689",
   "metadata": {},
   "outputs": [
    {
     "data": {
      "text/plain": [
       "0    2002\n",
       "1    2009\n",
       "2    2000\n",
       "dtype: int64"
      ]
     },
     "execution_count": 71,
     "metadata": {},
     "output_type": "execute_result"
    }
   ],
   "source": [
    "pd.to_datetime( s2, format = '%I%M%S%m%d%Y%p' ).dt.year"
   ]
  },
  {
   "cell_type": "code",
   "execution_count": 74,
   "id": "ce0537a6",
   "metadata": {},
   "outputs": [
    {
     "data": {
      "text/plain": [
       "0   2002-11-30 00:59:40\n",
       "1   2009-10-31 21:33:40\n",
       "2   2000-02-29 01:04:59\n",
       "dtype: datetime64[ns]"
      ]
     },
     "execution_count": 74,
     "metadata": {},
     "output_type": "execute_result"
    }
   ],
   "source": [
    "pd.to_datetime( s2, format = '%I%M%S%m%d%Y%p' ) + pd.DateOffset( day = 31 )"
   ]
  },
  {
   "cell_type": "markdown",
   "id": "78081977",
   "metadata": {},
   "source": [
    "### .apply() and .applymap() methods"
   ]
  },
  {
   "cell_type": "raw",
   "id": "cd74cca1",
   "metadata": {},
   "source": [
    "lambda functions: temp single lined functions\n",
    "\n",
    "map() and filter()"
   ]
  },
  {
   "cell_type": "code",
   "execution_count": null,
   "id": "fb68f91d",
   "metadata": {},
   "outputs": [],
   "source": [
    "Series:\n",
    "    .apply() will iterate on the VALUES of the series\n",
    "\n",
    "DataFrame:\n",
    "    .apply( axis = ) will iterate on Series of the DataFrame\n",
    "    .applymap() will iterate on the VALUES of the DataFrame"
   ]
  },
  {
   "cell_type": "markdown",
   "id": "942ea914",
   "metadata": {},
   "source": [
    "#### Get the varible of specific type\n",
    "\n",
    "To perform conditional subsetting"
   ]
  },
  {
   "cell_type": "raw",
   "id": "1e7e7676",
   "metadata": {},
   "source": [
    "Method 1:\n",
    "stores.loc[:, stores.dtypes == 'object' ]\n",
    "\n",
    "Method 2:\n",
    "stores.select_dtypes( include = , exclude = )"
   ]
  },
  {
   "cell_type": "code",
   "execution_count": 76,
   "id": "d8655fb3",
   "metadata": {},
   "outputs": [],
   "source": [
    "# Convert the values of Location into upper case"
   ]
  },
  {
   "cell_type": "code",
   "execution_count": 78,
   "id": "12601574",
   "metadata": {},
   "outputs": [
    {
     "data": {
      "text/plain": [
       "0    DELHI\n",
       "1    DELHI\n",
       "Name: Location, dtype: object"
      ]
     },
     "execution_count": 78,
     "metadata": {},
     "output_type": "execute_result"
    }
   ],
   "source": [
    "# Method 1: Using str (type conversion)\n",
    "stores.Location.str.upper().head(2)"
   ]
  },
  {
   "cell_type": "code",
   "execution_count": 81,
   "id": "3c4fdb5f",
   "metadata": {},
   "outputs": [
    {
     "data": {
      "text/plain": [
       "0    DELHI\n",
       "1    DELHI\n",
       "dtype: object"
      ]
     },
     "execution_count": 81,
     "metadata": {},
     "output_type": "execute_result"
    }
   ],
   "source": [
    "# Method 2: Using map()\n",
    "pd.Series( map( lambda x: x.upper(), stores.Location ) ).head(2)"
   ]
  },
  {
   "cell_type": "code",
   "execution_count": 83,
   "id": "842ceadd",
   "metadata": {},
   "outputs": [
    {
     "data": {
      "text/plain": [
       "0    DELHI\n",
       "1    DELHI\n",
       "Name: Location, dtype: object"
      ]
     },
     "execution_count": 83,
     "metadata": {},
     "output_type": "execute_result"
    }
   ],
   "source": [
    "# Method 3: Using .apply()\n",
    "stores.Location.apply( lambda x: x.upper() ).head(2)"
   ]
  },
  {
   "cell_type": "code",
   "execution_count": 85,
   "id": "01a9995e",
   "metadata": {},
   "outputs": [
    {
     "data": {
      "text/plain": [
       "32"
      ]
     },
     "execution_count": 85,
     "metadata": {},
     "output_type": "execute_result"
    }
   ],
   "source": [
    "stores.Location.count()"
   ]
  },
  {
   "cell_type": "code",
   "execution_count": 86,
   "id": "281e315e",
   "metadata": {},
   "outputs": [
    {
     "name": "stdout",
     "output_type": "stream",
     "text": [
      "<class 'pandas.core.frame.DataFrame'>\n",
      "RangeIndex: 32 entries, 0 to 31\n",
      "Data columns (total 16 columns):\n",
      " #   Column           Non-Null Count  Dtype  \n",
      "---  ------           --------------  -----  \n",
      " 0   StoreCode        32 non-null     object \n",
      " 1   StoreName        32 non-null     object \n",
      " 2   StoreType        32 non-null     object \n",
      " 3   Location         32 non-null     object \n",
      " 4   OperatingCost    32 non-null     float64\n",
      " 5   Staff_Cnt        32 non-null     int64  \n",
      " 6   TotalSales       32 non-null     float64\n",
      " 7   Total_Customers  32 non-null     int64  \n",
      " 8   AcqCostPercust   29 non-null     float64\n",
      " 9   BasketSize       32 non-null     float64\n",
      " 10  ProfitPercust    32 non-null     float64\n",
      " 11  Dummy            0 non-null      float64\n",
      " 12  OwnStore         32 non-null     int64  \n",
      " 13  OnlinePresence   32 non-null     int64  \n",
      " 14  Tenure           32 non-null     int64  \n",
      " 15  StoreSegment     32 non-null     int64  \n",
      "dtypes: float64(6), int64(6), object(4)\n",
      "memory usage: 4.1+ KB\n"
     ]
    }
   ],
   "source": [
    "# Convert all the object columns of stores into upper case\n",
    "stores.info()"
   ]
  },
  {
   "cell_type": "code",
   "execution_count": 95,
   "id": "b483cd8e",
   "metadata": {},
   "outputs": [
    {
     "data": {
      "text/html": [
       "<div>\n",
       "<style scoped>\n",
       "    .dataframe tbody tr th:only-of-type {\n",
       "        vertical-align: middle;\n",
       "    }\n",
       "\n",
       "    .dataframe tbody tr th {\n",
       "        vertical-align: top;\n",
       "    }\n",
       "\n",
       "    .dataframe thead th {\n",
       "        text-align: right;\n",
       "    }\n",
       "</style>\n",
       "<table border=\"1\" class=\"dataframe\">\n",
       "  <thead>\n",
       "    <tr style=\"text-align: right;\">\n",
       "      <th></th>\n",
       "      <th>StoreCode</th>\n",
       "      <th>StoreName</th>\n",
       "      <th>StoreType</th>\n",
       "      <th>Location</th>\n",
       "    </tr>\n",
       "  </thead>\n",
       "  <tbody>\n",
       "    <tr>\n",
       "      <th>0</th>\n",
       "      <td>STR101</td>\n",
       "      <td>Electronics Zone</td>\n",
       "      <td>Electronincs</td>\n",
       "      <td>Delhi</td>\n",
       "    </tr>\n",
       "    <tr>\n",
       "      <th>1</th>\n",
       "      <td>STR102</td>\n",
       "      <td>Apparel Zone</td>\n",
       "      <td>Apparel</td>\n",
       "      <td>Delhi</td>\n",
       "    </tr>\n",
       "  </tbody>\n",
       "</table>\n",
       "</div>"
      ],
      "text/plain": [
       "  StoreCode         StoreName     StoreType Location\n",
       "0    STR101  Electronics Zone  Electronincs    Delhi\n",
       "1    STR102      Apparel Zone       Apparel    Delhi"
      ]
     },
     "execution_count": 95,
     "metadata": {},
     "output_type": "execute_result"
    }
   ],
   "source": [
    "stores.loc[:, stores.dtypes == 'object' ].head(2)"
   ]
  },
  {
   "cell_type": "code",
   "execution_count": 96,
   "id": "b4409a31",
   "metadata": {},
   "outputs": [
    {
     "data": {
      "text/html": [
       "<div>\n",
       "<style scoped>\n",
       "    .dataframe tbody tr th:only-of-type {\n",
       "        vertical-align: middle;\n",
       "    }\n",
       "\n",
       "    .dataframe tbody tr th {\n",
       "        vertical-align: top;\n",
       "    }\n",
       "\n",
       "    .dataframe thead th {\n",
       "        text-align: right;\n",
       "    }\n",
       "</style>\n",
       "<table border=\"1\" class=\"dataframe\">\n",
       "  <thead>\n",
       "    <tr style=\"text-align: right;\">\n",
       "      <th></th>\n",
       "      <th>StoreCode</th>\n",
       "      <th>StoreName</th>\n",
       "      <th>StoreType</th>\n",
       "      <th>Location</th>\n",
       "    </tr>\n",
       "  </thead>\n",
       "  <tbody>\n",
       "    <tr>\n",
       "      <th>0</th>\n",
       "      <td>STR101</td>\n",
       "      <td>ELECTRONICS ZONE</td>\n",
       "      <td>ELECTRONINCS</td>\n",
       "      <td>DELHI</td>\n",
       "    </tr>\n",
       "    <tr>\n",
       "      <th>1</th>\n",
       "      <td>STR102</td>\n",
       "      <td>APPAREL ZONE</td>\n",
       "      <td>APPAREL</td>\n",
       "      <td>DELHI</td>\n",
       "    </tr>\n",
       "  </tbody>\n",
       "</table>\n",
       "</div>"
      ],
      "text/plain": [
       "  StoreCode         StoreName     StoreType Location\n",
       "0    STR101  ELECTRONICS ZONE  ELECTRONINCS    DELHI\n",
       "1    STR102      APPAREL ZONE       APPAREL    DELHI"
      ]
     },
     "execution_count": 96,
     "metadata": {},
     "output_type": "execute_result"
    }
   ],
   "source": [
    "stores.loc[:, stores.dtypes == 'object' ].applymap( lambda x: x.upper() ).head(2)"
   ]
  },
  {
   "cell_type": "code",
   "execution_count": 98,
   "id": "aa19d5ef",
   "metadata": {},
   "outputs": [
    {
     "data": {
      "text/html": [
       "<div>\n",
       "<style scoped>\n",
       "    .dataframe tbody tr th:only-of-type {\n",
       "        vertical-align: middle;\n",
       "    }\n",
       "\n",
       "    .dataframe tbody tr th {\n",
       "        vertical-align: top;\n",
       "    }\n",
       "\n",
       "    .dataframe thead th {\n",
       "        text-align: right;\n",
       "    }\n",
       "</style>\n",
       "<table border=\"1\" class=\"dataframe\">\n",
       "  <thead>\n",
       "    <tr style=\"text-align: right;\">\n",
       "      <th></th>\n",
       "      <th>StoreCode</th>\n",
       "      <th>StoreName</th>\n",
       "      <th>StoreType</th>\n",
       "      <th>Location</th>\n",
       "    </tr>\n",
       "  </thead>\n",
       "  <tbody>\n",
       "    <tr>\n",
       "      <th>0</th>\n",
       "      <td>STR101</td>\n",
       "      <td>ELECTRONICS ZONE</td>\n",
       "      <td>ELECTRONINCS</td>\n",
       "      <td>DELHI</td>\n",
       "    </tr>\n",
       "    <tr>\n",
       "      <th>1</th>\n",
       "      <td>STR102</td>\n",
       "      <td>APPAREL ZONE</td>\n",
       "      <td>APPAREL</td>\n",
       "      <td>DELHI</td>\n",
       "    </tr>\n",
       "  </tbody>\n",
       "</table>\n",
       "</div>"
      ],
      "text/plain": [
       "  StoreCode         StoreName     StoreType Location\n",
       "0    STR101  ELECTRONICS ZONE  ELECTRONINCS    DELHI\n",
       "1    STR102      APPAREL ZONE       APPAREL    DELHI"
      ]
     },
     "execution_count": 98,
     "metadata": {},
     "output_type": "execute_result"
    }
   ],
   "source": [
    "stores.loc[:, stores.dtypes == 'object' ].apply( lambda x: x.str.upper() ).head(2)"
   ]
  },
  {
   "cell_type": "code",
   "execution_count": 105,
   "id": "f8f64c85",
   "metadata": {},
   "outputs": [
    {
     "data": {
      "text/html": [
       "<div>\n",
       "<style scoped>\n",
       "    .dataframe tbody tr th:only-of-type {\n",
       "        vertical-align: middle;\n",
       "    }\n",
       "\n",
       "    .dataframe tbody tr th {\n",
       "        vertical-align: top;\n",
       "    }\n",
       "\n",
       "    .dataframe thead th {\n",
       "        text-align: right;\n",
       "    }\n",
       "</style>\n",
       "<table border=\"1\" class=\"dataframe\">\n",
       "  <thead>\n",
       "    <tr style=\"text-align: right;\">\n",
       "      <th></th>\n",
       "      <th>StoreCode</th>\n",
       "      <th>StoreName</th>\n",
       "      <th>StoreType</th>\n",
       "      <th>Location</th>\n",
       "      <th>OperatingCost</th>\n",
       "      <th>TotalSales</th>\n",
       "      <th>AcqCostPercust</th>\n",
       "      <th>BasketSize</th>\n",
       "      <th>ProfitPercust</th>\n",
       "      <th>Dummy</th>\n",
       "    </tr>\n",
       "  </thead>\n",
       "  <tbody>\n",
       "    <tr>\n",
       "      <th>0</th>\n",
       "      <td>STR101</td>\n",
       "      <td>Electronics Zone</td>\n",
       "      <td>Electronincs</td>\n",
       "      <td>Delhi</td>\n",
       "      <td>21.0</td>\n",
       "      <td>160.0</td>\n",
       "      <td>3.9</td>\n",
       "      <td>2.620</td>\n",
       "      <td>16.46</td>\n",
       "      <td>NaN</td>\n",
       "    </tr>\n",
       "    <tr>\n",
       "      <th>1</th>\n",
       "      <td>STR102</td>\n",
       "      <td>Apparel Zone</td>\n",
       "      <td>Apparel</td>\n",
       "      <td>Delhi</td>\n",
       "      <td>21.0</td>\n",
       "      <td>160.0</td>\n",
       "      <td>3.9</td>\n",
       "      <td>2.875</td>\n",
       "      <td>17.02</td>\n",
       "      <td>NaN</td>\n",
       "    </tr>\n",
       "  </tbody>\n",
       "</table>\n",
       "</div>"
      ],
      "text/plain": [
       "  StoreCode         StoreName     StoreType Location  OperatingCost  \\\n",
       "0    STR101  Electronics Zone  Electronincs    Delhi           21.0   \n",
       "1    STR102      Apparel Zone       Apparel    Delhi           21.0   \n",
       "\n",
       "   TotalSales  AcqCostPercust  BasketSize  ProfitPercust  Dummy  \n",
       "0       160.0             3.9       2.620          16.46    NaN  \n",
       "1       160.0             3.9       2.875          17.02    NaN  "
      ]
     },
     "execution_count": 105,
     "metadata": {},
     "output_type": "execute_result"
    }
   ],
   "source": [
    "stores.select_dtypes( exclude = ['int64'] ).head(2)"
   ]
  },
  {
   "cell_type": "markdown",
   "id": "981b0c15",
   "metadata": {},
   "source": [
    "### get the descriptives"
   ]
  },
  {
   "cell_type": "code",
   "execution_count": 109,
   "id": "b60ce12a",
   "metadata": {},
   "outputs": [
    {
     "data": {
      "text/html": [
       "<div>\n",
       "<style scoped>\n",
       "    .dataframe tbody tr th:only-of-type {\n",
       "        vertical-align: middle;\n",
       "    }\n",
       "\n",
       "    .dataframe tbody tr th {\n",
       "        vertical-align: top;\n",
       "    }\n",
       "\n",
       "    .dataframe thead th {\n",
       "        text-align: right;\n",
       "    }\n",
       "</style>\n",
       "<table border=\"1\" class=\"dataframe\">\n",
       "  <thead>\n",
       "    <tr style=\"text-align: right;\">\n",
       "      <th></th>\n",
       "      <th>count</th>\n",
       "      <th>unique</th>\n",
       "      <th>top</th>\n",
       "      <th>freq</th>\n",
       "    </tr>\n",
       "  </thead>\n",
       "  <tbody>\n",
       "    <tr>\n",
       "      <th>StoreCode</th>\n",
       "      <td>32</td>\n",
       "      <td>32</td>\n",
       "      <td>STR127</td>\n",
       "      <td>1</td>\n",
       "    </tr>\n",
       "    <tr>\n",
       "      <th>StoreName</th>\n",
       "      <td>32</td>\n",
       "      <td>7</td>\n",
       "      <td>Apparel Zone</td>\n",
       "      <td>8</td>\n",
       "    </tr>\n",
       "    <tr>\n",
       "      <th>StoreType</th>\n",
       "      <td>32</td>\n",
       "      <td>3</td>\n",
       "      <td>Super Market</td>\n",
       "      <td>12</td>\n",
       "    </tr>\n",
       "    <tr>\n",
       "      <th>Location</th>\n",
       "      <td>32</td>\n",
       "      <td>4</td>\n",
       "      <td>Chennai</td>\n",
       "      <td>8</td>\n",
       "    </tr>\n",
       "  </tbody>\n",
       "</table>\n",
       "</div>"
      ],
      "text/plain": [
       "          count unique           top freq\n",
       "StoreCode    32     32        STR127    1\n",
       "StoreName    32      7  Apparel Zone    8\n",
       "StoreType    32      3  Super Market   12\n",
       "Location     32      4       Chennai    8"
      ]
     },
     "execution_count": 109,
     "metadata": {},
     "output_type": "execute_result"
    }
   ],
   "source": [
    "stores.describe( include = 'object' ).T"
   ]
  },
  {
   "cell_type": "code",
   "execution_count": 110,
   "id": "cf9d511f",
   "metadata": {},
   "outputs": [],
   "source": [
    "stores.describe?"
   ]
  },
  {
   "cell_type": "code",
   "execution_count": 111,
   "id": "78d748c4",
   "metadata": {},
   "outputs": [
    {
     "data": {
      "text/plain": [
       "7383.099999999999"
      ]
     },
     "execution_count": 111,
     "metadata": {},
     "output_type": "execute_result"
    }
   ],
   "source": [
    "# get the sum of TotalSales\n",
    "stores.TotalSales.sum()"
   ]
  },
  {
   "cell_type": "code",
   "execution_count": 112,
   "id": "58b4bf17",
   "metadata": {},
   "outputs": [
    {
     "data": {
      "text/plain": [
       "OperatingCost      642.900\n",
       "TotalSales        7383.100\n",
       "AcqCostPercust     105.880\n",
       "BasketSize         102.952\n",
       "ProfitPercust      571.160\n",
       "Dummy                0.000\n",
       "dtype: float64"
      ]
     },
     "execution_count": 112,
     "metadata": {},
     "output_type": "execute_result"
    }
   ],
   "source": [
    "# get me the sum of all float type variables\n",
    "stores.select_dtypes('float').sum()"
   ]
  },
  {
   "cell_type": "code",
   "execution_count": 114,
   "id": "aefeeb8d",
   "metadata": {},
   "outputs": [
    {
     "data": {
      "text/html": [
       "<div>\n",
       "<style scoped>\n",
       "    .dataframe tbody tr th:only-of-type {\n",
       "        vertical-align: middle;\n",
       "    }\n",
       "\n",
       "    .dataframe tbody tr th {\n",
       "        vertical-align: top;\n",
       "    }\n",
       "\n",
       "    .dataframe thead th {\n",
       "        text-align: right;\n",
       "    }\n",
       "</style>\n",
       "<table border=\"1\" class=\"dataframe\">\n",
       "  <thead>\n",
       "    <tr style=\"text-align: right;\">\n",
       "      <th></th>\n",
       "      <th>sum</th>\n",
       "      <th>mean</th>\n",
       "    </tr>\n",
       "  </thead>\n",
       "  <tbody>\n",
       "    <tr>\n",
       "      <th>OperatingCost</th>\n",
       "      <td>642.900</td>\n",
       "      <td>20.090625</td>\n",
       "    </tr>\n",
       "    <tr>\n",
       "      <th>TotalSales</th>\n",
       "      <td>7383.100</td>\n",
       "      <td>230.721875</td>\n",
       "    </tr>\n",
       "    <tr>\n",
       "      <th>AcqCostPercust</th>\n",
       "      <td>105.880</td>\n",
       "      <td>3.651034</td>\n",
       "    </tr>\n",
       "    <tr>\n",
       "      <th>BasketSize</th>\n",
       "      <td>102.952</td>\n",
       "      <td>3.217250</td>\n",
       "    </tr>\n",
       "    <tr>\n",
       "      <th>ProfitPercust</th>\n",
       "      <td>571.160</td>\n",
       "      <td>17.848750</td>\n",
       "    </tr>\n",
       "    <tr>\n",
       "      <th>Dummy</th>\n",
       "      <td>0.000</td>\n",
       "      <td>NaN</td>\n",
       "    </tr>\n",
       "  </tbody>\n",
       "</table>\n",
       "</div>"
      ],
      "text/plain": [
       "                     sum        mean\n",
       "OperatingCost    642.900   20.090625\n",
       "TotalSales      7383.100  230.721875\n",
       "AcqCostPercust   105.880    3.651034\n",
       "BasketSize       102.952    3.217250\n",
       "ProfitPercust    571.160   17.848750\n",
       "Dummy              0.000         NaN"
      ]
     },
     "execution_count": 114,
     "metadata": {},
     "output_type": "execute_result"
    }
   ],
   "source": [
    "# get me the sum and mean of all float type variables\n",
    "stores.select_dtypes('float').agg(['sum', 'mean']).T"
   ]
  },
  {
   "cell_type": "code",
   "execution_count": 115,
   "id": "314d82a6",
   "metadata": {},
   "outputs": [],
   "source": [
    "# get me the sum, mean, min, max, p1, p5, p10, p25, p50, p75, p90, p95, p99, std, var, \n",
    "# cardinality, #nmiss, %miss, uc, lc with iqr of all float type variables"
   ]
  },
  {
   "cell_type": "code",
   "execution_count": 135,
   "id": "2c5cefec",
   "metadata": {},
   "outputs": [],
   "source": [
    "# write a UDF to caluclate the sum and mean of the series object\n",
    "def fn_descriptive( x ):\n",
    "    \n",
    "    # missing values calculation\n",
    "    ntot = x.shape[0]\n",
    "    n = x.count()\n",
    "    nmiss = ntot - n\n",
    "    nmiss_perc = nmiss/ntot\n",
    "    \n",
    "    # get the lc and uc using IQR\n",
    "    q1 = x.quantile(0.25)\n",
    "    q3 = x.quantile(0.75)\n",
    "    IQR =  q3 - q1\n",
    "    lc_iqr = q1 - 1.5 * IQR\n",
    "    uc_iqr = q3 + 1.5 * IQR\n",
    "    \n",
    "    # return the descripitves\n",
    "    return pd.Series( [x.dtype, x.nunique(), \n",
    "                       ntot, n, nmiss, nmiss_perc,\n",
    "                       IQR, lc_iqr, uc_iqr, \n",
    "                       x.sum(), x.mean(), x.var(), x.std(), \n",
    "                       x.min(),\n",
    "                       x.quantile(0.01), x.quantile(0.05), x.quantile(0.10), \n",
    "                       x.quantile(0.25), x.quantile(0.5), x.quantile(0.75), \n",
    "                       x.quantile(0.90), x.quantile(0.95), x.quantile(0.99),\n",
    "                       x.max()], \n",
    "                    index = ['dtype', 'cardinality',\n",
    "                             'ntot', 'n', 'nmiss', 'nmiss_perc', \n",
    "                             'IQR', 'lc_iqr', 'uc_iqr', \n",
    "                             'sum', 'mean', 'var', 'std', \n",
    "                             'min', \n",
    "                             'p1', 'p5', 'p10',\n",
    "                             'p25', 'p50', 'p75', \n",
    "                             'p90', 'p95', 'p99',\n",
    "                             'max'])"
   ]
  },
  {
   "cell_type": "code",
   "execution_count": 122,
   "id": "cd8082b9",
   "metadata": {},
   "outputs": [
    {
     "data": {
      "text/plain": [
       "sum     7383.100000\n",
       "mean     230.721875\n",
       "dtype: float64"
      ]
     },
     "execution_count": 122,
     "metadata": {},
     "output_type": "execute_result"
    }
   ],
   "source": [
    "fn_descriptive( stores.TotalSales )"
   ]
  },
  {
   "cell_type": "code",
   "execution_count": 136,
   "id": "99bb4fc9",
   "metadata": {},
   "outputs": [
    {
     "data": {
      "text/html": [
       "<div>\n",
       "<style scoped>\n",
       "    .dataframe tbody tr th:only-of-type {\n",
       "        vertical-align: middle;\n",
       "    }\n",
       "\n",
       "    .dataframe tbody tr th {\n",
       "        vertical-align: top;\n",
       "    }\n",
       "\n",
       "    .dataframe thead th {\n",
       "        text-align: right;\n",
       "    }\n",
       "</style>\n",
       "<table border=\"1\" class=\"dataframe\">\n",
       "  <thead>\n",
       "    <tr style=\"text-align: right;\">\n",
       "      <th></th>\n",
       "      <th>OperatingCost</th>\n",
       "      <th>Staff_Cnt</th>\n",
       "      <th>TotalSales</th>\n",
       "      <th>Total_Customers</th>\n",
       "      <th>AcqCostPercust</th>\n",
       "      <th>BasketSize</th>\n",
       "      <th>ProfitPercust</th>\n",
       "      <th>Dummy</th>\n",
       "      <th>OwnStore</th>\n",
       "      <th>OnlinePresence</th>\n",
       "      <th>Tenure</th>\n",
       "      <th>StoreSegment</th>\n",
       "    </tr>\n",
       "  </thead>\n",
       "  <tbody>\n",
       "    <tr>\n",
       "      <th>dtype</th>\n",
       "      <td>float64</td>\n",
       "      <td>int64</td>\n",
       "      <td>float64</td>\n",
       "      <td>int64</td>\n",
       "      <td>float64</td>\n",
       "      <td>float64</td>\n",
       "      <td>float64</td>\n",
       "      <td>float64</td>\n",
       "      <td>int64</td>\n",
       "      <td>int64</td>\n",
       "      <td>int64</td>\n",
       "      <td>int64</td>\n",
       "    </tr>\n",
       "    <tr>\n",
       "      <th>cardinality</th>\n",
       "      <td>25</td>\n",
       "      <td>3</td>\n",
       "      <td>27</td>\n",
       "      <td>22</td>\n",
       "      <td>21</td>\n",
       "      <td>29</td>\n",
       "      <td>30</td>\n",
       "      <td>0</td>\n",
       "      <td>2</td>\n",
       "      <td>2</td>\n",
       "      <td>3</td>\n",
       "      <td>4</td>\n",
       "    </tr>\n",
       "    <tr>\n",
       "      <th>ntot</th>\n",
       "      <td>32</td>\n",
       "      <td>32</td>\n",
       "      <td>32</td>\n",
       "      <td>32</td>\n",
       "      <td>32</td>\n",
       "      <td>32</td>\n",
       "      <td>32</td>\n",
       "      <td>32</td>\n",
       "      <td>32</td>\n",
       "      <td>32</td>\n",
       "      <td>32</td>\n",
       "      <td>32</td>\n",
       "    </tr>\n",
       "    <tr>\n",
       "      <th>n</th>\n",
       "      <td>32</td>\n",
       "      <td>32</td>\n",
       "      <td>32</td>\n",
       "      <td>32</td>\n",
       "      <td>29</td>\n",
       "      <td>32</td>\n",
       "      <td>32</td>\n",
       "      <td>0</td>\n",
       "      <td>32</td>\n",
       "      <td>32</td>\n",
       "      <td>32</td>\n",
       "      <td>32</td>\n",
       "    </tr>\n",
       "    <tr>\n",
       "      <th>nmiss</th>\n",
       "      <td>0</td>\n",
       "      <td>0</td>\n",
       "      <td>0</td>\n",
       "      <td>0</td>\n",
       "      <td>3</td>\n",
       "      <td>0</td>\n",
       "      <td>0</td>\n",
       "      <td>32</td>\n",
       "      <td>0</td>\n",
       "      <td>0</td>\n",
       "      <td>0</td>\n",
       "      <td>0</td>\n",
       "    </tr>\n",
       "    <tr>\n",
       "      <th>nmiss_perc</th>\n",
       "      <td>0.0</td>\n",
       "      <td>0.0</td>\n",
       "      <td>0.0</td>\n",
       "      <td>0.0</td>\n",
       "      <td>0.09375</td>\n",
       "      <td>0.0</td>\n",
       "      <td>0.0</td>\n",
       "      <td>1.0</td>\n",
       "      <td>0.0</td>\n",
       "      <td>0.0</td>\n",
       "      <td>0.0</td>\n",
       "      <td>0.0</td>\n",
       "    </tr>\n",
       "    <tr>\n",
       "      <th>IQR</th>\n",
       "      <td>7.375</td>\n",
       "      <td>40.0</td>\n",
       "      <td>205.175</td>\n",
       "      <td>83.5</td>\n",
       "      <td>0.77</td>\n",
       "      <td>1.02875</td>\n",
       "      <td>2.0075</td>\n",
       "      <td>NaN</td>\n",
       "      <td>1.0</td>\n",
       "      <td>1.0</td>\n",
       "      <td>1.0</td>\n",
       "      <td>2.0</td>\n",
       "    </tr>\n",
       "    <tr>\n",
       "      <th>lc_iqr</th>\n",
       "      <td>4.3625</td>\n",
       "      <td>-20.0</td>\n",
       "      <td>-186.9375</td>\n",
       "      <td>-28.75</td>\n",
       "      <td>1.995</td>\n",
       "      <td>1.038125</td>\n",
       "      <td>13.88125</td>\n",
       "      <td>NaN</td>\n",
       "      <td>-1.5</td>\n",
       "      <td>-1.5</td>\n",
       "      <td>1.5</td>\n",
       "      <td>-1.0</td>\n",
       "    </tr>\n",
       "    <tr>\n",
       "      <th>uc_iqr</th>\n",
       "      <td>33.8625</td>\n",
       "      <td>140.0</td>\n",
       "      <td>633.7625</td>\n",
       "      <td>305.25</td>\n",
       "      <td>5.075</td>\n",
       "      <td>5.153125</td>\n",
       "      <td>21.91125</td>\n",
       "      <td>NaN</td>\n",
       "      <td>2.5</td>\n",
       "      <td>2.5</td>\n",
       "      <td>5.5</td>\n",
       "      <td>7.0</td>\n",
       "    </tr>\n",
       "    <tr>\n",
       "      <th>sum</th>\n",
       "      <td>642.9</td>\n",
       "      <td>1980</td>\n",
       "      <td>7383.1</td>\n",
       "      <td>4694</td>\n",
       "      <td>105.88</td>\n",
       "      <td>102.952</td>\n",
       "      <td>571.16</td>\n",
       "      <td>0.0</td>\n",
       "      <td>14</td>\n",
       "      <td>13</td>\n",
       "      <td>118</td>\n",
       "      <td>84</td>\n",
       "    </tr>\n",
       "    <tr>\n",
       "      <th>mean</th>\n",
       "      <td>20.090625</td>\n",
       "      <td>61.875</td>\n",
       "      <td>230.721875</td>\n",
       "      <td>146.6875</td>\n",
       "      <td>3.651034</td>\n",
       "      <td>3.21725</td>\n",
       "      <td>17.84875</td>\n",
       "      <td>NaN</td>\n",
       "      <td>0.4375</td>\n",
       "      <td>0.40625</td>\n",
       "      <td>3.6875</td>\n",
       "      <td>2.625</td>\n",
       "    </tr>\n",
       "    <tr>\n",
       "      <th>var</th>\n",
       "      <td>36.324103</td>\n",
       "      <td>318.951613</td>\n",
       "      <td>15360.799829</td>\n",
       "      <td>4700.866935</td>\n",
       "      <td>0.283731</td>\n",
       "      <td>0.957379</td>\n",
       "      <td>3.193166</td>\n",
       "      <td>NaN</td>\n",
       "      <td>0.254032</td>\n",
       "      <td>0.248992</td>\n",
       "      <td>0.544355</td>\n",
       "      <td>1.467742</td>\n",
       "    </tr>\n",
       "    <tr>\n",
       "      <th>std</th>\n",
       "      <td>6.026948</td>\n",
       "      <td>17.859216</td>\n",
       "      <td>123.938694</td>\n",
       "      <td>68.562868</td>\n",
       "      <td>0.532664</td>\n",
       "      <td>0.978457</td>\n",
       "      <td>1.786943</td>\n",
       "      <td>NaN</td>\n",
       "      <td>0.504016</td>\n",
       "      <td>0.498991</td>\n",
       "      <td>0.737804</td>\n",
       "      <td>1.211504</td>\n",
       "    </tr>\n",
       "    <tr>\n",
       "      <th>min</th>\n",
       "      <td>10.4</td>\n",
       "      <td>40</td>\n",
       "      <td>71.1</td>\n",
       "      <td>52</td>\n",
       "      <td>2.76</td>\n",
       "      <td>1.513</td>\n",
       "      <td>14.5</td>\n",
       "      <td>NaN</td>\n",
       "      <td>0</td>\n",
       "      <td>0</td>\n",
       "      <td>3</td>\n",
       "      <td>1</td>\n",
       "    </tr>\n",
       "    <tr>\n",
       "      <th>p1</th>\n",
       "      <td>10.4</td>\n",
       "      <td>40.0</td>\n",
       "      <td>72.526</td>\n",
       "      <td>55.1</td>\n",
       "      <td>2.76</td>\n",
       "      <td>1.54462</td>\n",
       "      <td>14.531</td>\n",
       "      <td>NaN</td>\n",
       "      <td>0.0</td>\n",
       "      <td>0.0</td>\n",
       "      <td>3.0</td>\n",
       "      <td>1.0</td>\n",
       "    </tr>\n",
       "    <tr>\n",
       "      <th>p5</th>\n",
       "      <td>11.995</td>\n",
       "      <td>40.0</td>\n",
       "      <td>77.35</td>\n",
       "      <td>63.65</td>\n",
       "      <td>2.828</td>\n",
       "      <td>1.736</td>\n",
       "      <td>15.0455</td>\n",
       "      <td>NaN</td>\n",
       "      <td>0.0</td>\n",
       "      <td>0.0</td>\n",
       "      <td>3.0</td>\n",
       "      <td>1.0</td>\n",
       "    </tr>\n",
       "    <tr>\n",
       "      <th>p10</th>\n",
       "      <td>14.34</td>\n",
       "      <td>40.0</td>\n",
       "      <td>80.61</td>\n",
       "      <td>66.0</td>\n",
       "      <td>2.986</td>\n",
       "      <td>1.9555</td>\n",
       "      <td>15.534</td>\n",
       "      <td>NaN</td>\n",
       "      <td>0.0</td>\n",
       "      <td>0.0</td>\n",
       "      <td>3.0</td>\n",
       "      <td>1.0</td>\n",
       "    </tr>\n",
       "    <tr>\n",
       "      <th>p25</th>\n",
       "      <td>15.425</td>\n",
       "      <td>40.0</td>\n",
       "      <td>120.825</td>\n",
       "      <td>96.5</td>\n",
       "      <td>3.15</td>\n",
       "      <td>2.58125</td>\n",
       "      <td>16.8925</td>\n",
       "      <td>NaN</td>\n",
       "      <td>0.0</td>\n",
       "      <td>0.0</td>\n",
       "      <td>3.0</td>\n",
       "      <td>2.0</td>\n",
       "    </tr>\n",
       "    <tr>\n",
       "      <th>p50</th>\n",
       "      <td>19.2</td>\n",
       "      <td>60.0</td>\n",
       "      <td>196.3</td>\n",
       "      <td>123.0</td>\n",
       "      <td>3.73</td>\n",
       "      <td>3.325</td>\n",
       "      <td>17.71</td>\n",
       "      <td>NaN</td>\n",
       "      <td>0.0</td>\n",
       "      <td>0.0</td>\n",
       "      <td>4.0</td>\n",
       "      <td>2.0</td>\n",
       "    </tr>\n",
       "    <tr>\n",
       "      <th>p75</th>\n",
       "      <td>22.8</td>\n",
       "      <td>80.0</td>\n",
       "      <td>326.0</td>\n",
       "      <td>180.0</td>\n",
       "      <td>3.92</td>\n",
       "      <td>3.61</td>\n",
       "      <td>18.9</td>\n",
       "      <td>NaN</td>\n",
       "      <td>1.0</td>\n",
       "      <td>1.0</td>\n",
       "      <td>4.0</td>\n",
       "      <td>4.0</td>\n",
       "    </tr>\n",
       "    <tr>\n",
       "      <th>p90</th>\n",
       "      <td>30.09</td>\n",
       "      <td>80.0</td>\n",
       "      <td>396.0</td>\n",
       "      <td>243.5</td>\n",
       "      <td>4.22</td>\n",
       "      <td>4.0475</td>\n",
       "      <td>19.99</td>\n",
       "      <td>NaN</td>\n",
       "      <td>1.0</td>\n",
       "      <td>1.0</td>\n",
       "      <td>5.0</td>\n",
       "      <td>4.0</td>\n",
       "    </tr>\n",
       "    <tr>\n",
       "      <th>p95</th>\n",
       "      <td>31.3</td>\n",
       "      <td>80.0</td>\n",
       "      <td>449.0</td>\n",
       "      <td>253.55</td>\n",
       "      <td>4.346</td>\n",
       "      <td>5.29275</td>\n",
       "      <td>20.1045</td>\n",
       "      <td>NaN</td>\n",
       "      <td>1.0</td>\n",
       "      <td>1.0</td>\n",
       "      <td>5.0</td>\n",
       "      <td>4.0</td>\n",
       "    </tr>\n",
       "    <tr>\n",
       "      <th>p99</th>\n",
       "      <td>33.435</td>\n",
       "      <td>80.0</td>\n",
       "      <td>468.28</td>\n",
       "      <td>312.99</td>\n",
       "      <td>4.79</td>\n",
       "      <td>5.39951</td>\n",
       "      <td>22.0692</td>\n",
       "      <td>NaN</td>\n",
       "      <td>1.0</td>\n",
       "      <td>1.0</td>\n",
       "      <td>5.0</td>\n",
       "      <td>4.0</td>\n",
       "    </tr>\n",
       "    <tr>\n",
       "      <th>max</th>\n",
       "      <td>33.9</td>\n",
       "      <td>80</td>\n",
       "      <td>472.0</td>\n",
       "      <td>335</td>\n",
       "      <td>4.93</td>\n",
       "      <td>5.424</td>\n",
       "      <td>22.9</td>\n",
       "      <td>NaN</td>\n",
       "      <td>1</td>\n",
       "      <td>1</td>\n",
       "      <td>5</td>\n",
       "      <td>4</td>\n",
       "    </tr>\n",
       "  </tbody>\n",
       "</table>\n",
       "</div>"
      ],
      "text/plain": [
       "            OperatingCost   Staff_Cnt    TotalSales Total_Customers  \\\n",
       "dtype             float64       int64       float64           int64   \n",
       "cardinality            25           3            27              22   \n",
       "ntot                   32          32            32              32   \n",
       "n                      32          32            32              32   \n",
       "nmiss                   0           0             0               0   \n",
       "nmiss_perc            0.0         0.0           0.0             0.0   \n",
       "IQR                 7.375        40.0       205.175            83.5   \n",
       "lc_iqr             4.3625       -20.0     -186.9375          -28.75   \n",
       "uc_iqr            33.8625       140.0      633.7625          305.25   \n",
       "sum                 642.9        1980        7383.1            4694   \n",
       "mean            20.090625      61.875    230.721875        146.6875   \n",
       "var             36.324103  318.951613  15360.799829     4700.866935   \n",
       "std              6.026948   17.859216    123.938694       68.562868   \n",
       "min                  10.4          40          71.1              52   \n",
       "p1                   10.4        40.0        72.526            55.1   \n",
       "p5                 11.995        40.0         77.35           63.65   \n",
       "p10                 14.34        40.0         80.61            66.0   \n",
       "p25                15.425        40.0       120.825            96.5   \n",
       "p50                  19.2        60.0         196.3           123.0   \n",
       "p75                  22.8        80.0         326.0           180.0   \n",
       "p90                 30.09        80.0         396.0           243.5   \n",
       "p95                  31.3        80.0         449.0          253.55   \n",
       "p99                33.435        80.0        468.28          312.99   \n",
       "max                  33.9          80         472.0             335   \n",
       "\n",
       "            AcqCostPercust BasketSize ProfitPercust    Dummy  OwnStore  \\\n",
       "dtype              float64    float64       float64  float64     int64   \n",
       "cardinality             21         29            30        0         2   \n",
       "ntot                    32         32            32       32        32   \n",
       "n                       29         32            32        0        32   \n",
       "nmiss                    3          0             0       32         0   \n",
       "nmiss_perc         0.09375        0.0           0.0      1.0       0.0   \n",
       "IQR                   0.77    1.02875        2.0075      NaN       1.0   \n",
       "lc_iqr               1.995   1.038125      13.88125      NaN      -1.5   \n",
       "uc_iqr               5.075   5.153125      21.91125      NaN       2.5   \n",
       "sum                 105.88    102.952        571.16      0.0        14   \n",
       "mean              3.651034    3.21725      17.84875      NaN    0.4375   \n",
       "var               0.283731   0.957379      3.193166      NaN  0.254032   \n",
       "std               0.532664   0.978457      1.786943      NaN  0.504016   \n",
       "min                   2.76      1.513          14.5      NaN         0   \n",
       "p1                    2.76    1.54462        14.531      NaN       0.0   \n",
       "p5                   2.828      1.736       15.0455      NaN       0.0   \n",
       "p10                  2.986     1.9555        15.534      NaN       0.0   \n",
       "p25                   3.15    2.58125       16.8925      NaN       0.0   \n",
       "p50                   3.73      3.325         17.71      NaN       0.0   \n",
       "p75                   3.92       3.61          18.9      NaN       1.0   \n",
       "p90                   4.22     4.0475         19.99      NaN       1.0   \n",
       "p95                  4.346    5.29275       20.1045      NaN       1.0   \n",
       "p99                   4.79    5.39951       22.0692      NaN       1.0   \n",
       "max                   4.93      5.424          22.9      NaN         1   \n",
       "\n",
       "            OnlinePresence    Tenure StoreSegment  \n",
       "dtype                int64     int64        int64  \n",
       "cardinality              2         3            4  \n",
       "ntot                    32        32           32  \n",
       "n                       32        32           32  \n",
       "nmiss                    0         0            0  \n",
       "nmiss_perc             0.0       0.0          0.0  \n",
       "IQR                    1.0       1.0          2.0  \n",
       "lc_iqr                -1.5       1.5         -1.0  \n",
       "uc_iqr                 2.5       5.5          7.0  \n",
       "sum                     13       118           84  \n",
       "mean               0.40625    3.6875        2.625  \n",
       "var               0.248992  0.544355     1.467742  \n",
       "std               0.498991  0.737804     1.211504  \n",
       "min                      0         3            1  \n",
       "p1                     0.0       3.0          1.0  \n",
       "p5                     0.0       3.0          1.0  \n",
       "p10                    0.0       3.0          1.0  \n",
       "p25                    0.0       3.0          2.0  \n",
       "p50                    0.0       4.0          2.0  \n",
       "p75                    1.0       4.0          4.0  \n",
       "p90                    1.0       5.0          4.0  \n",
       "p95                    1.0       5.0          4.0  \n",
       "p99                    1.0       5.0          4.0  \n",
       "max                      1         5            4  "
      ]
     },
     "execution_count": 136,
     "metadata": {},
     "output_type": "execute_result"
    }
   ],
   "source": [
    "stores.select_dtypes(['float', np.int64]).apply( lambda x: fn_descriptive(x) )"
   ]
  },
  {
   "cell_type": "code",
   "execution_count": 126,
   "id": "16113176",
   "metadata": {},
   "outputs": [
    {
     "data": {
      "text/html": [
       "<div>\n",
       "<style scoped>\n",
       "    .dataframe tbody tr th:only-of-type {\n",
       "        vertical-align: middle;\n",
       "    }\n",
       "\n",
       "    .dataframe tbody tr th {\n",
       "        vertical-align: top;\n",
       "    }\n",
       "\n",
       "    .dataframe thead th {\n",
       "        text-align: right;\n",
       "    }\n",
       "</style>\n",
       "<table border=\"1\" class=\"dataframe\">\n",
       "  <thead>\n",
       "    <tr style=\"text-align: right;\">\n",
       "      <th></th>\n",
       "      <th>sum</th>\n",
       "      <th>mean</th>\n",
       "    </tr>\n",
       "  </thead>\n",
       "  <tbody>\n",
       "    <tr>\n",
       "      <th>OperatingCost</th>\n",
       "      <td>642.900</td>\n",
       "      <td>20.090625</td>\n",
       "    </tr>\n",
       "    <tr>\n",
       "      <th>TotalSales</th>\n",
       "      <td>7383.100</td>\n",
       "      <td>230.721875</td>\n",
       "    </tr>\n",
       "    <tr>\n",
       "      <th>AcqCostPercust</th>\n",
       "      <td>105.880</td>\n",
       "      <td>3.651034</td>\n",
       "    </tr>\n",
       "    <tr>\n",
       "      <th>BasketSize</th>\n",
       "      <td>102.952</td>\n",
       "      <td>3.217250</td>\n",
       "    </tr>\n",
       "    <tr>\n",
       "      <th>ProfitPercust</th>\n",
       "      <td>571.160</td>\n",
       "      <td>17.848750</td>\n",
       "    </tr>\n",
       "    <tr>\n",
       "      <th>Dummy</th>\n",
       "      <td>0.000</td>\n",
       "      <td>NaN</td>\n",
       "    </tr>\n",
       "  </tbody>\n",
       "</table>\n",
       "</div>"
      ],
      "text/plain": [
       "                     sum        mean\n",
       "OperatingCost    642.900   20.090625\n",
       "TotalSales      7383.100  230.721875\n",
       "AcqCostPercust   105.880    3.651034\n",
       "BasketSize       102.952    3.217250\n",
       "ProfitPercust    571.160   17.848750\n",
       "Dummy              0.000         NaN"
      ]
     },
     "execution_count": 126,
     "metadata": {},
     "output_type": "execute_result"
    }
   ],
   "source": [
    "stores.select_dtypes('float').apply( fn_descriptive ).T"
   ]
  },
  {
   "cell_type": "markdown",
   "id": "4b66053d",
   "metadata": {},
   "source": [
    "### np.where()"
   ]
  },
  {
   "cell_type": "code",
   "execution_count": 139,
   "id": "84d90c1f",
   "metadata": {},
   "outputs": [],
   "source": [
    "stores['Discount'] = pd.Series( np.where( stores.Total_Customers > stores.Total_Customers.mean(), \n",
    "                             stores.TotalSales * 0.1, stores.TotalSales * 0.05 ))"
   ]
  },
  {
   "cell_type": "code",
   "execution_count": 141,
   "id": "7d18dcc6",
   "metadata": {},
   "outputs": [
    {
     "data": {
      "text/html": [
       "<div>\n",
       "<style scoped>\n",
       "    .dataframe tbody tr th:only-of-type {\n",
       "        vertical-align: middle;\n",
       "    }\n",
       "\n",
       "    .dataframe tbody tr th {\n",
       "        vertical-align: top;\n",
       "    }\n",
       "\n",
       "    .dataframe thead th {\n",
       "        text-align: right;\n",
       "    }\n",
       "</style>\n",
       "<table border=\"1\" class=\"dataframe\">\n",
       "  <thead>\n",
       "    <tr style=\"text-align: right;\">\n",
       "      <th></th>\n",
       "      <th>StoreCode</th>\n",
       "      <th>StoreName</th>\n",
       "      <th>StoreType</th>\n",
       "      <th>Location</th>\n",
       "      <th>OperatingCost</th>\n",
       "      <th>Staff_Cnt</th>\n",
       "      <th>TotalSales</th>\n",
       "      <th>Total_Customers</th>\n",
       "      <th>AcqCostPercust</th>\n",
       "      <th>BasketSize</th>\n",
       "      <th>ProfitPercust</th>\n",
       "      <th>Dummy</th>\n",
       "      <th>OwnStore</th>\n",
       "      <th>OnlinePresence</th>\n",
       "      <th>Tenure</th>\n",
       "      <th>StoreSegment</th>\n",
       "      <th>Discount</th>\n",
       "    </tr>\n",
       "  </thead>\n",
       "  <tbody>\n",
       "    <tr>\n",
       "      <th>0</th>\n",
       "      <td>STR101</td>\n",
       "      <td>Electronics Zone</td>\n",
       "      <td>Electronincs</td>\n",
       "      <td>Delhi</td>\n",
       "      <td>21.0</td>\n",
       "      <td>60</td>\n",
       "      <td>160.0</td>\n",
       "      <td>110</td>\n",
       "      <td>3.9</td>\n",
       "      <td>2.620</td>\n",
       "      <td>16.46</td>\n",
       "      <td>NaN</td>\n",
       "      <td>0</td>\n",
       "      <td>1</td>\n",
       "      <td>4</td>\n",
       "      <td>4</td>\n",
       "      <td>8.0</td>\n",
       "    </tr>\n",
       "    <tr>\n",
       "      <th>1</th>\n",
       "      <td>STR102</td>\n",
       "      <td>Apparel Zone</td>\n",
       "      <td>Apparel</td>\n",
       "      <td>Delhi</td>\n",
       "      <td>21.0</td>\n",
       "      <td>60</td>\n",
       "      <td>160.0</td>\n",
       "      <td>110</td>\n",
       "      <td>3.9</td>\n",
       "      <td>2.875</td>\n",
       "      <td>17.02</td>\n",
       "      <td>NaN</td>\n",
       "      <td>0</td>\n",
       "      <td>1</td>\n",
       "      <td>4</td>\n",
       "      <td>4</td>\n",
       "      <td>8.0</td>\n",
       "    </tr>\n",
       "  </tbody>\n",
       "</table>\n",
       "</div>"
      ],
      "text/plain": [
       "  StoreCode         StoreName     StoreType Location  OperatingCost  \\\n",
       "0    STR101  Electronics Zone  Electronincs    Delhi           21.0   \n",
       "1    STR102      Apparel Zone       Apparel    Delhi           21.0   \n",
       "\n",
       "   Staff_Cnt  TotalSales  Total_Customers  AcqCostPercust  BasketSize  \\\n",
       "0         60       160.0              110             3.9       2.620   \n",
       "1         60       160.0              110             3.9       2.875   \n",
       "\n",
       "   ProfitPercust  Dummy  OwnStore  OnlinePresence  Tenure  StoreSegment  \\\n",
       "0          16.46    NaN         0               1       4             4   \n",
       "1          17.02    NaN         0               1       4             4   \n",
       "\n",
       "   Discount  \n",
       "0       8.0  \n",
       "1       8.0  "
      ]
     },
     "execution_count": 141,
     "metadata": {},
     "output_type": "execute_result"
    }
   ],
   "source": [
    "stores.head(2)"
   ]
  },
  {
   "cell_type": "markdown",
   "id": "c7202135",
   "metadata": {},
   "source": [
    "### Charts"
   ]
  },
  {
   "cell_type": "raw",
   "id": "ca3c002c",
   "metadata": {},
   "source": [
    "boxplot, histogram,\n",
    "line, area, column, bar : clustered, stacked, 100% stacked\n",
    "pie, doughnut,\n",
    "scatter plot\n",
    "heat map\n",
    "\n",
    "candle stick,\n",
    "pareto,\n",
    "tree map, word clouds, bubble\n",
    "waterfall\n",
    "\n",
    "*******************************************************************\n",
    "Types of variable?\n",
    "categorical: nominal and ordinal\n",
    "continuous\n",
    "\n",
    "Type of analysis?\n",
    "uni-variate: one variable analysis\n",
    "bi-variate: two varaible analysis\n",
    "multi-variate: GT 2 varibles\n",
    "\n",
    "Why to create charts in data science?\n",
    "1. Distributions\n",
    "2. Comparisions\n",
    "3. Composition / Proportion \n",
    "4. Relationships\n",
    "\n",
    "Analysis....\n",
    "uni-variate: one variable analysis\n",
    "    categorical:\n",
    "        Distributions: freqplot / countplots, word clouds\n",
    "        Composition: pie, doughnut, 100% stacked charts\n",
    "        \n",
    "    continuous:\n",
    "        Distributions: hist, boxplot\n",
    "\n",
    "bi-variate: two varaible analysis\n",
    "    categorical, categorical\n",
    "        Relationships: crosstab, heatmaps\n",
    "        \n",
    "    continuous, continuous\n",
    "        Relationships: scatter plot / xy plot\n",
    "        \n",
    "    categorical, continuous\n",
    "        Comparisions: line, area, column, bar\n",
    "        Composition: pie, doughnut, 100% stacked charts\n",
    "\n",
    "multi variable\n",
    "        Comparisions: line, area, column, bar"
   ]
  },
  {
   "cell_type": "code",
   "execution_count": 143,
   "id": "cc5c0674",
   "metadata": {},
   "outputs": [
    {
     "data": {
      "text/plain": [
       "RangeIndex(start=0, stop=3, step=1)"
      ]
     },
     "execution_count": 143,
     "metadata": {},
     "output_type": "execute_result"
    }
   ],
   "source": [
    "s1.index"
   ]
  },
  {
   "cell_type": "code",
   "execution_count": 147,
   "id": "ef1fd65d",
   "metadata": {},
   "outputs": [
    {
     "data": {
      "text/plain": [
       "3"
      ]
     },
     "execution_count": 147,
     "metadata": {},
     "output_type": "execute_result"
    }
   ],
   "source": [
    "len(s1.values)"
   ]
  },
  {
   "cell_type": "code",
   "execution_count": 153,
   "id": "4ae50586",
   "metadata": {},
   "outputs": [
    {
     "data": {
      "text/plain": [
       "<map at 0x1ee44a2e070>"
      ]
     },
     "execution_count": 153,
     "metadata": {},
     "output_type": "execute_result"
    }
   ],
   "source": [
    "a=('at_home',)\n",
    "(map(lambda x: x.upper(), a))\n"
   ]
  },
  {
   "cell_type": "code",
   "execution_count": 152,
   "id": "f3bbac42",
   "metadata": {},
   "outputs": [
    {
     "ename": "AttributeError",
     "evalue": "'tuple' object has no attribute 'upper'",
     "output_type": "error",
     "traceback": [
      "\u001b[1;31m---------------------------------------------------------------------------\u001b[0m",
      "\u001b[1;31mAttributeError\u001b[0m                            Traceback (most recent call last)",
      "\u001b[1;32m<ipython-input-152-b9d8f89049c4>\u001b[0m in \u001b[0;36m<module>\u001b[1;34m\u001b[0m\n\u001b[1;32m----> 1\u001b[1;33m \u001b[0ma\u001b[0m\u001b[1;33m.\u001b[0m\u001b[0mupper\u001b[0m\u001b[1;33m(\u001b[0m\u001b[1;33m)\u001b[0m\u001b[1;33m\u001b[0m\u001b[1;33m\u001b[0m\u001b[0m\n\u001b[0m",
      "\u001b[1;31mAttributeError\u001b[0m: 'tuple' object has no attribute 'upper'"
     ]
    }
   ],
   "source": [
    "a.upper()"
   ]
  },
  {
   "cell_type": "code",
   "execution_count": null,
   "id": "f515c6d5",
   "metadata": {},
   "outputs": [],
   "source": []
  }
 ],
 "metadata": {
  "kernelspec": {
   "display_name": "Python 3 (ipykernel)",
   "language": "python",
   "name": "python3"
  },
  "language_info": {
   "codemirror_mode": {
    "name": "ipython",
    "version": 3
   },
   "file_extension": ".py",
   "mimetype": "text/x-python",
   "name": "python",
   "nbconvert_exporter": "python",
   "pygments_lexer": "ipython3",
   "version": "3.9.7"
  }
 },
 "nbformat": 4,
 "nbformat_minor": 5
}
